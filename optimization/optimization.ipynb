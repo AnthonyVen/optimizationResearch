{
  "cells": [
    {
      "cell_type": "code",
      "source": [
        "import location as lc\n",
        "import pandas as pd"
      ],
      "outputs": [],
      "execution_count": 1,
      "metadata": {}
    },
    {
      "cell_type": "code",
      "source": [
        "stopsdf = pd.read_csv(\"../get_stops_data/b20-stops-data/b20-north-stops-data.csv\")\n",
        "stopsdf.head()"
      ],
      "outputs": [
        {
          "output_type": "execute_result",
          "execution_count": 2,
          "data": {
            "text/plain": [
              "   StopID                             Name       AtStreet BayNo       City  \\\n",
              "0   51202    WB HARRISON DR NS VICTORIA DR    VICTORIA DR     N  VANCOUVER   \n",
              "1   51203  NB VICTORIA DR FS FRASERVIEW DR  FRASERVIEW DR     N  VANCOUVER   \n",
              "2   51204       NB VICTORIA DR FS E 61 AVE       E 61 AVE     N  VANCOUVER   \n",
              "3   51205  NB VICTORIA DR FS BRIGADOON AVE  BRIGADOON AVE     N  VANCOUVER   \n",
              "4   51206      NB VICTORIA DR FS UPLAND DR      UPLAND DR     N  VANCOUVER   \n",
              "\n",
              "         Lat        Long     OnStreet    Routes  WheelchairAccess  \n",
              "0  49.210673 -123.065781  HARRISON DR       020              True  \n",
              "1  49.212765 -123.065964  VICTORIA DR  020, N20              True  \n",
              "2  49.214832 -123.065913  VICTORIA DR  020, N20              True  \n",
              "3  49.216910 -123.065874  VICTORIA DR  020, N20              True  \n",
              "4  49.218398 -123.065832  VICTORIA DR  020, N20              True  "
            ],
            "text/html": [
              "<div>\n",
              "<style scoped>\n",
              "    .dataframe tbody tr th:only-of-type {\n",
              "        vertical-align: middle;\n",
              "    }\n",
              "\n",
              "    .dataframe tbody tr th {\n",
              "        vertical-align: top;\n",
              "    }\n",
              "\n",
              "    .dataframe thead th {\n",
              "        text-align: right;\n",
              "    }\n",
              "</style>\n",
              "<table border=\"1\" class=\"dataframe\">\n",
              "  <thead>\n",
              "    <tr style=\"text-align: right;\">\n",
              "      <th></th>\n",
              "      <th>StopID</th>\n",
              "      <th>Name</th>\n",
              "      <th>AtStreet</th>\n",
              "      <th>BayNo</th>\n",
              "      <th>City</th>\n",
              "      <th>Lat</th>\n",
              "      <th>Long</th>\n",
              "      <th>OnStreet</th>\n",
              "      <th>Routes</th>\n",
              "      <th>WheelchairAccess</th>\n",
              "    </tr>\n",
              "  </thead>\n",
              "  <tbody>\n",
              "    <tr>\n",
              "      <th>0</th>\n",
              "      <td>51202</td>\n",
              "      <td>WB HARRISON DR NS VICTORIA DR</td>\n",
              "      <td>VICTORIA DR</td>\n",
              "      <td>N</td>\n",
              "      <td>VANCOUVER</td>\n",
              "      <td>49.210673</td>\n",
              "      <td>-123.065781</td>\n",
              "      <td>HARRISON DR</td>\n",
              "      <td>020</td>\n",
              "      <td>True</td>\n",
              "    </tr>\n",
              "    <tr>\n",
              "      <th>1</th>\n",
              "      <td>51203</td>\n",
              "      <td>NB VICTORIA DR FS FRASERVIEW DR</td>\n",
              "      <td>FRASERVIEW DR</td>\n",
              "      <td>N</td>\n",
              "      <td>VANCOUVER</td>\n",
              "      <td>49.212765</td>\n",
              "      <td>-123.065964</td>\n",
              "      <td>VICTORIA DR</td>\n",
              "      <td>020, N20</td>\n",
              "      <td>True</td>\n",
              "    </tr>\n",
              "    <tr>\n",
              "      <th>2</th>\n",
              "      <td>51204</td>\n",
              "      <td>NB VICTORIA DR FS E 61 AVE</td>\n",
              "      <td>E 61 AVE</td>\n",
              "      <td>N</td>\n",
              "      <td>VANCOUVER</td>\n",
              "      <td>49.214832</td>\n",
              "      <td>-123.065913</td>\n",
              "      <td>VICTORIA DR</td>\n",
              "      <td>020, N20</td>\n",
              "      <td>True</td>\n",
              "    </tr>\n",
              "    <tr>\n",
              "      <th>3</th>\n",
              "      <td>51205</td>\n",
              "      <td>NB VICTORIA DR FS BRIGADOON AVE</td>\n",
              "      <td>BRIGADOON AVE</td>\n",
              "      <td>N</td>\n",
              "      <td>VANCOUVER</td>\n",
              "      <td>49.216910</td>\n",
              "      <td>-123.065874</td>\n",
              "      <td>VICTORIA DR</td>\n",
              "      <td>020, N20</td>\n",
              "      <td>True</td>\n",
              "    </tr>\n",
              "    <tr>\n",
              "      <th>4</th>\n",
              "      <td>51206</td>\n",
              "      <td>NB VICTORIA DR FS UPLAND DR</td>\n",
              "      <td>UPLAND DR</td>\n",
              "      <td>N</td>\n",
              "      <td>VANCOUVER</td>\n",
              "      <td>49.218398</td>\n",
              "      <td>-123.065832</td>\n",
              "      <td>VICTORIA DR</td>\n",
              "      <td>020, N20</td>\n",
              "      <td>True</td>\n",
              "    </tr>\n",
              "  </tbody>\n",
              "</table>\n",
              "</div>"
            ]
          },
          "metadata": {}
        }
      ],
      "execution_count": 2,
      "metadata": {}
    },
    {
      "cell_type": "code",
      "source": [
        "stops = []\n",
        "\n",
        "# iterate through each stop and init BusStop objects\n",
        "for stop in stopsdf.iloc:\n",
        "    connectedness = len(stop['Routes'].split(','))\n",
        "    bstop = lc.BusStop(stop['Lat'], stop['Long'], stop['StopID'],[], connectedness)\n",
        "    stops.append(bstop)\n"
      ],
      "outputs": [],
      "execution_count": 3,
      "metadata": {}
    },
    {
      "cell_type": "code",
      "source": [
        "areadf = pd.read_csv(\"../stats-canada-data/DA.csv\")\n",
        "areadf.head()"
      ],
      "outputs": [
        {
          "output_type": "execute_result",
          "execution_count": 4,
          "data": {
            "text/plain": [
              "      DAuid  DApop_2016  DAtdwell_2016  DAurdwell_2016  DAarea  DAir_2016  \\\n",
              "0  59150307         632            273             254  0.2994          0   \n",
              "1  59150308         501            223             203  0.1095          0   \n",
              "2  59150309         745            299             269  0.1118          0   \n",
              "3  59150310         536            310             283  0.1095          0   \n",
              "4  59150311         532            199             181  0.0810          0   \n",
              "\n",
              "       DArplamx      DArplamy    DArplat    DArplong  PRuid  CDcode  ADAcode  \\\n",
              "0  4.025164e+06  2.004585e+06  49.287698 -123.026031     59      15       59   \n",
              "1  4.024986e+06  2.004256e+06  49.284329 -123.026065     59      15       59   \n",
              "2  4.024664e+06  2.004196e+06  49.282483 -123.029585     59      15       59   \n",
              "3  4.024866e+06  2.003949e+06  49.281378 -123.025534     59      15       59   \n",
              "4  4.024531e+06  2.003835e+06  49.279058 -123.028871     59      15       59   \n",
              "\n",
              "   DAcode  ERcode  CCScode  CSDcode  CMAuid  CTname  CTcode  \n",
              "0     307      20       22       22     933   53.02    5286  \n",
              "1     308      20       22       22     933   53.02    5286  \n",
              "2     309      20       22       22     933   53.02    5286  \n",
              "3     310      20       22       22     933   53.02    5286  \n",
              "4     311      20       22       22     933   53.02    5286  "
            ],
            "text/html": [
              "<div>\n",
              "<style scoped>\n",
              "    .dataframe tbody tr th:only-of-type {\n",
              "        vertical-align: middle;\n",
              "    }\n",
              "\n",
              "    .dataframe tbody tr th {\n",
              "        vertical-align: top;\n",
              "    }\n",
              "\n",
              "    .dataframe thead th {\n",
              "        text-align: right;\n",
              "    }\n",
              "</style>\n",
              "<table border=\"1\" class=\"dataframe\">\n",
              "  <thead>\n",
              "    <tr style=\"text-align: right;\">\n",
              "      <th></th>\n",
              "      <th>DAuid</th>\n",
              "      <th>DApop_2016</th>\n",
              "      <th>DAtdwell_2016</th>\n",
              "      <th>DAurdwell_2016</th>\n",
              "      <th>DAarea</th>\n",
              "      <th>DAir_2016</th>\n",
              "      <th>DArplamx</th>\n",
              "      <th>DArplamy</th>\n",
              "      <th>DArplat</th>\n",
              "      <th>DArplong</th>\n",
              "      <th>PRuid</th>\n",
              "      <th>CDcode</th>\n",
              "      <th>ADAcode</th>\n",
              "      <th>DAcode</th>\n",
              "      <th>ERcode</th>\n",
              "      <th>CCScode</th>\n",
              "      <th>CSDcode</th>\n",
              "      <th>CMAuid</th>\n",
              "      <th>CTname</th>\n",
              "      <th>CTcode</th>\n",
              "    </tr>\n",
              "  </thead>\n",
              "  <tbody>\n",
              "    <tr>\n",
              "      <th>0</th>\n",
              "      <td>59150307</td>\n",
              "      <td>632</td>\n",
              "      <td>273</td>\n",
              "      <td>254</td>\n",
              "      <td>0.2994</td>\n",
              "      <td>0</td>\n",
              "      <td>4.025164e+06</td>\n",
              "      <td>2.004585e+06</td>\n",
              "      <td>49.287698</td>\n",
              "      <td>-123.026031</td>\n",
              "      <td>59</td>\n",
              "      <td>15</td>\n",
              "      <td>59</td>\n",
              "      <td>307</td>\n",
              "      <td>20</td>\n",
              "      <td>22</td>\n",
              "      <td>22</td>\n",
              "      <td>933</td>\n",
              "      <td>53.02</td>\n",
              "      <td>5286</td>\n",
              "    </tr>\n",
              "    <tr>\n",
              "      <th>1</th>\n",
              "      <td>59150308</td>\n",
              "      <td>501</td>\n",
              "      <td>223</td>\n",
              "      <td>203</td>\n",
              "      <td>0.1095</td>\n",
              "      <td>0</td>\n",
              "      <td>4.024986e+06</td>\n",
              "      <td>2.004256e+06</td>\n",
              "      <td>49.284329</td>\n",
              "      <td>-123.026065</td>\n",
              "      <td>59</td>\n",
              "      <td>15</td>\n",
              "      <td>59</td>\n",
              "      <td>308</td>\n",
              "      <td>20</td>\n",
              "      <td>22</td>\n",
              "      <td>22</td>\n",
              "      <td>933</td>\n",
              "      <td>53.02</td>\n",
              "      <td>5286</td>\n",
              "    </tr>\n",
              "    <tr>\n",
              "      <th>2</th>\n",
              "      <td>59150309</td>\n",
              "      <td>745</td>\n",
              "      <td>299</td>\n",
              "      <td>269</td>\n",
              "      <td>0.1118</td>\n",
              "      <td>0</td>\n",
              "      <td>4.024664e+06</td>\n",
              "      <td>2.004196e+06</td>\n",
              "      <td>49.282483</td>\n",
              "      <td>-123.029585</td>\n",
              "      <td>59</td>\n",
              "      <td>15</td>\n",
              "      <td>59</td>\n",
              "      <td>309</td>\n",
              "      <td>20</td>\n",
              "      <td>22</td>\n",
              "      <td>22</td>\n",
              "      <td>933</td>\n",
              "      <td>53.02</td>\n",
              "      <td>5286</td>\n",
              "    </tr>\n",
              "    <tr>\n",
              "      <th>3</th>\n",
              "      <td>59150310</td>\n",
              "      <td>536</td>\n",
              "      <td>310</td>\n",
              "      <td>283</td>\n",
              "      <td>0.1095</td>\n",
              "      <td>0</td>\n",
              "      <td>4.024866e+06</td>\n",
              "      <td>2.003949e+06</td>\n",
              "      <td>49.281378</td>\n",
              "      <td>-123.025534</td>\n",
              "      <td>59</td>\n",
              "      <td>15</td>\n",
              "      <td>59</td>\n",
              "      <td>310</td>\n",
              "      <td>20</td>\n",
              "      <td>22</td>\n",
              "      <td>22</td>\n",
              "      <td>933</td>\n",
              "      <td>53.02</td>\n",
              "      <td>5286</td>\n",
              "    </tr>\n",
              "    <tr>\n",
              "      <th>4</th>\n",
              "      <td>59150311</td>\n",
              "      <td>532</td>\n",
              "      <td>199</td>\n",
              "      <td>181</td>\n",
              "      <td>0.0810</td>\n",
              "      <td>0</td>\n",
              "      <td>4.024531e+06</td>\n",
              "      <td>2.003835e+06</td>\n",
              "      <td>49.279058</td>\n",
              "      <td>-123.028871</td>\n",
              "      <td>59</td>\n",
              "      <td>15</td>\n",
              "      <td>59</td>\n",
              "      <td>311</td>\n",
              "      <td>20</td>\n",
              "      <td>22</td>\n",
              "      <td>22</td>\n",
              "      <td>933</td>\n",
              "      <td>53.02</td>\n",
              "      <td>5286</td>\n",
              "    </tr>\n",
              "  </tbody>\n",
              "</table>\n",
              "</div>"
            ]
          },
          "metadata": {}
        }
      ],
      "execution_count": 4,
      "metadata": {}
    },
    {
      "cell_type": "code",
      "source": [
        "areas = []\n",
        "\n",
        "# iterate through each area and init Block objects\n",
        "for area in areadf.iloc:\n",
        "    area = lc.Block(area['DArplat'], area['DArplong'], area['DAuid'],int(area['DApop_2016']),int(area['DAurdwell_2016']), [])\n",
        "    areas.append(area)"
      ],
      "outputs": [],
      "execution_count": 5,
      "metadata": {}
    },
    {
      "cell_type": "markdown",
      "source": [
        "For each stop we find neighboring areas within $x$ km"
      ],
      "metadata": {}
    },
    {
      "cell_type": "code",
      "source": [
        "dist = 0.5\n",
        "# find neighborhood for each stop\n",
        "for stop in stops:\n",
        "    stop.findNeighbors(areas, dist)"
      ],
      "outputs": [],
      "execution_count": 6,
      "metadata": {}
    },
    {
      "cell_type": "markdown",
      "source": [
        "Create a data frame for stops which contains StopID, Lat, Long and Connectedness"
      ],
      "metadata": {}
    },
    {
      "cell_type": "code",
      "source": [
        "stopId = [stop.id for stop in stops]\n",
        "lat = [stop.lat for stop in stops]\n",
        "long = [stop.long for stop in stops]\n",
        "conect = [stop.connectedness for stop in stops]\n",
        "d = {'stopId':stopId, 'lat':lat, 'long':long, 'connectedness':conect}\n",
        "stopVizDf = pd.DataFrame(data=d)\n",
        "stopVizDf.head()"
      ],
      "outputs": [
        {
          "output_type": "execute_result",
          "execution_count": 7,
          "data": {
            "text/plain": [
              "   stopId        lat        long  connectedness\n",
              "0   51202  49.210673 -123.065781              1\n",
              "1   51203  49.212765 -123.065964              2\n",
              "2   51204  49.214832 -123.065913              2\n",
              "3   51205  49.216910 -123.065874              2\n",
              "4   51206  49.218398 -123.065832              2"
            ],
            "text/html": [
              "<div>\n",
              "<style scoped>\n",
              "    .dataframe tbody tr th:only-of-type {\n",
              "        vertical-align: middle;\n",
              "    }\n",
              "\n",
              "    .dataframe tbody tr th {\n",
              "        vertical-align: top;\n",
              "    }\n",
              "\n",
              "    .dataframe thead th {\n",
              "        text-align: right;\n",
              "    }\n",
              "</style>\n",
              "<table border=\"1\" class=\"dataframe\">\n",
              "  <thead>\n",
              "    <tr style=\"text-align: right;\">\n",
              "      <th></th>\n",
              "      <th>stopId</th>\n",
              "      <th>lat</th>\n",
              "      <th>long</th>\n",
              "      <th>connectedness</th>\n",
              "    </tr>\n",
              "  </thead>\n",
              "  <tbody>\n",
              "    <tr>\n",
              "      <th>0</th>\n",
              "      <td>51202</td>\n",
              "      <td>49.210673</td>\n",
              "      <td>-123.065781</td>\n",
              "      <td>1</td>\n",
              "    </tr>\n",
              "    <tr>\n",
              "      <th>1</th>\n",
              "      <td>51203</td>\n",
              "      <td>49.212765</td>\n",
              "      <td>-123.065964</td>\n",
              "      <td>2</td>\n",
              "    </tr>\n",
              "    <tr>\n",
              "      <th>2</th>\n",
              "      <td>51204</td>\n",
              "      <td>49.214832</td>\n",
              "      <td>-123.065913</td>\n",
              "      <td>2</td>\n",
              "    </tr>\n",
              "    <tr>\n",
              "      <th>3</th>\n",
              "      <td>51205</td>\n",
              "      <td>49.216910</td>\n",
              "      <td>-123.065874</td>\n",
              "      <td>2</td>\n",
              "    </tr>\n",
              "    <tr>\n",
              "      <th>4</th>\n",
              "      <td>51206</td>\n",
              "      <td>49.218398</td>\n",
              "      <td>-123.065832</td>\n",
              "      <td>2</td>\n",
              "    </tr>\n",
              "  </tbody>\n",
              "</table>\n",
              "</div>"
            ]
          },
          "metadata": {}
        }
      ],
      "execution_count": 7,
      "metadata": {}
    },
    {
      "cell_type": "markdown",
      "source": [
        "Create a data frame for all Areas which are in proximity to bus stops"
      ],
      "metadata": {}
    },
    {
      "cell_type": "code",
      "source": [
        "route_areas = []\n",
        "for stop in stops:\n",
        "    route_areas = route_areas + stop.neighborhood\n",
        "\n",
        "print('number of areas along the routeL:',len(route_areas))\n",
        "\n",
        "areaId = [area.id for area in route_areas]\n",
        "lat = [area.lat for area in route_areas]\n",
        "long = [area.long for area in route_areas]\n",
        "popul = [area.pop for area in route_areas]\n",
        "\n",
        "d = {'areaId':areaId, 'lat':lat, 'long':long, 'pop':popul}\n",
        "areaVizDf = pd.DataFrame(data=d)\n",
        "areaVizDf.head()\n"
      ],
      "outputs": [
        {
          "output_type": "stream",
          "name": "stdout",
          "text": [
            "number of areas along the routeL: 464\n"
          ]
        },
        {
          "output_type": "execute_result",
          "execution_count": 8,
          "data": {
            "text/plain": [
              "       areaId        lat        long  pop\n",
              "0  59151209.0  49.210165 -123.069500  667\n",
              "1  59151211.0  49.213535 -123.062329  584\n",
              "2  59151214.0  49.208190 -123.061474  628\n",
              "3  59151215.0  49.207338 -123.063235  543\n",
              "4  59153799.0  49.211912 -123.062435  285"
            ],
            "text/html": [
              "<div>\n",
              "<style scoped>\n",
              "    .dataframe tbody tr th:only-of-type {\n",
              "        vertical-align: middle;\n",
              "    }\n",
              "\n",
              "    .dataframe tbody tr th {\n",
              "        vertical-align: top;\n",
              "    }\n",
              "\n",
              "    .dataframe thead th {\n",
              "        text-align: right;\n",
              "    }\n",
              "</style>\n",
              "<table border=\"1\" class=\"dataframe\">\n",
              "  <thead>\n",
              "    <tr style=\"text-align: right;\">\n",
              "      <th></th>\n",
              "      <th>areaId</th>\n",
              "      <th>lat</th>\n",
              "      <th>long</th>\n",
              "      <th>pop</th>\n",
              "    </tr>\n",
              "  </thead>\n",
              "  <tbody>\n",
              "    <tr>\n",
              "      <th>0</th>\n",
              "      <td>59151209.0</td>\n",
              "      <td>49.210165</td>\n",
              "      <td>-123.069500</td>\n",
              "      <td>667</td>\n",
              "    </tr>\n",
              "    <tr>\n",
              "      <th>1</th>\n",
              "      <td>59151211.0</td>\n",
              "      <td>49.213535</td>\n",
              "      <td>-123.062329</td>\n",
              "      <td>584</td>\n",
              "    </tr>\n",
              "    <tr>\n",
              "      <th>2</th>\n",
              "      <td>59151214.0</td>\n",
              "      <td>49.208190</td>\n",
              "      <td>-123.061474</td>\n",
              "      <td>628</td>\n",
              "    </tr>\n",
              "    <tr>\n",
              "      <th>3</th>\n",
              "      <td>59151215.0</td>\n",
              "      <td>49.207338</td>\n",
              "      <td>-123.063235</td>\n",
              "      <td>543</td>\n",
              "    </tr>\n",
              "    <tr>\n",
              "      <th>4</th>\n",
              "      <td>59153799.0</td>\n",
              "      <td>49.211912</td>\n",
              "      <td>-123.062435</td>\n",
              "      <td>285</td>\n",
              "    </tr>\n",
              "  </tbody>\n",
              "</table>\n",
              "</div>"
            ]
          },
          "metadata": {}
        }
      ],
      "execution_count": 8,
      "metadata": {}
    },
    {
      "cell_type": "code",
      "source": [
        "#Heat map on dark map box\n",
        "import plotly.express as px\n",
        "import plotly.graph_objects as go\n",
        "token = open(\"plotly-key\").read()\n",
        "heat_gradient = [[0, 'green'], [0.5, 'yellow'], [1.0, 'red']] # green low, yellow medium, red highly populated\n",
        "px.set_mapbox_access_token(token)\n",
        "\n",
        "fig = px.density_mapbox(areaVizDf, lat='lat', lon='long', z='pop', # give names of columns to get data from\n",
        "                        radius=18, # Size of the dots\n",
        "                        center=dict(lat=49.25308, lon=-123.0687), #Center it on the middle of the bus route\n",
        "                        zoom=11, # zoom in to where whole route is visible \n",
        "                        color_continuous_scale=heat_gradient, #use chosen gradient\n",
        "                        #mapbox_style=\"streets\", # For now we'll use streets. Will add better css mapbox later\n",
        "                       )\n",
        "\n",
        "fig.update_layout(\n",
        "                  #mapbox_style=\"streets\",#Switch to dark theme for better contrast\n",
        "                  mapbox_accesstoken=token,\n",
        "                  title=\"Population Density Heat Map\",\n",
        "                  coloraxis_colorbar=dict(title=\"Population\") # Configure color bar title\n",
        "                 ) # close layout update\n",
        "\n",
        "fig3 =  go.Figure(go.Scattermapbox(\n",
        "        lat=stopVizDf[\"lat\"],\n",
        "        lon=stopVizDf[\"long\"],\n",
        "        mode='markers',\n",
        "        marker=go.scattermapbox.Marker(\n",
        "            size=7,\n",
        "            color='blue',\n",
        "          \n",
        "            #symbol=\"bus\"\n",
        "     \n",
        "       \n",
        "        ),\n",
        "        text=stopVizDf[\"stopId\"],\n",
        "    ))\n",
        "\n",
        "\n",
        "fig.add_trace(fig3.data[0])\n",
        "fig.show()\n"
      ],
      "outputs": [
        {
          "output_type": "display_data",
          "data": {
            "application/vnd.plotly.v1+json": {
              "config": {
                "plotlyServerURL": "https://plot.ly"
              },
              "data": [
                {
                  "coloraxis": "coloraxis",
                  "hoverlabel": {
                    "namelength": 0
                  },
                  "hovertemplate": "pop=%{z}<br>lat=%{lat}<br>long=%{lon}",
                  "lat": [
                    49.210165,
                    49.213535,
                    49.20819,
                    49.207338,
                    49.211912,
                    49.214017999999996,
                    49.212593,
                    49.210165,
                    49.213535,
                    49.211912,
                    49.214017999999996,
                    49.216671999999996,
                    49.212593,
                    49.216957,
                    49.217799,
                    49.21885,
                    49.213535,
                    49.211912,
                    49.214017999999996,
                    49.216671999999996,
                    49.212593,
                    49.216957,
                    49.217799,
                    49.21885,
                    49.213535,
                    49.214017999999996,
                    49.216671999999996,
                    49.216957,
                    49.217799,
                    49.21885,
                    49.221447999999995,
                    49.221744,
                    49.214017999999996,
                    49.216671999999996,
                    49.217799,
                    49.21885,
                    49.223923,
                    49.221447999999995,
                    49.221744,
                    49.221672,
                    49.224082,
                    49.226683,
                    49.223923,
                    49.221447999999995,
                    49.221744,
                    49.221672,
                    49.225684,
                    49.224082,
                    49.226586,
                    49.226683,
                    49.228966,
                    49.223923,
                    49.221447999999995,
                    49.221744,
                    49.225684,
                    49.224082,
                    49.226586,
                    49.2276,
                    49.229401,
                    49.226683,
                    49.228966,
                    49.223923,
                    49.225684,
                    49.224082,
                    49.226586,
                    49.2276,
                    49.229401,
                    49.231628,
                    49.226683,
                    49.228966,
                    49.230965999999995,
                    49.226586,
                    49.2276,
                    49.229401,
                    49.231628,
                    49.231359999999995,
                    49.233854,
                    49.228966,
                    49.230965999999995,
                    49.229401,
                    49.231628,
                    49.231359999999995,
                    49.234427000000004,
                    49.234433,
                    49.233854,
                    49.228966,
                    49.230965999999995,
                    49.229401,
                    49.231628,
                    49.231359999999995,
                    49.234427000000004,
                    49.234433,
                    49.233854,
                    49.23645,
                    49.234984999999995,
                    49.238772999999995,
                    49.231628,
                    49.234427000000004,
                    49.234433,
                    49.233854,
                    49.23645,
                    49.234984999999995,
                    49.238345,
                    49.236987,
                    49.238873999999996,
                    49.238772999999995,
                    49.234427000000004,
                    49.234433,
                    49.233854,
                    49.23645,
                    49.234984999999995,
                    49.238345,
                    49.236987,
                    49.238997999999995,
                    49.238215000000004,
                    49.238873999999996,
                    49.238772999999995,
                    49.241077000000004,
                    49.234433,
                    49.233854,
                    49.23645,
                    49.234984999999995,
                    49.238345,
                    49.236987,
                    49.238997999999995,
                    49.240466,
                    49.238873999999996,
                    49.238772999999995,
                    49.241077000000004,
                    49.242715000000004,
                    49.243804,
                    49.23645,
                    49.238345,
                    49.238997999999995,
                    49.240466,
                    49.241839,
                    49.243328000000005,
                    49.238873999999996,
                    49.238772999999995,
                    49.241077000000004,
                    49.242715000000004,
                    49.243804,
                    49.238345,
                    49.238997999999995,
                    49.240466,
                    49.241839,
                    49.243328000000005,
                    49.243757,
                    49.245974,
                    49.242715000000004,
                    49.243804,
                    49.245473,
                    49.248028999999995,
                    49.248628000000004,
                    49.241839,
                    49.243328000000005,
                    49.243757,
                    49.245974,
                    49.243804,
                    49.245473,
                    49.248740000000005,
                    49.248028999999995,
                    49.251228000000005,
                    49.248628000000004,
                    49.2519,
                    49.245974,
                    49.247289,
                    49.253083000000004,
                    49.248740000000005,
                    49.248028999999995,
                    49.251228000000005,
                    49.248628000000004,
                    49.2519,
                    49.255033000000005,
                    49.255309000000004,
                    49.255378,
                    49.253083000000004,
                    49.250556,
                    49.251228000000005,
                    49.2519,
                    49.255033000000005,
                    49.257782,
                    49.255309000000004,
                    49.255378,
                    49.253083000000004,
                    49.252883000000004,
                    49.251228000000005,
                    49.255033000000005,
                    49.261528000000006,
                    49.260446,
                    49.259593,
                    49.258771,
                    49.257782,
                    49.255309000000004,
                    49.255378,
                    49.258394,
                    49.264096,
                    49.262809000000004,
                    49.261528000000006,
                    49.260446,
                    49.259593,
                    49.258771,
                    49.257782,
                    49.258394,
                    49.260819,
                    49.260855,
                    49.266444,
                    49.266702,
                    49.265004,
                    49.264096,
                    49.262809000000004,
                    49.261528000000006,
                    49.260446,
                    49.259593,
                    49.258771,
                    49.260819,
                    49.265423999999996,
                    49.260855,
                    49.263465999999994,
                    49.268914,
                    49.267602000000004,
                    49.266444,
                    49.266702,
                    49.265004,
                    49.264096,
                    49.262809000000004,
                    49.261528000000006,
                    49.265423999999996,
                    49.263465999999994,
                    49.266889,
                    49.268696999999996,
                    49.270996000000004,
                    49.271166,
                    49.271862,
                    49.270075,
                    49.268622,
                    49.268914,
                    49.267602000000004,
                    49.266444,
                    49.266702,
                    49.265004,
                    49.264096,
                    49.265423999999996,
                    49.270703999999995,
                    49.266889,
                    49.268696999999996,
                    49.273338,
                    49.270996000000004,
                    49.271166,
                    49.271862,
                    49.273102,
                    49.270941,
                    49.270075,
                    49.268622,
                    49.268914,
                    49.267602000000004,
                    49.266444,
                    49.266702,
                    49.270703999999995,
                    49.266889,
                    49.268696999999996,
                    49.273053000000004,
                    49.273338,
                    49.270996000000004,
                    49.271166,
                    49.271862,
                    49.273102,
                    49.270941,
                    49.270075,
                    49.268914,
                    49.267602000000004,
                    49.270703999999995,
                    49.268696999999996,
                    49.275781,
                    49.274926,
                    49.275331,
                    49.273053000000004,
                    49.273338,
                    49.270996000000004,
                    49.271166,
                    49.271862,
                    49.273102,
                    49.270075,
                    49.270703999999995,
                    49.275781,
                    49.274926,
                    49.275331,
                    49.273053000000004,
                    49.273338,
                    49.270996000000004,
                    49.271166,
                    49.271862,
                    49.273102,
                    49.27803,
                    49.27845,
                    49.277533,
                    49.278883,
                    49.275781,
                    49.274926,
                    49.275331,
                    49.273338,
                    49.279606,
                    49.27803,
                    49.27845,
                    49.277533,
                    49.278883,
                    49.279792,
                    49.280215999999996,
                    49.278895,
                    49.275781,
                    49.274926,
                    49.279606,
                    49.27803,
                    49.27845,
                    49.277533,
                    49.278883,
                    49.279792,
                    49.280215999999996,
                    49.282362,
                    49.278895,
                    49.275781,
                    49.274926,
                    49.279606,
                    49.27803,
                    49.27845,
                    49.277533,
                    49.278883,
                    49.279792,
                    49.280215999999996,
                    49.282362,
                    49.278895,
                    49.279606,
                    49.27803,
                    49.27845,
                    49.278883,
                    49.279792,
                    49.280215999999996,
                    49.282362,
                    49.279395,
                    49.279606,
                    49.27803,
                    49.280215999999996,
                    49.282362,
                    49.279336,
                    49.279395,
                    49.279606,
                    49.279794,
                    49.279336,
                    49.277004999999996,
                    49.279395,
                    49.282396000000006,
                    49.280709,
                    49.279794,
                    49.278785,
                    49.279336,
                    49.277004999999996,
                    49.279395,
                    49.278556,
                    49.283087,
                    49.281687,
                    49.282396000000006,
                    49.280709,
                    49.279794,
                    49.278785,
                    49.279336,
                    49.277452000000004,
                    49.278556,
                    49.278825,
                    49.279854,
                    49.280807,
                    49.281741,
                    49.283229,
                    49.284209000000004,
                    49.282027,
                    49.283087,
                    49.281687,
                    49.282396000000006,
                    49.280709,
                    49.279794,
                    49.278785,
                    49.277452000000004,
                    49.278556,
                    49.278825,
                    49.277145000000004,
                    49.278789,
                    49.279854,
                    49.280807,
                    49.281741,
                    49.283229,
                    49.284209000000004,
                    49.282027,
                    49.283087,
                    49.281687,
                    49.282396000000006,
                    49.280709,
                    49.277452000000004,
                    49.278556,
                    49.278825,
                    49.277145000000004,
                    49.278789,
                    49.279854,
                    49.280807,
                    49.281741,
                    49.283229,
                    49.284209000000004,
                    49.282027,
                    49.283087,
                    49.281687,
                    49.282396000000006,
                    49.280709,
                    49.283613,
                    49.282395,
                    49.28075,
                    49.278825,
                    49.278789,
                    49.279854,
                    49.280807,
                    49.281741,
                    49.283229,
                    49.284209000000004,
                    49.282027,
                    49.283613,
                    49.283121,
                    49.282395,
                    49.282033,
                    49.280573,
                    49.28075,
                    49.282027,
                    49.284159,
                    49.283613,
                    49.283121,
                    49.282395,
                    49.282033,
                    49.280573,
                    49.282542,
                    49.28075,
                    49.279252,
                    49.281926,
                    49.284159,
                    49.283121,
                    49.282033,
                    49.280573,
                    49.282542,
                    49.28075,
                    49.279252,
                    49.281926,
                    49.284976,
                    49.284159,
                    49.283121,
                    49.282033,
                    49.280573,
                    49.282542,
                    49.279252,
                    49.281926,
                    49.284976,
                    49.284159,
                    49.282542,
                    49.281926,
                    49.278882,
                    49.278278,
                    49.278106,
                    49.28107,
                    49.281926,
                    49.278486
                  ],
                  "lon": [
                    -123.0695,
                    -123.062329,
                    -123.061474,
                    -123.063235,
                    -123.06243500000001,
                    -123.06733600000001,
                    -123.06940800000001,
                    -123.0695,
                    -123.062329,
                    -123.06243500000001,
                    -123.06733600000001,
                    -123.069249,
                    -123.06940800000001,
                    -123.060546,
                    -123.063001,
                    -123.06730900000001,
                    -123.062329,
                    -123.06243500000001,
                    -123.06733600000001,
                    -123.069249,
                    -123.06940800000001,
                    -123.060546,
                    -123.063001,
                    -123.06730900000001,
                    -123.062329,
                    -123.06733600000001,
                    -123.069249,
                    -123.060546,
                    -123.063001,
                    -123.06730900000001,
                    -123.067325,
                    -123.064205,
                    -123.06733600000001,
                    -123.069249,
                    -123.063001,
                    -123.06730900000001,
                    -123.067431,
                    -123.067325,
                    -123.064205,
                    -123.060946,
                    -123.062376,
                    -123.070117,
                    -123.067431,
                    -123.067325,
                    -123.064205,
                    -123.060946,
                    -123.062279,
                    -123.062376,
                    -123.066046,
                    -123.070117,
                    -123.067246,
                    -123.067431,
                    -123.067325,
                    -123.064205,
                    -123.062279,
                    -123.062376,
                    -123.066046,
                    -123.061677,
                    -123.062531,
                    -123.070117,
                    -123.067246,
                    -123.067431,
                    -123.062279,
                    -123.062376,
                    -123.066046,
                    -123.061677,
                    -123.062531,
                    -123.064272,
                    -123.070117,
                    -123.067246,
                    -123.069996,
                    -123.066046,
                    -123.061677,
                    -123.062531,
                    -123.064272,
                    -123.05987900000001,
                    -123.067481,
                    -123.067246,
                    -123.069996,
                    -123.062531,
                    -123.064272,
                    -123.05987900000001,
                    -123.060455,
                    -123.06380800000001,
                    -123.067481,
                    -123.067246,
                    -123.069996,
                    -123.062531,
                    -123.064272,
                    -123.05987900000001,
                    -123.060455,
                    -123.06380800000001,
                    -123.067481,
                    -123.065846,
                    -123.070327,
                    -123.06697700000001,
                    -123.064272,
                    -123.060455,
                    -123.06380800000001,
                    -123.067481,
                    -123.065846,
                    -123.070327,
                    -123.063878,
                    -123.06043400000001,
                    -123.069925,
                    -123.06697700000001,
                    -123.060455,
                    -123.06380800000001,
                    -123.067481,
                    -123.065846,
                    -123.070327,
                    -123.063878,
                    -123.06043400000001,
                    -123.06063600000002,
                    -123.07208500000002,
                    -123.069925,
                    -123.06697700000001,
                    -123.069379,
                    -123.06380800000001,
                    -123.067481,
                    -123.065846,
                    -123.070327,
                    -123.063878,
                    -123.06043400000001,
                    -123.06063600000002,
                    -123.06247900000001,
                    -123.069925,
                    -123.06697700000001,
                    -123.069379,
                    -123.07048700000001,
                    -123.06728600000001,
                    -123.065846,
                    -123.063878,
                    -123.06063600000002,
                    -123.06247900000001,
                    -123.060704,
                    -123.064654,
                    -123.069925,
                    -123.06697700000001,
                    -123.069379,
                    -123.07048700000001,
                    -123.06728600000001,
                    -123.063878,
                    -123.06063600000002,
                    -123.06247900000001,
                    -123.060704,
                    -123.064654,
                    -123.059476,
                    -123.0626,
                    -123.07048700000001,
                    -123.06728600000001,
                    -123.070213,
                    -123.0664,
                    -123.06386499999999,
                    -123.060704,
                    -123.064654,
                    -123.059476,
                    -123.0626,
                    -123.06728600000001,
                    -123.070213,
                    -123.06947199999999,
                    -123.0664,
                    -123.067572,
                    -123.06386499999999,
                    -123.062032,
                    -123.0626,
                    -123.058618,
                    -123.068749,
                    -123.06947199999999,
                    -123.0664,
                    -123.067572,
                    -123.06386499999999,
                    -123.062032,
                    -123.06433100000001,
                    -123.06746899999999,
                    -123.07244299999999,
                    -123.068749,
                    -123.071832,
                    -123.067572,
                    -123.062032,
                    -123.06433100000001,
                    -123.067929,
                    -123.06746899999999,
                    -123.07244299999999,
                    -123.068749,
                    -123.074252,
                    -123.067572,
                    -123.06433100000001,
                    -123.069832,
                    -123.071752,
                    -123.06789099999999,
                    -123.071776,
                    -123.067929,
                    -123.06746899999999,
                    -123.07244299999999,
                    -123.07553700000001,
                    -123.06763000000001,
                    -123.073031,
                    -123.069832,
                    -123.071752,
                    -123.06789099999999,
                    -123.071776,
                    -123.067929,
                    -123.07553700000001,
                    -123.07557800000001,
                    -123.063627,
                    -123.07163500000001,
                    -123.06697700000001,
                    -123.07160800000001,
                    -123.06763000000001,
                    -123.073031,
                    -123.069832,
                    -123.071752,
                    -123.06789099999999,
                    -123.071776,
                    -123.07557800000001,
                    -123.074646,
                    -123.063627,
                    -123.06420200000001,
                    -123.072046,
                    -123.07134599999999,
                    -123.07163500000001,
                    -123.06697700000001,
                    -123.07160800000001,
                    -123.06763000000001,
                    -123.073031,
                    -123.069832,
                    -123.074646,
                    -123.06420200000001,
                    -123.064849,
                    -123.067729,
                    -123.06707,
                    -123.07004199999999,
                    -123.07248899999999,
                    -123.07348200000001,
                    -123.07527900000001,
                    -123.072046,
                    -123.07134599999999,
                    -123.07163500000001,
                    -123.06697700000001,
                    -123.07160800000001,
                    -123.06763000000001,
                    -123.074646,
                    -123.064072,
                    -123.064849,
                    -123.067729,
                    -123.068172,
                    -123.06707,
                    -123.07004199999999,
                    -123.07248899999999,
                    -123.07316100000001,
                    -123.075448,
                    -123.07348200000001,
                    -123.07527900000001,
                    -123.072046,
                    -123.07134599999999,
                    -123.07163500000001,
                    -123.06697700000001,
                    -123.064072,
                    -123.064849,
                    -123.067729,
                    -123.06371499999999,
                    -123.068172,
                    -123.06707,
                    -123.07004199999999,
                    -123.07248899999999,
                    -123.07316100000001,
                    -123.075448,
                    -123.07348200000001,
                    -123.072046,
                    -123.07134599999999,
                    -123.064072,
                    -123.067729,
                    -123.067531,
                    -123.073632,
                    -123.064247,
                    -123.06371499999999,
                    -123.068172,
                    -123.06707,
                    -123.07004199999999,
                    -123.07248899999999,
                    -123.07316100000001,
                    -123.07348200000001,
                    -123.064072,
                    -123.067531,
                    -123.073632,
                    -123.064247,
                    -123.06371499999999,
                    -123.068172,
                    -123.06707,
                    -123.07004199999999,
                    -123.07248899999999,
                    -123.07316100000001,
                    -123.07159899999999,
                    -123.069382,
                    -123.06698999999999,
                    -123.06696699999999,
                    -123.067531,
                    -123.073632,
                    -123.064247,
                    -123.068172,
                    -123.072879,
                    -123.07159899999999,
                    -123.069382,
                    -123.06698999999999,
                    -123.06696699999999,
                    -123.066953,
                    -123.069369,
                    -123.064026,
                    -123.067531,
                    -123.073632,
                    -123.072879,
                    -123.07159899999999,
                    -123.069382,
                    -123.06698999999999,
                    -123.06696699999999,
                    -123.066953,
                    -123.069369,
                    -123.069562,
                    -123.064026,
                    -123.067531,
                    -123.073632,
                    -123.072879,
                    -123.07159899999999,
                    -123.069382,
                    -123.06698999999999,
                    -123.06696699999999,
                    -123.066953,
                    -123.069369,
                    -123.069562,
                    -123.064026,
                    -123.072879,
                    -123.07159899999999,
                    -123.069382,
                    -123.06696699999999,
                    -123.066953,
                    -123.069369,
                    -123.069562,
                    -123.08018799999999,
                    -123.072879,
                    -123.07159899999999,
                    -123.069369,
                    -123.069562,
                    -123.083899,
                    -123.08018799999999,
                    -123.072879,
                    -123.086037,
                    -123.083899,
                    -123.083927,
                    -123.08018799999999,
                    -123.090252,
                    -123.09108700000002,
                    -123.086037,
                    -123.08771200000001,
                    -123.083899,
                    -123.083927,
                    -123.08018799999999,
                    -123.091454,
                    -123.09183700000001,
                    -123.092425,
                    -123.090252,
                    -123.09108700000002,
                    -123.086037,
                    -123.08771200000001,
                    -123.083899,
                    -123.092619,
                    -123.091454,
                    -123.09588600000001,
                    -123.095366,
                    -123.09615,
                    -123.095219,
                    -123.096523,
                    -123.09638600000001,
                    -123.098602,
                    -123.09183700000001,
                    -123.092425,
                    -123.090252,
                    -123.09108700000002,
                    -123.086037,
                    -123.08771200000001,
                    -123.092619,
                    -123.091454,
                    -123.09588600000001,
                    -123.09516200000002,
                    -123.098423,
                    -123.095366,
                    -123.09615,
                    -123.095219,
                    -123.096523,
                    -123.09638600000001,
                    -123.098602,
                    -123.09183700000001,
                    -123.092425,
                    -123.090252,
                    -123.09108700000002,
                    -123.092619,
                    -123.091454,
                    -123.09588600000001,
                    -123.09516200000002,
                    -123.098423,
                    -123.095366,
                    -123.09615,
                    -123.095219,
                    -123.096523,
                    -123.09638600000001,
                    -123.098602,
                    -123.09183700000001,
                    -123.092425,
                    -123.090252,
                    -123.09108700000002,
                    -123.10073799999999,
                    -123.10091399999999,
                    -123.10245900000001,
                    -123.09588600000001,
                    -123.098423,
                    -123.095366,
                    -123.09615,
                    -123.095219,
                    -123.096523,
                    -123.09638600000001,
                    -123.098602,
                    -123.10073799999999,
                    -123.10422,
                    -123.10091399999999,
                    -123.10435600000001,
                    -123.105506,
                    -123.10245900000001,
                    -123.098602,
                    -123.10726499999998,
                    -123.10073799999999,
                    -123.10422,
                    -123.10091399999999,
                    -123.10435600000001,
                    -123.105506,
                    -123.10889099999999,
                    -123.10245900000001,
                    -123.10891399999998,
                    -123.11221499999999,
                    -123.10726499999998,
                    -123.10422,
                    -123.10435600000001,
                    -123.105506,
                    -123.10889099999999,
                    -123.10245900000001,
                    -123.10891399999998,
                    -123.11221499999999,
                    -123.113874,
                    -123.10726499999998,
                    -123.10422,
                    -123.10435600000001,
                    -123.105506,
                    -123.10889099999999,
                    -123.10891399999998,
                    -123.11221499999999,
                    -123.113874,
                    -123.10726499999998,
                    -123.10889099999999,
                    -123.11221499999999,
                    -123.121133,
                    -123.11934,
                    -123.11834499999999,
                    -123.118298,
                    -123.11221499999999,
                    -123.115108
                  ],
                  "name": "",
                  "radius": 18,
                  "subplot": "mapbox",
                  "type": "densitymapbox",
                  "z": [
                    667,
                    584,
                    628,
                    543,
                    285,
                    364,
                    549,
                    667,
                    584,
                    285,
                    364,
                    707,
                    549,
                    632,
                    683,
                    822,
                    584,
                    285,
                    364,
                    707,
                    549,
                    632,
                    683,
                    822,
                    584,
                    364,
                    707,
                    632,
                    683,
                    822,
                    597,
                    560,
                    364,
                    707,
                    683,
                    822,
                    616,
                    597,
                    560,
                    573,
                    738,
                    617,
                    616,
                    597,
                    560,
                    573,
                    419,
                    738,
                    782,
                    617,
                    748,
                    616,
                    597,
                    560,
                    419,
                    738,
                    782,
                    646,
                    731,
                    617,
                    748,
                    616,
                    419,
                    738,
                    782,
                    646,
                    731,
                    658,
                    617,
                    748,
                    660,
                    782,
                    646,
                    731,
                    658,
                    719,
                    1004,
                    748,
                    660,
                    731,
                    658,
                    719,
                    495,
                    537,
                    1004,
                    748,
                    660,
                    731,
                    658,
                    719,
                    495,
                    537,
                    1004,
                    612,
                    531,
                    473,
                    658,
                    495,
                    537,
                    1004,
                    612,
                    531,
                    513,
                    434,
                    537,
                    473,
                    495,
                    537,
                    1004,
                    612,
                    531,
                    513,
                    434,
                    525,
                    649,
                    537,
                    473,
                    739,
                    537,
                    1004,
                    612,
                    531,
                    513,
                    434,
                    525,
                    486,
                    537,
                    473,
                    739,
                    767,
                    753,
                    612,
                    513,
                    525,
                    486,
                    666,
                    747,
                    537,
                    473,
                    739,
                    767,
                    753,
                    513,
                    525,
                    486,
                    666,
                    747,
                    834,
                    412,
                    767,
                    753,
                    482,
                    642,
                    468,
                    666,
                    747,
                    834,
                    412,
                    753,
                    482,
                    556,
                    642,
                    894,
                    468,
                    862,
                    412,
                    706,
                    1245,
                    556,
                    642,
                    894,
                    468,
                    862,
                    634,
                    361,
                    636,
                    1245,
                    537,
                    894,
                    862,
                    634,
                    493,
                    361,
                    636,
                    1245,
                    509,
                    894,
                    634,
                    642,
                    524,
                    427,
                    480,
                    493,
                    361,
                    636,
                    497,
                    545,
                    496,
                    642,
                    524,
                    427,
                    480,
                    493,
                    497,
                    617,
                    565,
                    519,
                    479,
                    924,
                    545,
                    496,
                    642,
                    524,
                    427,
                    480,
                    617,
                    517,
                    565,
                    519,
                    490,
                    549,
                    519,
                    479,
                    924,
                    545,
                    496,
                    642,
                    517,
                    519,
                    423,
                    412,
                    418,
                    542,
                    569,
                    415,
                    771,
                    490,
                    549,
                    519,
                    479,
                    924,
                    545,
                    517,
                    537,
                    423,
                    412,
                    632,
                    418,
                    542,
                    569,
                    411,
                    572,
                    415,
                    771,
                    490,
                    549,
                    519,
                    479,
                    537,
                    423,
                    412,
                    490,
                    632,
                    418,
                    542,
                    569,
                    411,
                    572,
                    415,
                    490,
                    549,
                    537,
                    412,
                    482,
                    504,
                    505,
                    490,
                    632,
                    418,
                    542,
                    569,
                    411,
                    415,
                    537,
                    482,
                    504,
                    505,
                    490,
                    632,
                    418,
                    542,
                    569,
                    411,
                    558,
                    552,
                    664,
                    345,
                    482,
                    504,
                    505,
                    632,
                    629,
                    558,
                    552,
                    664,
                    345,
                    371,
                    495,
                    479,
                    482,
                    504,
                    629,
                    558,
                    552,
                    664,
                    345,
                    371,
                    495,
                    528,
                    479,
                    482,
                    504,
                    629,
                    558,
                    552,
                    664,
                    345,
                    371,
                    495,
                    528,
                    479,
                    629,
                    558,
                    552,
                    345,
                    371,
                    495,
                    528,
                    535,
                    629,
                    558,
                    495,
                    528,
                    815,
                    535,
                    629,
                    447,
                    815,
                    252,
                    535,
                    814,
                    639,
                    447,
                    483,
                    815,
                    252,
                    535,
                    456,
                    554,
                    454,
                    814,
                    639,
                    447,
                    483,
                    815,
                    271,
                    456,
                    779,
                    499,
                    478,
                    577,
                    644,
                    785,
                    375,
                    554,
                    454,
                    814,
                    639,
                    447,
                    483,
                    271,
                    456,
                    779,
                    203,
                    1123,
                    499,
                    478,
                    577,
                    644,
                    785,
                    375,
                    554,
                    454,
                    814,
                    639,
                    271,
                    456,
                    779,
                    203,
                    1123,
                    499,
                    478,
                    577,
                    644,
                    785,
                    375,
                    554,
                    454,
                    814,
                    639,
                    450,
                    846,
                    730,
                    779,
                    1123,
                    499,
                    478,
                    577,
                    644,
                    785,
                    375,
                    450,
                    924,
                    846,
                    1078,
                    1093,
                    730,
                    375,
                    698,
                    450,
                    924,
                    846,
                    1078,
                    1093,
                    1876,
                    730,
                    4685,
                    68,
                    698,
                    924,
                    1078,
                    1093,
                    1876,
                    730,
                    4685,
                    68,
                    604,
                    698,
                    924,
                    1078,
                    1093,
                    1876,
                    4685,
                    68,
                    604,
                    698,
                    1876,
                    68,
                    1675,
                    932,
                    2110,
                    3009,
                    68,
                    1499
                  ]
                },
                {
                  "lat": [
                    49.210673,
                    49.212765000000005,
                    49.214832,
                    49.21691,
                    49.218398,
                    49.220662,
                    49.223425,
                    49.225458,
                    49.227465,
                    49.229847,
                    49.231503000000004,
                    49.233152000000004,
                    49.234784000000005,
                    49.236203,
                    49.237697999999995,
                    49.240320000000004,
                    49.241893,
                    49.244828000000005,
                    49.247959,
                    49.250596,
                    49.253274,
                    49.254682,
                    49.258015,
                    49.259948,
                    49.262699,
                    49.265331,
                    49.268043,
                    49.269918,
                    49.271608,
                    49.273323,
                    49.275134,
                    49.277014,
                    49.278704,
                    49.280571,
                    49.281362,
                    49.281378000000004,
                    49.281445,
                    49.281110999999996,
                    49.281155,
                    49.2812,
                    49.281282,
                    49.281321000000005,
                    49.281356,
                    49.281426,
                    49.281733,
                    49.282221,
                    49.283085,
                    49.283796,
                    49.280899
                  ],
                  "lon": [
                    -123.065781,
                    -123.065964,
                    -123.065913,
                    -123.065874,
                    -123.065832,
                    -123.06573799999998,
                    -123.065653,
                    -123.065603,
                    -123.065556,
                    -123.065483,
                    -123.065432,
                    -123.065403,
                    -123.065348,
                    -123.065307,
                    -123.065288,
                    -123.06518799999999,
                    -123.06513799999999,
                    -123.06503899999998,
                    -123.064952,
                    -123.064898,
                    -123.066572,
                    -123.068394,
                    -123.069745,
                    -123.069673,
                    -123.06963600000002,
                    -123.06959599999999,
                    -123.06953,
                    -123.06951799999999,
                    -123.06948100000001,
                    -123.06943000000001,
                    -123.069418,
                    -123.069433,
                    -123.070346,
                    -123.070272,
                    -123.071174,
                    -123.074606,
                    -123.07788799999999,
                    -123.08178899999999,
                    -123.085249,
                    -123.087667,
                    -123.092019,
                    -123.09390400000001,
                    -123.09584699999999,
                    -123.09936299999998,
                    -123.10536599999999,
                    -123.108043,
                    -123.110279,
                    -123.11242,
                    -123.116794
                  ],
                  "marker": {
                    "color": "blue",
                    "size": 7
                  },
                  "mode": "markers",
                  "text": [
                    51202,
                    51203,
                    51204,
                    51205,
                    51206,
                    51207,
                    51208,
                    51209,
                    51210,
                    51211,
                    51212,
                    50652,
                    50653,
                    50654,
                    50655,
                    50656,
                    50657,
                    50658,
                    51213,
                    51215,
                    51216,
                    51217,
                    51219,
                    51220,
                    58327,
                    58087,
                    51225,
                    51226,
                    51227,
                    51228,
                    51229,
                    51231,
                    51232,
                    51233,
                    50499,
                    50500,
                    50501,
                    50502,
                    50503,
                    50504,
                    50505,
                    50506,
                    50507,
                    53391,
                    50186,
                    50187,
                    50188,
                    50189,
                    61918
                  ],
                  "type": "scattermapbox"
                }
              ],
              "layout": {
                "coloraxis": {
                  "colorbar": {
                    "title": {
                      "text": "Population"
                    }
                  },
                  "colorscale": [
                    [
                      0,
                      "green"
                    ],
                    [
                      0.5,
                      "yellow"
                    ],
                    [
                      1,
                      "red"
                    ]
                  ]
                },
                "legend": {
                  "tracegroupgap": 0
                },
                "mapbox": {
                  "accesstoken": "pk.eyJ1IjoibW9lNTIwIiwiYSI6ImNrNjZ6ZW9obTE4MWwzbGx3em5ja3dyZzgifQ.se2TJofRn8GzoSrNt9O5WA\n\n\n",
                  "center": {
                    "lat": 49.25308,
                    "lon": -123.0687
                  },
                  "domain": {
                    "x": [
                      0,
                      1
                    ],
                    "y": [
                      0,
                      1
                    ]
                  },
                  "zoom": 11
                },
                "margin": {
                  "t": 60
                },
                "template": {
                  "data": {
                    "bar": [
                      {
                        "error_x": {
                          "color": "#2a3f5f"
                        },
                        "error_y": {
                          "color": "#2a3f5f"
                        },
                        "marker": {
                          "line": {
                            "color": "#E5ECF6",
                            "width": 0.5
                          }
                        },
                        "type": "bar"
                      }
                    ],
                    "barpolar": [
                      {
                        "marker": {
                          "line": {
                            "color": "#E5ECF6",
                            "width": 0.5
                          }
                        },
                        "type": "barpolar"
                      }
                    ],
                    "carpet": [
                      {
                        "aaxis": {
                          "endlinecolor": "#2a3f5f",
                          "gridcolor": "white",
                          "linecolor": "white",
                          "minorgridcolor": "white",
                          "startlinecolor": "#2a3f5f"
                        },
                        "baxis": {
                          "endlinecolor": "#2a3f5f",
                          "gridcolor": "white",
                          "linecolor": "white",
                          "minorgridcolor": "white",
                          "startlinecolor": "#2a3f5f"
                        },
                        "type": "carpet"
                      }
                    ],
                    "choropleth": [
                      {
                        "colorbar": {
                          "outlinewidth": 0,
                          "ticks": ""
                        },
                        "type": "choropleth"
                      }
                    ],
                    "contour": [
                      {
                        "colorbar": {
                          "outlinewidth": 0,
                          "ticks": ""
                        },
                        "colorscale": [
                          [
                            0,
                            "#0d0887"
                          ],
                          [
                            0.1111111111111111,
                            "#46039f"
                          ],
                          [
                            0.2222222222222222,
                            "#7201a8"
                          ],
                          [
                            0.3333333333333333,
                            "#9c179e"
                          ],
                          [
                            0.4444444444444444,
                            "#bd3786"
                          ],
                          [
                            0.5555555555555556,
                            "#d8576b"
                          ],
                          [
                            0.6666666666666666,
                            "#ed7953"
                          ],
                          [
                            0.7777777777777778,
                            "#fb9f3a"
                          ],
                          [
                            0.8888888888888888,
                            "#fdca26"
                          ],
                          [
                            1,
                            "#f0f921"
                          ]
                        ],
                        "type": "contour"
                      }
                    ],
                    "contourcarpet": [
                      {
                        "colorbar": {
                          "outlinewidth": 0,
                          "ticks": ""
                        },
                        "type": "contourcarpet"
                      }
                    ],
                    "heatmap": [
                      {
                        "colorbar": {
                          "outlinewidth": 0,
                          "ticks": ""
                        },
                        "colorscale": [
                          [
                            0,
                            "#0d0887"
                          ],
                          [
                            0.1111111111111111,
                            "#46039f"
                          ],
                          [
                            0.2222222222222222,
                            "#7201a8"
                          ],
                          [
                            0.3333333333333333,
                            "#9c179e"
                          ],
                          [
                            0.4444444444444444,
                            "#bd3786"
                          ],
                          [
                            0.5555555555555556,
                            "#d8576b"
                          ],
                          [
                            0.6666666666666666,
                            "#ed7953"
                          ],
                          [
                            0.7777777777777778,
                            "#fb9f3a"
                          ],
                          [
                            0.8888888888888888,
                            "#fdca26"
                          ],
                          [
                            1,
                            "#f0f921"
                          ]
                        ],
                        "type": "heatmap"
                      }
                    ],
                    "heatmapgl": [
                      {
                        "colorbar": {
                          "outlinewidth": 0,
                          "ticks": ""
                        },
                        "colorscale": [
                          [
                            0,
                            "#0d0887"
                          ],
                          [
                            0.1111111111111111,
                            "#46039f"
                          ],
                          [
                            0.2222222222222222,
                            "#7201a8"
                          ],
                          [
                            0.3333333333333333,
                            "#9c179e"
                          ],
                          [
                            0.4444444444444444,
                            "#bd3786"
                          ],
                          [
                            0.5555555555555556,
                            "#d8576b"
                          ],
                          [
                            0.6666666666666666,
                            "#ed7953"
                          ],
                          [
                            0.7777777777777778,
                            "#fb9f3a"
                          ],
                          [
                            0.8888888888888888,
                            "#fdca26"
                          ],
                          [
                            1,
                            "#f0f921"
                          ]
                        ],
                        "type": "heatmapgl"
                      }
                    ],
                    "histogram": [
                      {
                        "marker": {
                          "colorbar": {
                            "outlinewidth": 0,
                            "ticks": ""
                          }
                        },
                        "type": "histogram"
                      }
                    ],
                    "histogram2d": [
                      {
                        "colorbar": {
                          "outlinewidth": 0,
                          "ticks": ""
                        },
                        "colorscale": [
                          [
                            0,
                            "#0d0887"
                          ],
                          [
                            0.1111111111111111,
                            "#46039f"
                          ],
                          [
                            0.2222222222222222,
                            "#7201a8"
                          ],
                          [
                            0.3333333333333333,
                            "#9c179e"
                          ],
                          [
                            0.4444444444444444,
                            "#bd3786"
                          ],
                          [
                            0.5555555555555556,
                            "#d8576b"
                          ],
                          [
                            0.6666666666666666,
                            "#ed7953"
                          ],
                          [
                            0.7777777777777778,
                            "#fb9f3a"
                          ],
                          [
                            0.8888888888888888,
                            "#fdca26"
                          ],
                          [
                            1,
                            "#f0f921"
                          ]
                        ],
                        "type": "histogram2d"
                      }
                    ],
                    "histogram2dcontour": [
                      {
                        "colorbar": {
                          "outlinewidth": 0,
                          "ticks": ""
                        },
                        "colorscale": [
                          [
                            0,
                            "#0d0887"
                          ],
                          [
                            0.1111111111111111,
                            "#46039f"
                          ],
                          [
                            0.2222222222222222,
                            "#7201a8"
                          ],
                          [
                            0.3333333333333333,
                            "#9c179e"
                          ],
                          [
                            0.4444444444444444,
                            "#bd3786"
                          ],
                          [
                            0.5555555555555556,
                            "#d8576b"
                          ],
                          [
                            0.6666666666666666,
                            "#ed7953"
                          ],
                          [
                            0.7777777777777778,
                            "#fb9f3a"
                          ],
                          [
                            0.8888888888888888,
                            "#fdca26"
                          ],
                          [
                            1,
                            "#f0f921"
                          ]
                        ],
                        "type": "histogram2dcontour"
                      }
                    ],
                    "mesh3d": [
                      {
                        "colorbar": {
                          "outlinewidth": 0,
                          "ticks": ""
                        },
                        "type": "mesh3d"
                      }
                    ],
                    "parcoords": [
                      {
                        "line": {
                          "colorbar": {
                            "outlinewidth": 0,
                            "ticks": ""
                          }
                        },
                        "type": "parcoords"
                      }
                    ],
                    "pie": [
                      {
                        "automargin": true,
                        "type": "pie"
                      }
                    ],
                    "scatter": [
                      {
                        "marker": {
                          "colorbar": {
                            "outlinewidth": 0,
                            "ticks": ""
                          }
                        },
                        "type": "scatter"
                      }
                    ],
                    "scatter3d": [
                      {
                        "line": {
                          "colorbar": {
                            "outlinewidth": 0,
                            "ticks": ""
                          }
                        },
                        "marker": {
                          "colorbar": {
                            "outlinewidth": 0,
                            "ticks": ""
                          }
                        },
                        "type": "scatter3d"
                      }
                    ],
                    "scattercarpet": [
                      {
                        "marker": {
                          "colorbar": {
                            "outlinewidth": 0,
                            "ticks": ""
                          }
                        },
                        "type": "scattercarpet"
                      }
                    ],
                    "scattergeo": [
                      {
                        "marker": {
                          "colorbar": {
                            "outlinewidth": 0,
                            "ticks": ""
                          }
                        },
                        "type": "scattergeo"
                      }
                    ],
                    "scattergl": [
                      {
                        "marker": {
                          "colorbar": {
                            "outlinewidth": 0,
                            "ticks": ""
                          }
                        },
                        "type": "scattergl"
                      }
                    ],
                    "scattermapbox": [
                      {
                        "marker": {
                          "colorbar": {
                            "outlinewidth": 0,
                            "ticks": ""
                          }
                        },
                        "type": "scattermapbox"
                      }
                    ],
                    "scatterpolar": [
                      {
                        "marker": {
                          "colorbar": {
                            "outlinewidth": 0,
                            "ticks": ""
                          }
                        },
                        "type": "scatterpolar"
                      }
                    ],
                    "scatterpolargl": [
                      {
                        "marker": {
                          "colorbar": {
                            "outlinewidth": 0,
                            "ticks": ""
                          }
                        },
                        "type": "scatterpolargl"
                      }
                    ],
                    "scatterternary": [
                      {
                        "marker": {
                          "colorbar": {
                            "outlinewidth": 0,
                            "ticks": ""
                          }
                        },
                        "type": "scatterternary"
                      }
                    ],
                    "surface": [
                      {
                        "colorbar": {
                          "outlinewidth": 0,
                          "ticks": ""
                        },
                        "colorscale": [
                          [
                            0,
                            "#0d0887"
                          ],
                          [
                            0.1111111111111111,
                            "#46039f"
                          ],
                          [
                            0.2222222222222222,
                            "#7201a8"
                          ],
                          [
                            0.3333333333333333,
                            "#9c179e"
                          ],
                          [
                            0.4444444444444444,
                            "#bd3786"
                          ],
                          [
                            0.5555555555555556,
                            "#d8576b"
                          ],
                          [
                            0.6666666666666666,
                            "#ed7953"
                          ],
                          [
                            0.7777777777777778,
                            "#fb9f3a"
                          ],
                          [
                            0.8888888888888888,
                            "#fdca26"
                          ],
                          [
                            1,
                            "#f0f921"
                          ]
                        ],
                        "type": "surface"
                      }
                    ],
                    "table": [
                      {
                        "cells": {
                          "fill": {
                            "color": "#EBF0F8"
                          },
                          "line": {
                            "color": "white"
                          }
                        },
                        "header": {
                          "fill": {
                            "color": "#C8D4E3"
                          },
                          "line": {
                            "color": "white"
                          }
                        },
                        "type": "table"
                      }
                    ]
                  },
                  "layout": {
                    "annotationdefaults": {
                      "arrowcolor": "#2a3f5f",
                      "arrowhead": 0,
                      "arrowwidth": 1
                    },
                    "coloraxis": {
                      "colorbar": {
                        "outlinewidth": 0,
                        "ticks": ""
                      }
                    },
                    "colorscale": {
                      "diverging": [
                        [
                          0,
                          "#8e0152"
                        ],
                        [
                          0.1,
                          "#c51b7d"
                        ],
                        [
                          0.2,
                          "#de77ae"
                        ],
                        [
                          0.3,
                          "#f1b6da"
                        ],
                        [
                          0.4,
                          "#fde0ef"
                        ],
                        [
                          0.5,
                          "#f7f7f7"
                        ],
                        [
                          0.6,
                          "#e6f5d0"
                        ],
                        [
                          0.7,
                          "#b8e186"
                        ],
                        [
                          0.8,
                          "#7fbc41"
                        ],
                        [
                          0.9,
                          "#4d9221"
                        ],
                        [
                          1,
                          "#276419"
                        ]
                      ],
                      "sequential": [
                        [
                          0,
                          "#0d0887"
                        ],
                        [
                          0.1111111111111111,
                          "#46039f"
                        ],
                        [
                          0.2222222222222222,
                          "#7201a8"
                        ],
                        [
                          0.3333333333333333,
                          "#9c179e"
                        ],
                        [
                          0.4444444444444444,
                          "#bd3786"
                        ],
                        [
                          0.5555555555555556,
                          "#d8576b"
                        ],
                        [
                          0.6666666666666666,
                          "#ed7953"
                        ],
                        [
                          0.7777777777777778,
                          "#fb9f3a"
                        ],
                        [
                          0.8888888888888888,
                          "#fdca26"
                        ],
                        [
                          1,
                          "#f0f921"
                        ]
                      ],
                      "sequentialminus": [
                        [
                          0,
                          "#0d0887"
                        ],
                        [
                          0.1111111111111111,
                          "#46039f"
                        ],
                        [
                          0.2222222222222222,
                          "#7201a8"
                        ],
                        [
                          0.3333333333333333,
                          "#9c179e"
                        ],
                        [
                          0.4444444444444444,
                          "#bd3786"
                        ],
                        [
                          0.5555555555555556,
                          "#d8576b"
                        ],
                        [
                          0.6666666666666666,
                          "#ed7953"
                        ],
                        [
                          0.7777777777777778,
                          "#fb9f3a"
                        ],
                        [
                          0.8888888888888888,
                          "#fdca26"
                        ],
                        [
                          1,
                          "#f0f921"
                        ]
                      ]
                    },
                    "colorway": [
                      "#636efa",
                      "#EF553B",
                      "#00cc96",
                      "#ab63fa",
                      "#FFA15A",
                      "#19d3f3",
                      "#FF6692",
                      "#B6E880",
                      "#FF97FF",
                      "#FECB52"
                    ],
                    "font": {
                      "color": "#2a3f5f"
                    },
                    "geo": {
                      "bgcolor": "white",
                      "lakecolor": "white",
                      "landcolor": "#E5ECF6",
                      "showlakes": true,
                      "showland": true,
                      "subunitcolor": "white"
                    },
                    "hoverlabel": {
                      "align": "left"
                    },
                    "hovermode": "closest",
                    "mapbox": {
                      "style": "light"
                    },
                    "paper_bgcolor": "white",
                    "plot_bgcolor": "#E5ECF6",
                    "polar": {
                      "angularaxis": {
                        "gridcolor": "white",
                        "linecolor": "white",
                        "ticks": ""
                      },
                      "bgcolor": "#E5ECF6",
                      "radialaxis": {
                        "gridcolor": "white",
                        "linecolor": "white",
                        "ticks": ""
                      }
                    },
                    "scene": {
                      "xaxis": {
                        "backgroundcolor": "#E5ECF6",
                        "gridcolor": "white",
                        "gridwidth": 2,
                        "linecolor": "white",
                        "showbackground": true,
                        "ticks": "",
                        "zerolinecolor": "white"
                      },
                      "yaxis": {
                        "backgroundcolor": "#E5ECF6",
                        "gridcolor": "white",
                        "gridwidth": 2,
                        "linecolor": "white",
                        "showbackground": true,
                        "ticks": "",
                        "zerolinecolor": "white"
                      },
                      "zaxis": {
                        "backgroundcolor": "#E5ECF6",
                        "gridcolor": "white",
                        "gridwidth": 2,
                        "linecolor": "white",
                        "showbackground": true,
                        "ticks": "",
                        "zerolinecolor": "white"
                      }
                    },
                    "shapedefaults": {
                      "line": {
                        "color": "#2a3f5f"
                      }
                    },
                    "ternary": {
                      "aaxis": {
                        "gridcolor": "white",
                        "linecolor": "white",
                        "ticks": ""
                      },
                      "baxis": {
                        "gridcolor": "white",
                        "linecolor": "white",
                        "ticks": ""
                      },
                      "bgcolor": "#E5ECF6",
                      "caxis": {
                        "gridcolor": "white",
                        "linecolor": "white",
                        "ticks": ""
                      }
                    },
                    "title": {
                      "x": 0.05
                    },
                    "xaxis": {
                      "automargin": true,
                      "gridcolor": "white",
                      "linecolor": "white",
                      "ticks": "",
                      "title": {
                        "standoff": 15
                      },
                      "zerolinecolor": "white",
                      "zerolinewidth": 2
                    },
                    "yaxis": {
                      "automargin": true,
                      "gridcolor": "white",
                      "linecolor": "white",
                      "ticks": "",
                      "title": {
                        "standoff": 15
                      },
                      "zerolinecolor": "white",
                      "zerolinewidth": 2
                    }
                  }
                },
                "title": {
                  "text": "Population Density Heat Map"
                }
              }
            },
            "text/html": [
              "<div>\n",
              "        \n",
              "        \n",
              "            <div id=\"717b1adc-7c18-4892-882f-7cc0ec0a1d17\" class=\"plotly-graph-div\" style=\"height:525px; width:100%;\"></div>\n",
              "            <script type=\"text/javascript\">\n",
              "                require([\"plotly\"], function(Plotly) {\n",
              "                    window.PLOTLYENV=window.PLOTLYENV || {};\n",
              "                    \n",
              "                if (document.getElementById(\"717b1adc-7c18-4892-882f-7cc0ec0a1d17\")) {\n",
              "                    Plotly.newPlot(\n",
              "                        '717b1adc-7c18-4892-882f-7cc0ec0a1d17',\n",
              "                        [{\"coloraxis\": \"coloraxis\", \"hoverlabel\": {\"namelength\": 0}, \"hovertemplate\": \"pop=%{z}<br>lat=%{lat}<br>long=%{lon}\", \"lat\": [49.210165, 49.213535, 49.20819, 49.207338, 49.211912, 49.214017999999996, 49.212593, 49.210165, 49.213535, 49.211912, 49.214017999999996, 49.216671999999996, 49.212593, 49.216957, 49.217799, 49.21885, 49.213535, 49.211912, 49.214017999999996, 49.216671999999996, 49.212593, 49.216957, 49.217799, 49.21885, 49.213535, 49.214017999999996, 49.216671999999996, 49.216957, 49.217799, 49.21885, 49.221447999999995, 49.221744, 49.214017999999996, 49.216671999999996, 49.217799, 49.21885, 49.223923, 49.221447999999995, 49.221744, 49.221672, 49.224082, 49.226683, 49.223923, 49.221447999999995, 49.221744, 49.221672, 49.225684, 49.224082, 49.226586, 49.226683, 49.228966, 49.223923, 49.221447999999995, 49.221744, 49.225684, 49.224082, 49.226586, 49.2276, 49.229401, 49.226683, 49.228966, 49.223923, 49.225684, 49.224082, 49.226586, 49.2276, 49.229401, 49.231628, 49.226683, 49.228966, 49.230965999999995, 49.226586, 49.2276, 49.229401, 49.231628, 49.231359999999995, 49.233854, 49.228966, 49.230965999999995, 49.229401, 49.231628, 49.231359999999995, 49.234427000000004, 49.234433, 49.233854, 49.228966, 49.230965999999995, 49.229401, 49.231628, 49.231359999999995, 49.234427000000004, 49.234433, 49.233854, 49.23645, 49.234984999999995, 49.238772999999995, 49.231628, 49.234427000000004, 49.234433, 49.233854, 49.23645, 49.234984999999995, 49.238345, 49.236987, 49.238873999999996, 49.238772999999995, 49.234427000000004, 49.234433, 49.233854, 49.23645, 49.234984999999995, 49.238345, 49.236987, 49.238997999999995, 49.238215000000004, 49.238873999999996, 49.238772999999995, 49.241077000000004, 49.234433, 49.233854, 49.23645, 49.234984999999995, 49.238345, 49.236987, 49.238997999999995, 49.240466, 49.238873999999996, 49.238772999999995, 49.241077000000004, 49.242715000000004, 49.243804, 49.23645, 49.238345, 49.238997999999995, 49.240466, 49.241839, 49.243328000000005, 49.238873999999996, 49.238772999999995, 49.241077000000004, 49.242715000000004, 49.243804, 49.238345, 49.238997999999995, 49.240466, 49.241839, 49.243328000000005, 49.243757, 49.245974, 49.242715000000004, 49.243804, 49.245473, 49.248028999999995, 49.248628000000004, 49.241839, 49.243328000000005, 49.243757, 49.245974, 49.243804, 49.245473, 49.248740000000005, 49.248028999999995, 49.251228000000005, 49.248628000000004, 49.2519, 49.245974, 49.247289, 49.253083000000004, 49.248740000000005, 49.248028999999995, 49.251228000000005, 49.248628000000004, 49.2519, 49.255033000000005, 49.255309000000004, 49.255378, 49.253083000000004, 49.250556, 49.251228000000005, 49.2519, 49.255033000000005, 49.257782, 49.255309000000004, 49.255378, 49.253083000000004, 49.252883000000004, 49.251228000000005, 49.255033000000005, 49.261528000000006, 49.260446, 49.259593, 49.258771, 49.257782, 49.255309000000004, 49.255378, 49.258394, 49.264096, 49.262809000000004, 49.261528000000006, 49.260446, 49.259593, 49.258771, 49.257782, 49.258394, 49.260819, 49.260855, 49.266444, 49.266702, 49.265004, 49.264096, 49.262809000000004, 49.261528000000006, 49.260446, 49.259593, 49.258771, 49.260819, 49.265423999999996, 49.260855, 49.263465999999994, 49.268914, 49.267602000000004, 49.266444, 49.266702, 49.265004, 49.264096, 49.262809000000004, 49.261528000000006, 49.265423999999996, 49.263465999999994, 49.266889, 49.268696999999996, 49.270996000000004, 49.271166, 49.271862, 49.270075, 49.268622, 49.268914, 49.267602000000004, 49.266444, 49.266702, 49.265004, 49.264096, 49.265423999999996, 49.270703999999995, 49.266889, 49.268696999999996, 49.273338, 49.270996000000004, 49.271166, 49.271862, 49.273102, 49.270941, 49.270075, 49.268622, 49.268914, 49.267602000000004, 49.266444, 49.266702, 49.270703999999995, 49.266889, 49.268696999999996, 49.273053000000004, 49.273338, 49.270996000000004, 49.271166, 49.271862, 49.273102, 49.270941, 49.270075, 49.268914, 49.267602000000004, 49.270703999999995, 49.268696999999996, 49.275781, 49.274926, 49.275331, 49.273053000000004, 49.273338, 49.270996000000004, 49.271166, 49.271862, 49.273102, 49.270075, 49.270703999999995, 49.275781, 49.274926, 49.275331, 49.273053000000004, 49.273338, 49.270996000000004, 49.271166, 49.271862, 49.273102, 49.27803, 49.27845, 49.277533, 49.278883, 49.275781, 49.274926, 49.275331, 49.273338, 49.279606, 49.27803, 49.27845, 49.277533, 49.278883, 49.279792, 49.280215999999996, 49.278895, 49.275781, 49.274926, 49.279606, 49.27803, 49.27845, 49.277533, 49.278883, 49.279792, 49.280215999999996, 49.282362, 49.278895, 49.275781, 49.274926, 49.279606, 49.27803, 49.27845, 49.277533, 49.278883, 49.279792, 49.280215999999996, 49.282362, 49.278895, 49.279606, 49.27803, 49.27845, 49.278883, 49.279792, 49.280215999999996, 49.282362, 49.279395, 49.279606, 49.27803, 49.280215999999996, 49.282362, 49.279336, 49.279395, 49.279606, 49.279794, 49.279336, 49.277004999999996, 49.279395, 49.282396000000006, 49.280709, 49.279794, 49.278785, 49.279336, 49.277004999999996, 49.279395, 49.278556, 49.283087, 49.281687, 49.282396000000006, 49.280709, 49.279794, 49.278785, 49.279336, 49.277452000000004, 49.278556, 49.278825, 49.279854, 49.280807, 49.281741, 49.283229, 49.284209000000004, 49.282027, 49.283087, 49.281687, 49.282396000000006, 49.280709, 49.279794, 49.278785, 49.277452000000004, 49.278556, 49.278825, 49.277145000000004, 49.278789, 49.279854, 49.280807, 49.281741, 49.283229, 49.284209000000004, 49.282027, 49.283087, 49.281687, 49.282396000000006, 49.280709, 49.277452000000004, 49.278556, 49.278825, 49.277145000000004, 49.278789, 49.279854, 49.280807, 49.281741, 49.283229, 49.284209000000004, 49.282027, 49.283087, 49.281687, 49.282396000000006, 49.280709, 49.283613, 49.282395, 49.28075, 49.278825, 49.278789, 49.279854, 49.280807, 49.281741, 49.283229, 49.284209000000004, 49.282027, 49.283613, 49.283121, 49.282395, 49.282033, 49.280573, 49.28075, 49.282027, 49.284159, 49.283613, 49.283121, 49.282395, 49.282033, 49.280573, 49.282542, 49.28075, 49.279252, 49.281926, 49.284159, 49.283121, 49.282033, 49.280573, 49.282542, 49.28075, 49.279252, 49.281926, 49.284976, 49.284159, 49.283121, 49.282033, 49.280573, 49.282542, 49.279252, 49.281926, 49.284976, 49.284159, 49.282542, 49.281926, 49.278882, 49.278278, 49.278106, 49.28107, 49.281926, 49.278486], \"lon\": [-123.0695, -123.062329, -123.061474, -123.063235, -123.06243500000001, -123.06733600000001, -123.06940800000001, -123.0695, -123.062329, -123.06243500000001, -123.06733600000001, -123.069249, -123.06940800000001, -123.060546, -123.063001, -123.06730900000001, -123.062329, -123.06243500000001, -123.06733600000001, -123.069249, -123.06940800000001, -123.060546, -123.063001, -123.06730900000001, -123.062329, -123.06733600000001, -123.069249, -123.060546, -123.063001, -123.06730900000001, -123.067325, -123.064205, -123.06733600000001, -123.069249, -123.063001, -123.06730900000001, -123.067431, -123.067325, -123.064205, -123.060946, -123.062376, -123.070117, -123.067431, -123.067325, -123.064205, -123.060946, -123.062279, -123.062376, -123.066046, -123.070117, -123.067246, -123.067431, -123.067325, -123.064205, -123.062279, -123.062376, -123.066046, -123.061677, -123.062531, -123.070117, -123.067246, -123.067431, -123.062279, -123.062376, -123.066046, -123.061677, -123.062531, -123.064272, -123.070117, -123.067246, -123.069996, -123.066046, -123.061677, -123.062531, -123.064272, -123.05987900000001, -123.067481, -123.067246, -123.069996, -123.062531, -123.064272, -123.05987900000001, -123.060455, -123.06380800000001, -123.067481, -123.067246, -123.069996, -123.062531, -123.064272, -123.05987900000001, -123.060455, -123.06380800000001, -123.067481, -123.065846, -123.070327, -123.06697700000001, -123.064272, -123.060455, -123.06380800000001, -123.067481, -123.065846, -123.070327, -123.063878, -123.06043400000001, -123.069925, -123.06697700000001, -123.060455, -123.06380800000001, -123.067481, -123.065846, -123.070327, -123.063878, -123.06043400000001, -123.06063600000002, -123.07208500000002, -123.069925, -123.06697700000001, -123.069379, -123.06380800000001, -123.067481, -123.065846, -123.070327, -123.063878, -123.06043400000001, -123.06063600000002, -123.06247900000001, -123.069925, -123.06697700000001, -123.069379, -123.07048700000001, -123.06728600000001, -123.065846, -123.063878, -123.06063600000002, -123.06247900000001, -123.060704, -123.064654, -123.069925, -123.06697700000001, -123.069379, -123.07048700000001, -123.06728600000001, -123.063878, -123.06063600000002, -123.06247900000001, -123.060704, -123.064654, -123.059476, -123.0626, -123.07048700000001, -123.06728600000001, -123.070213, -123.0664, -123.06386499999999, -123.060704, -123.064654, -123.059476, -123.0626, -123.06728600000001, -123.070213, -123.06947199999999, -123.0664, -123.067572, -123.06386499999999, -123.062032, -123.0626, -123.058618, -123.068749, -123.06947199999999, -123.0664, -123.067572, -123.06386499999999, -123.062032, -123.06433100000001, -123.06746899999999, -123.07244299999999, -123.068749, -123.071832, -123.067572, -123.062032, -123.06433100000001, -123.067929, -123.06746899999999, -123.07244299999999, -123.068749, -123.074252, -123.067572, -123.06433100000001, -123.069832, -123.071752, -123.06789099999999, -123.071776, -123.067929, -123.06746899999999, -123.07244299999999, -123.07553700000001, -123.06763000000001, -123.073031, -123.069832, -123.071752, -123.06789099999999, -123.071776, -123.067929, -123.07553700000001, -123.07557800000001, -123.063627, -123.07163500000001, -123.06697700000001, -123.07160800000001, -123.06763000000001, -123.073031, -123.069832, -123.071752, -123.06789099999999, -123.071776, -123.07557800000001, -123.074646, -123.063627, -123.06420200000001, -123.072046, -123.07134599999999, -123.07163500000001, -123.06697700000001, -123.07160800000001, -123.06763000000001, -123.073031, -123.069832, -123.074646, -123.06420200000001, -123.064849, -123.067729, -123.06707, -123.07004199999999, -123.07248899999999, -123.07348200000001, -123.07527900000001, -123.072046, -123.07134599999999, -123.07163500000001, -123.06697700000001, -123.07160800000001, -123.06763000000001, -123.074646, -123.064072, -123.064849, -123.067729, -123.068172, -123.06707, -123.07004199999999, -123.07248899999999, -123.07316100000001, -123.075448, -123.07348200000001, -123.07527900000001, -123.072046, -123.07134599999999, -123.07163500000001, -123.06697700000001, -123.064072, -123.064849, -123.067729, -123.06371499999999, -123.068172, -123.06707, -123.07004199999999, -123.07248899999999, -123.07316100000001, -123.075448, -123.07348200000001, -123.072046, -123.07134599999999, -123.064072, -123.067729, -123.067531, -123.073632, -123.064247, -123.06371499999999, -123.068172, -123.06707, -123.07004199999999, -123.07248899999999, -123.07316100000001, -123.07348200000001, -123.064072, -123.067531, -123.073632, -123.064247, -123.06371499999999, -123.068172, -123.06707, -123.07004199999999, -123.07248899999999, -123.07316100000001, -123.07159899999999, -123.069382, -123.06698999999999, -123.06696699999999, -123.067531, -123.073632, -123.064247, -123.068172, -123.072879, -123.07159899999999, -123.069382, -123.06698999999999, -123.06696699999999, -123.066953, -123.069369, -123.064026, -123.067531, -123.073632, -123.072879, -123.07159899999999, -123.069382, -123.06698999999999, -123.06696699999999, -123.066953, -123.069369, -123.069562, -123.064026, -123.067531, -123.073632, -123.072879, -123.07159899999999, -123.069382, -123.06698999999999, -123.06696699999999, -123.066953, -123.069369, -123.069562, -123.064026, -123.072879, -123.07159899999999, -123.069382, -123.06696699999999, -123.066953, -123.069369, -123.069562, -123.08018799999999, -123.072879, -123.07159899999999, -123.069369, -123.069562, -123.083899, -123.08018799999999, -123.072879, -123.086037, -123.083899, -123.083927, -123.08018799999999, -123.090252, -123.09108700000002, -123.086037, -123.08771200000001, -123.083899, -123.083927, -123.08018799999999, -123.091454, -123.09183700000001, -123.092425, -123.090252, -123.09108700000002, -123.086037, -123.08771200000001, -123.083899, -123.092619, -123.091454, -123.09588600000001, -123.095366, -123.09615, -123.095219, -123.096523, -123.09638600000001, -123.098602, -123.09183700000001, -123.092425, -123.090252, -123.09108700000002, -123.086037, -123.08771200000001, -123.092619, -123.091454, -123.09588600000001, -123.09516200000002, -123.098423, -123.095366, -123.09615, -123.095219, -123.096523, -123.09638600000001, -123.098602, -123.09183700000001, -123.092425, -123.090252, -123.09108700000002, -123.092619, -123.091454, -123.09588600000001, -123.09516200000002, -123.098423, -123.095366, -123.09615, -123.095219, -123.096523, -123.09638600000001, -123.098602, -123.09183700000001, -123.092425, -123.090252, -123.09108700000002, -123.10073799999999, -123.10091399999999, -123.10245900000001, -123.09588600000001, -123.098423, -123.095366, -123.09615, -123.095219, -123.096523, -123.09638600000001, -123.098602, -123.10073799999999, -123.10422, -123.10091399999999, -123.10435600000001, -123.105506, -123.10245900000001, -123.098602, -123.10726499999998, -123.10073799999999, -123.10422, -123.10091399999999, -123.10435600000001, -123.105506, -123.10889099999999, -123.10245900000001, -123.10891399999998, -123.11221499999999, -123.10726499999998, -123.10422, -123.10435600000001, -123.105506, -123.10889099999999, -123.10245900000001, -123.10891399999998, -123.11221499999999, -123.113874, -123.10726499999998, -123.10422, -123.10435600000001, -123.105506, -123.10889099999999, -123.10891399999998, -123.11221499999999, -123.113874, -123.10726499999998, -123.10889099999999, -123.11221499999999, -123.121133, -123.11934, -123.11834499999999, -123.118298, -123.11221499999999, -123.115108], \"name\": \"\", \"radius\": 18, \"subplot\": \"mapbox\", \"type\": \"densitymapbox\", \"z\": [667, 584, 628, 543, 285, 364, 549, 667, 584, 285, 364, 707, 549, 632, 683, 822, 584, 285, 364, 707, 549, 632, 683, 822, 584, 364, 707, 632, 683, 822, 597, 560, 364, 707, 683, 822, 616, 597, 560, 573, 738, 617, 616, 597, 560, 573, 419, 738, 782, 617, 748, 616, 597, 560, 419, 738, 782, 646, 731, 617, 748, 616, 419, 738, 782, 646, 731, 658, 617, 748, 660, 782, 646, 731, 658, 719, 1004, 748, 660, 731, 658, 719, 495, 537, 1004, 748, 660, 731, 658, 719, 495, 537, 1004, 612, 531, 473, 658, 495, 537, 1004, 612, 531, 513, 434, 537, 473, 495, 537, 1004, 612, 531, 513, 434, 525, 649, 537, 473, 739, 537, 1004, 612, 531, 513, 434, 525, 486, 537, 473, 739, 767, 753, 612, 513, 525, 486, 666, 747, 537, 473, 739, 767, 753, 513, 525, 486, 666, 747, 834, 412, 767, 753, 482, 642, 468, 666, 747, 834, 412, 753, 482, 556, 642, 894, 468, 862, 412, 706, 1245, 556, 642, 894, 468, 862, 634, 361, 636, 1245, 537, 894, 862, 634, 493, 361, 636, 1245, 509, 894, 634, 642, 524, 427, 480, 493, 361, 636, 497, 545, 496, 642, 524, 427, 480, 493, 497, 617, 565, 519, 479, 924, 545, 496, 642, 524, 427, 480, 617, 517, 565, 519, 490, 549, 519, 479, 924, 545, 496, 642, 517, 519, 423, 412, 418, 542, 569, 415, 771, 490, 549, 519, 479, 924, 545, 517, 537, 423, 412, 632, 418, 542, 569, 411, 572, 415, 771, 490, 549, 519, 479, 537, 423, 412, 490, 632, 418, 542, 569, 411, 572, 415, 490, 549, 537, 412, 482, 504, 505, 490, 632, 418, 542, 569, 411, 415, 537, 482, 504, 505, 490, 632, 418, 542, 569, 411, 558, 552, 664, 345, 482, 504, 505, 632, 629, 558, 552, 664, 345, 371, 495, 479, 482, 504, 629, 558, 552, 664, 345, 371, 495, 528, 479, 482, 504, 629, 558, 552, 664, 345, 371, 495, 528, 479, 629, 558, 552, 345, 371, 495, 528, 535, 629, 558, 495, 528, 815, 535, 629, 447, 815, 252, 535, 814, 639, 447, 483, 815, 252, 535, 456, 554, 454, 814, 639, 447, 483, 815, 271, 456, 779, 499, 478, 577, 644, 785, 375, 554, 454, 814, 639, 447, 483, 271, 456, 779, 203, 1123, 499, 478, 577, 644, 785, 375, 554, 454, 814, 639, 271, 456, 779, 203, 1123, 499, 478, 577, 644, 785, 375, 554, 454, 814, 639, 450, 846, 730, 779, 1123, 499, 478, 577, 644, 785, 375, 450, 924, 846, 1078, 1093, 730, 375, 698, 450, 924, 846, 1078, 1093, 1876, 730, 4685, 68, 698, 924, 1078, 1093, 1876, 730, 4685, 68, 604, 698, 924, 1078, 1093, 1876, 4685, 68, 604, 698, 1876, 68, 1675, 932, 2110, 3009, 68, 1499]}, {\"lat\": [49.210673, 49.212765000000005, 49.214832, 49.21691, 49.218398, 49.220662, 49.223425, 49.225458, 49.227465, 49.229847, 49.231503000000004, 49.233152000000004, 49.234784000000005, 49.236203, 49.237697999999995, 49.240320000000004, 49.241893, 49.244828000000005, 49.247959, 49.250596, 49.253274, 49.254682, 49.258015, 49.259948, 49.262699, 49.265331, 49.268043, 49.269918, 49.271608, 49.273323, 49.275134, 49.277014, 49.278704, 49.280571, 49.281362, 49.281378000000004, 49.281445, 49.281110999999996, 49.281155, 49.2812, 49.281282, 49.281321000000005, 49.281356, 49.281426, 49.281733, 49.282221, 49.283085, 49.283796, 49.280899], \"lon\": [-123.065781, -123.065964, -123.065913, -123.065874, -123.065832, -123.06573799999998, -123.065653, -123.065603, -123.065556, -123.065483, -123.065432, -123.065403, -123.065348, -123.065307, -123.065288, -123.06518799999999, -123.06513799999999, -123.06503899999998, -123.064952, -123.064898, -123.066572, -123.068394, -123.069745, -123.069673, -123.06963600000002, -123.06959599999999, -123.06953, -123.06951799999999, -123.06948100000001, -123.06943000000001, -123.069418, -123.069433, -123.070346, -123.070272, -123.071174, -123.074606, -123.07788799999999, -123.08178899999999, -123.085249, -123.087667, -123.092019, -123.09390400000001, -123.09584699999999, -123.09936299999998, -123.10536599999999, -123.108043, -123.110279, -123.11242, -123.116794], \"marker\": {\"color\": \"blue\", \"size\": 7}, \"mode\": \"markers\", \"text\": [51202.0, 51203.0, 51204.0, 51205.0, 51206.0, 51207.0, 51208.0, 51209.0, 51210.0, 51211.0, 51212.0, 50652.0, 50653.0, 50654.0, 50655.0, 50656.0, 50657.0, 50658.0, 51213.0, 51215.0, 51216.0, 51217.0, 51219.0, 51220.0, 58327.0, 58087.0, 51225.0, 51226.0, 51227.0, 51228.0, 51229.0, 51231.0, 51232.0, 51233.0, 50499.0, 50500.0, 50501.0, 50502.0, 50503.0, 50504.0, 50505.0, 50506.0, 50507.0, 53391.0, 50186.0, 50187.0, 50188.0, 50189.0, 61918.0], \"type\": \"scattermapbox\"}],\n",
              "                        {\"coloraxis\": {\"colorbar\": {\"title\": {\"text\": \"Population\"}}, \"colorscale\": [[0, \"green\"], [0.5, \"yellow\"], [1.0, \"red\"]]}, \"legend\": {\"tracegroupgap\": 0}, \"mapbox\": {\"accesstoken\": \"pk.eyJ1IjoibW9lNTIwIiwiYSI6ImNrNjZ6ZW9obTE4MWwzbGx3em5ja3dyZzgifQ.se2TJofRn8GzoSrNt9O5WA\\n\\n\\n\", \"center\": {\"lat\": 49.25308, \"lon\": -123.0687}, \"domain\": {\"x\": [0.0, 1.0], \"y\": [0.0, 1.0]}, \"zoom\": 11}, \"margin\": {\"t\": 60}, \"template\": {\"data\": {\"bar\": [{\"error_x\": {\"color\": \"#2a3f5f\"}, \"error_y\": {\"color\": \"#2a3f5f\"}, \"marker\": {\"line\": {\"color\": \"#E5ECF6\", \"width\": 0.5}}, \"type\": \"bar\"}], \"barpolar\": [{\"marker\": {\"line\": {\"color\": \"#E5ECF6\", \"width\": 0.5}}, \"type\": \"barpolar\"}], \"carpet\": [{\"aaxis\": {\"endlinecolor\": \"#2a3f5f\", \"gridcolor\": \"white\", \"linecolor\": \"white\", \"minorgridcolor\": \"white\", \"startlinecolor\": \"#2a3f5f\"}, \"baxis\": {\"endlinecolor\": \"#2a3f5f\", \"gridcolor\": \"white\", \"linecolor\": \"white\", \"minorgridcolor\": \"white\", \"startlinecolor\": \"#2a3f5f\"}, \"type\": \"carpet\"}], \"choropleth\": [{\"colorbar\": {\"outlinewidth\": 0, \"ticks\": \"\"}, \"type\": \"choropleth\"}], \"contour\": [{\"colorbar\": {\"outlinewidth\": 0, \"ticks\": \"\"}, \"colorscale\": [[0.0, \"#0d0887\"], [0.1111111111111111, \"#46039f\"], [0.2222222222222222, \"#7201a8\"], [0.3333333333333333, \"#9c179e\"], [0.4444444444444444, \"#bd3786\"], [0.5555555555555556, \"#d8576b\"], [0.6666666666666666, \"#ed7953\"], [0.7777777777777778, \"#fb9f3a\"], [0.8888888888888888, \"#fdca26\"], [1.0, \"#f0f921\"]], \"type\": \"contour\"}], \"contourcarpet\": [{\"colorbar\": {\"outlinewidth\": 0, \"ticks\": \"\"}, \"type\": \"contourcarpet\"}], \"heatmap\": [{\"colorbar\": {\"outlinewidth\": 0, \"ticks\": \"\"}, \"colorscale\": [[0.0, \"#0d0887\"], [0.1111111111111111, \"#46039f\"], [0.2222222222222222, \"#7201a8\"], [0.3333333333333333, \"#9c179e\"], [0.4444444444444444, \"#bd3786\"], [0.5555555555555556, \"#d8576b\"], [0.6666666666666666, \"#ed7953\"], [0.7777777777777778, \"#fb9f3a\"], [0.8888888888888888, \"#fdca26\"], [1.0, \"#f0f921\"]], \"type\": \"heatmap\"}], \"heatmapgl\": [{\"colorbar\": {\"outlinewidth\": 0, \"ticks\": \"\"}, \"colorscale\": [[0.0, \"#0d0887\"], [0.1111111111111111, \"#46039f\"], [0.2222222222222222, \"#7201a8\"], [0.3333333333333333, \"#9c179e\"], [0.4444444444444444, \"#bd3786\"], [0.5555555555555556, \"#d8576b\"], [0.6666666666666666, \"#ed7953\"], [0.7777777777777778, \"#fb9f3a\"], [0.8888888888888888, \"#fdca26\"], [1.0, \"#f0f921\"]], \"type\": \"heatmapgl\"}], \"histogram\": [{\"marker\": {\"colorbar\": {\"outlinewidth\": 0, \"ticks\": \"\"}}, \"type\": \"histogram\"}], \"histogram2d\": [{\"colorbar\": {\"outlinewidth\": 0, \"ticks\": \"\"}, \"colorscale\": [[0.0, \"#0d0887\"], [0.1111111111111111, \"#46039f\"], [0.2222222222222222, \"#7201a8\"], [0.3333333333333333, \"#9c179e\"], [0.4444444444444444, \"#bd3786\"], [0.5555555555555556, \"#d8576b\"], [0.6666666666666666, \"#ed7953\"], [0.7777777777777778, \"#fb9f3a\"], [0.8888888888888888, \"#fdca26\"], [1.0, \"#f0f921\"]], \"type\": \"histogram2d\"}], \"histogram2dcontour\": [{\"colorbar\": {\"outlinewidth\": 0, \"ticks\": \"\"}, \"colorscale\": [[0.0, \"#0d0887\"], [0.1111111111111111, \"#46039f\"], [0.2222222222222222, \"#7201a8\"], [0.3333333333333333, \"#9c179e\"], [0.4444444444444444, \"#bd3786\"], [0.5555555555555556, \"#d8576b\"], [0.6666666666666666, \"#ed7953\"], [0.7777777777777778, \"#fb9f3a\"], [0.8888888888888888, \"#fdca26\"], [1.0, \"#f0f921\"]], \"type\": \"histogram2dcontour\"}], \"mesh3d\": [{\"colorbar\": {\"outlinewidth\": 0, \"ticks\": \"\"}, \"type\": \"mesh3d\"}], \"parcoords\": [{\"line\": {\"colorbar\": {\"outlinewidth\": 0, \"ticks\": \"\"}}, \"type\": \"parcoords\"}], \"pie\": [{\"automargin\": true, \"type\": \"pie\"}], \"scatter\": [{\"marker\": {\"colorbar\": {\"outlinewidth\": 0, \"ticks\": \"\"}}, \"type\": \"scatter\"}], \"scatter3d\": [{\"line\": {\"colorbar\": {\"outlinewidth\": 0, \"ticks\": \"\"}}, \"marker\": {\"colorbar\": {\"outlinewidth\": 0, \"ticks\": \"\"}}, \"type\": \"scatter3d\"}], \"scattercarpet\": [{\"marker\": {\"colorbar\": {\"outlinewidth\": 0, \"ticks\": \"\"}}, \"type\": \"scattercarpet\"}], \"scattergeo\": [{\"marker\": {\"colorbar\": {\"outlinewidth\": 0, \"ticks\": \"\"}}, \"type\": \"scattergeo\"}], \"scattergl\": [{\"marker\": {\"colorbar\": {\"outlinewidth\": 0, \"ticks\": \"\"}}, \"type\": \"scattergl\"}], \"scattermapbox\": [{\"marker\": {\"colorbar\": {\"outlinewidth\": 0, \"ticks\": \"\"}}, \"type\": \"scattermapbox\"}], \"scatterpolar\": [{\"marker\": {\"colorbar\": {\"outlinewidth\": 0, \"ticks\": \"\"}}, \"type\": \"scatterpolar\"}], \"scatterpolargl\": [{\"marker\": {\"colorbar\": {\"outlinewidth\": 0, \"ticks\": \"\"}}, \"type\": \"scatterpolargl\"}], \"scatterternary\": [{\"marker\": {\"colorbar\": {\"outlinewidth\": 0, \"ticks\": \"\"}}, \"type\": \"scatterternary\"}], \"surface\": [{\"colorbar\": {\"outlinewidth\": 0, \"ticks\": \"\"}, \"colorscale\": [[0.0, \"#0d0887\"], [0.1111111111111111, \"#46039f\"], [0.2222222222222222, \"#7201a8\"], [0.3333333333333333, \"#9c179e\"], [0.4444444444444444, \"#bd3786\"], [0.5555555555555556, \"#d8576b\"], [0.6666666666666666, \"#ed7953\"], [0.7777777777777778, \"#fb9f3a\"], [0.8888888888888888, \"#fdca26\"], [1.0, \"#f0f921\"]], \"type\": \"surface\"}], \"table\": [{\"cells\": {\"fill\": {\"color\": \"#EBF0F8\"}, \"line\": {\"color\": \"white\"}}, \"header\": {\"fill\": {\"color\": \"#C8D4E3\"}, \"line\": {\"color\": \"white\"}}, \"type\": \"table\"}]}, \"layout\": {\"annotationdefaults\": {\"arrowcolor\": \"#2a3f5f\", \"arrowhead\": 0, \"arrowwidth\": 1}, \"coloraxis\": {\"colorbar\": {\"outlinewidth\": 0, \"ticks\": \"\"}}, \"colorscale\": {\"diverging\": [[0, \"#8e0152\"], [0.1, \"#c51b7d\"], [0.2, \"#de77ae\"], [0.3, \"#f1b6da\"], [0.4, \"#fde0ef\"], [0.5, \"#f7f7f7\"], [0.6, \"#e6f5d0\"], [0.7, \"#b8e186\"], [0.8, \"#7fbc41\"], [0.9, \"#4d9221\"], [1, \"#276419\"]], \"sequential\": [[0.0, \"#0d0887\"], [0.1111111111111111, \"#46039f\"], [0.2222222222222222, \"#7201a8\"], [0.3333333333333333, \"#9c179e\"], [0.4444444444444444, \"#bd3786\"], [0.5555555555555556, \"#d8576b\"], [0.6666666666666666, \"#ed7953\"], [0.7777777777777778, \"#fb9f3a\"], [0.8888888888888888, \"#fdca26\"], [1.0, \"#f0f921\"]], \"sequentialminus\": [[0.0, \"#0d0887\"], [0.1111111111111111, \"#46039f\"], [0.2222222222222222, \"#7201a8\"], [0.3333333333333333, \"#9c179e\"], [0.4444444444444444, \"#bd3786\"], [0.5555555555555556, \"#d8576b\"], [0.6666666666666666, \"#ed7953\"], [0.7777777777777778, \"#fb9f3a\"], [0.8888888888888888, \"#fdca26\"], [1.0, \"#f0f921\"]]}, \"colorway\": [\"#636efa\", \"#EF553B\", \"#00cc96\", \"#ab63fa\", \"#FFA15A\", \"#19d3f3\", \"#FF6692\", \"#B6E880\", \"#FF97FF\", \"#FECB52\"], \"font\": {\"color\": \"#2a3f5f\"}, \"geo\": {\"bgcolor\": \"white\", \"lakecolor\": \"white\", \"landcolor\": \"#E5ECF6\", \"showlakes\": true, \"showland\": true, \"subunitcolor\": \"white\"}, \"hoverlabel\": {\"align\": \"left\"}, \"hovermode\": \"closest\", \"mapbox\": {\"style\": \"light\"}, \"paper_bgcolor\": \"white\", \"plot_bgcolor\": \"#E5ECF6\", \"polar\": {\"angularaxis\": {\"gridcolor\": \"white\", \"linecolor\": \"white\", \"ticks\": \"\"}, \"bgcolor\": \"#E5ECF6\", \"radialaxis\": {\"gridcolor\": \"white\", \"linecolor\": \"white\", \"ticks\": \"\"}}, \"scene\": {\"xaxis\": {\"backgroundcolor\": \"#E5ECF6\", \"gridcolor\": \"white\", \"gridwidth\": 2, \"linecolor\": \"white\", \"showbackground\": true, \"ticks\": \"\", \"zerolinecolor\": \"white\"}, \"yaxis\": {\"backgroundcolor\": \"#E5ECF6\", \"gridcolor\": \"white\", \"gridwidth\": 2, \"linecolor\": \"white\", \"showbackground\": true, \"ticks\": \"\", \"zerolinecolor\": \"white\"}, \"zaxis\": {\"backgroundcolor\": \"#E5ECF6\", \"gridcolor\": \"white\", \"gridwidth\": 2, \"linecolor\": \"white\", \"showbackground\": true, \"ticks\": \"\", \"zerolinecolor\": \"white\"}}, \"shapedefaults\": {\"line\": {\"color\": \"#2a3f5f\"}}, \"ternary\": {\"aaxis\": {\"gridcolor\": \"white\", \"linecolor\": \"white\", \"ticks\": \"\"}, \"baxis\": {\"gridcolor\": \"white\", \"linecolor\": \"white\", \"ticks\": \"\"}, \"bgcolor\": \"#E5ECF6\", \"caxis\": {\"gridcolor\": \"white\", \"linecolor\": \"white\", \"ticks\": \"\"}}, \"title\": {\"x\": 0.05}, \"xaxis\": {\"automargin\": true, \"gridcolor\": \"white\", \"linecolor\": \"white\", \"ticks\": \"\", \"title\": {\"standoff\": 15}, \"zerolinecolor\": \"white\", \"zerolinewidth\": 2}, \"yaxis\": {\"automargin\": true, \"gridcolor\": \"white\", \"linecolor\": \"white\", \"ticks\": \"\", \"title\": {\"standoff\": 15}, \"zerolinecolor\": \"white\", \"zerolinewidth\": 2}}}, \"title\": {\"text\": \"Population Density Heat Map\"}},\n",
              "                        {\"responsive\": true}\n",
              "                    ).then(function(){\n",
              "                            \n",
              "var gd = document.getElementById('717b1adc-7c18-4892-882f-7cc0ec0a1d17');\n",
              "var x = new MutationObserver(function (mutations, observer) {{\n",
              "        var display = window.getComputedStyle(gd).display;\n",
              "        if (!display || display === 'none') {{\n",
              "            console.log([gd, 'removed!']);\n",
              "            Plotly.purge(gd);\n",
              "            observer.disconnect();\n",
              "        }}\n",
              "}});\n",
              "\n",
              "// Listen for the removal of the full notebook cells\n",
              "var notebookContainer = gd.closest('#notebook-container');\n",
              "if (notebookContainer) {{\n",
              "    x.observe(notebookContainer, {childList: true});\n",
              "}}\n",
              "\n",
              "// Listen for the clearing of the current output cell\n",
              "var outputEl = gd.closest('.output');\n",
              "if (outputEl) {{\n",
              "    x.observe(outputEl, {childList: true});\n",
              "}}\n",
              "\n",
              "                        })\n",
              "                };\n",
              "                });\n",
              "            </script>\n",
              "        </div>"
            ]
          },
          "metadata": {}
        }
      ],
      "execution_count": 51,
      "metadata": {}
    },
    {
      "cell_type": "code",
      "source": [
        "#scatter of bus stops alone\n",
        "fig = px.scatter_mapbox(stopVizDf, lat=\"lat\", lon=\"long\",zoom=10, center=dict(lat=49.25308, lon=-123.0687))\n",
        "fig.show()"
      ],
      "outputs": [
        {
          "output_type": "display_data",
          "data": {
            "application/vnd.plotly.v1+json": {
              "config": {
                "plotlyServerURL": "https://plot.ly"
              },
              "data": [
                {
                  "hoverlabel": {
                    "namelength": 0
                  },
                  "hovertemplate": "lat=%{lat}<br>long=%{lon}",
                  "lat": [
                    49.210673,
                    49.212765000000005,
                    49.214832,
                    49.21691,
                    49.218398,
                    49.220662,
                    49.223425,
                    49.225458,
                    49.227465,
                    49.229847,
                    49.231503000000004,
                    49.233152000000004,
                    49.234784000000005,
                    49.236203,
                    49.237697999999995,
                    49.240320000000004,
                    49.241893,
                    49.244828000000005,
                    49.247959,
                    49.250596,
                    49.253274,
                    49.254682,
                    49.258015,
                    49.259948,
                    49.262699,
                    49.265331,
                    49.268043,
                    49.269918,
                    49.271608,
                    49.273323,
                    49.275134,
                    49.277014,
                    49.278704,
                    49.280571,
                    49.281362,
                    49.281378000000004,
                    49.281445,
                    49.281110999999996,
                    49.281155,
                    49.2812,
                    49.281282,
                    49.281321000000005,
                    49.281356,
                    49.281426,
                    49.281733,
                    49.282221,
                    49.283085,
                    49.283796,
                    49.280899
                  ],
                  "legendgroup": "",
                  "lon": [
                    -123.065781,
                    -123.065964,
                    -123.065913,
                    -123.065874,
                    -123.065832,
                    -123.06573799999998,
                    -123.065653,
                    -123.065603,
                    -123.065556,
                    -123.065483,
                    -123.065432,
                    -123.065403,
                    -123.065348,
                    -123.065307,
                    -123.065288,
                    -123.06518799999999,
                    -123.06513799999999,
                    -123.06503899999998,
                    -123.064952,
                    -123.064898,
                    -123.066572,
                    -123.068394,
                    -123.069745,
                    -123.069673,
                    -123.06963600000002,
                    -123.06959599999999,
                    -123.06953,
                    -123.06951799999999,
                    -123.06948100000001,
                    -123.06943000000001,
                    -123.069418,
                    -123.069433,
                    -123.070346,
                    -123.070272,
                    -123.071174,
                    -123.074606,
                    -123.07788799999999,
                    -123.08178899999999,
                    -123.085249,
                    -123.087667,
                    -123.092019,
                    -123.09390400000001,
                    -123.09584699999999,
                    -123.09936299999998,
                    -123.10536599999999,
                    -123.108043,
                    -123.110279,
                    -123.11242,
                    -123.116794
                  ],
                  "marker": {
                    "color": "#636efa"
                  },
                  "mode": "markers",
                  "name": "",
                  "showlegend": false,
                  "subplot": "mapbox",
                  "type": "scattermapbox"
                }
              ],
              "layout": {
                "legend": {
                  "tracegroupgap": 0
                },
                "mapbox": {
                  "accesstoken": "pk.eyJ1IjoibW9lNTIwIiwiYSI6ImNrNjZ6ZW9obTE4MWwzbGx3em5ja3dyZzgifQ.se2TJofRn8GzoSrNt9O5WA\n\n\n",
                  "center": {
                    "lat": 49.25308,
                    "lon": -123.0687
                  },
                  "domain": {
                    "x": [
                      0,
                      1
                    ],
                    "y": [
                      0,
                      1
                    ]
                  },
                  "zoom": 10
                },
                "margin": {
                  "t": 60
                },
                "template": {
                  "data": {
                    "bar": [
                      {
                        "error_x": {
                          "color": "#2a3f5f"
                        },
                        "error_y": {
                          "color": "#2a3f5f"
                        },
                        "marker": {
                          "line": {
                            "color": "#E5ECF6",
                            "width": 0.5
                          }
                        },
                        "type": "bar"
                      }
                    ],
                    "barpolar": [
                      {
                        "marker": {
                          "line": {
                            "color": "#E5ECF6",
                            "width": 0.5
                          }
                        },
                        "type": "barpolar"
                      }
                    ],
                    "carpet": [
                      {
                        "aaxis": {
                          "endlinecolor": "#2a3f5f",
                          "gridcolor": "white",
                          "linecolor": "white",
                          "minorgridcolor": "white",
                          "startlinecolor": "#2a3f5f"
                        },
                        "baxis": {
                          "endlinecolor": "#2a3f5f",
                          "gridcolor": "white",
                          "linecolor": "white",
                          "minorgridcolor": "white",
                          "startlinecolor": "#2a3f5f"
                        },
                        "type": "carpet"
                      }
                    ],
                    "choropleth": [
                      {
                        "colorbar": {
                          "outlinewidth": 0,
                          "ticks": ""
                        },
                        "type": "choropleth"
                      }
                    ],
                    "contour": [
                      {
                        "colorbar": {
                          "outlinewidth": 0,
                          "ticks": ""
                        },
                        "colorscale": [
                          [
                            0,
                            "#0d0887"
                          ],
                          [
                            0.1111111111111111,
                            "#46039f"
                          ],
                          [
                            0.2222222222222222,
                            "#7201a8"
                          ],
                          [
                            0.3333333333333333,
                            "#9c179e"
                          ],
                          [
                            0.4444444444444444,
                            "#bd3786"
                          ],
                          [
                            0.5555555555555556,
                            "#d8576b"
                          ],
                          [
                            0.6666666666666666,
                            "#ed7953"
                          ],
                          [
                            0.7777777777777778,
                            "#fb9f3a"
                          ],
                          [
                            0.8888888888888888,
                            "#fdca26"
                          ],
                          [
                            1,
                            "#f0f921"
                          ]
                        ],
                        "type": "contour"
                      }
                    ],
                    "contourcarpet": [
                      {
                        "colorbar": {
                          "outlinewidth": 0,
                          "ticks": ""
                        },
                        "type": "contourcarpet"
                      }
                    ],
                    "heatmap": [
                      {
                        "colorbar": {
                          "outlinewidth": 0,
                          "ticks": ""
                        },
                        "colorscale": [
                          [
                            0,
                            "#0d0887"
                          ],
                          [
                            0.1111111111111111,
                            "#46039f"
                          ],
                          [
                            0.2222222222222222,
                            "#7201a8"
                          ],
                          [
                            0.3333333333333333,
                            "#9c179e"
                          ],
                          [
                            0.4444444444444444,
                            "#bd3786"
                          ],
                          [
                            0.5555555555555556,
                            "#d8576b"
                          ],
                          [
                            0.6666666666666666,
                            "#ed7953"
                          ],
                          [
                            0.7777777777777778,
                            "#fb9f3a"
                          ],
                          [
                            0.8888888888888888,
                            "#fdca26"
                          ],
                          [
                            1,
                            "#f0f921"
                          ]
                        ],
                        "type": "heatmap"
                      }
                    ],
                    "heatmapgl": [
                      {
                        "colorbar": {
                          "outlinewidth": 0,
                          "ticks": ""
                        },
                        "colorscale": [
                          [
                            0,
                            "#0d0887"
                          ],
                          [
                            0.1111111111111111,
                            "#46039f"
                          ],
                          [
                            0.2222222222222222,
                            "#7201a8"
                          ],
                          [
                            0.3333333333333333,
                            "#9c179e"
                          ],
                          [
                            0.4444444444444444,
                            "#bd3786"
                          ],
                          [
                            0.5555555555555556,
                            "#d8576b"
                          ],
                          [
                            0.6666666666666666,
                            "#ed7953"
                          ],
                          [
                            0.7777777777777778,
                            "#fb9f3a"
                          ],
                          [
                            0.8888888888888888,
                            "#fdca26"
                          ],
                          [
                            1,
                            "#f0f921"
                          ]
                        ],
                        "type": "heatmapgl"
                      }
                    ],
                    "histogram": [
                      {
                        "marker": {
                          "colorbar": {
                            "outlinewidth": 0,
                            "ticks": ""
                          }
                        },
                        "type": "histogram"
                      }
                    ],
                    "histogram2d": [
                      {
                        "colorbar": {
                          "outlinewidth": 0,
                          "ticks": ""
                        },
                        "colorscale": [
                          [
                            0,
                            "#0d0887"
                          ],
                          [
                            0.1111111111111111,
                            "#46039f"
                          ],
                          [
                            0.2222222222222222,
                            "#7201a8"
                          ],
                          [
                            0.3333333333333333,
                            "#9c179e"
                          ],
                          [
                            0.4444444444444444,
                            "#bd3786"
                          ],
                          [
                            0.5555555555555556,
                            "#d8576b"
                          ],
                          [
                            0.6666666666666666,
                            "#ed7953"
                          ],
                          [
                            0.7777777777777778,
                            "#fb9f3a"
                          ],
                          [
                            0.8888888888888888,
                            "#fdca26"
                          ],
                          [
                            1,
                            "#f0f921"
                          ]
                        ],
                        "type": "histogram2d"
                      }
                    ],
                    "histogram2dcontour": [
                      {
                        "colorbar": {
                          "outlinewidth": 0,
                          "ticks": ""
                        },
                        "colorscale": [
                          [
                            0,
                            "#0d0887"
                          ],
                          [
                            0.1111111111111111,
                            "#46039f"
                          ],
                          [
                            0.2222222222222222,
                            "#7201a8"
                          ],
                          [
                            0.3333333333333333,
                            "#9c179e"
                          ],
                          [
                            0.4444444444444444,
                            "#bd3786"
                          ],
                          [
                            0.5555555555555556,
                            "#d8576b"
                          ],
                          [
                            0.6666666666666666,
                            "#ed7953"
                          ],
                          [
                            0.7777777777777778,
                            "#fb9f3a"
                          ],
                          [
                            0.8888888888888888,
                            "#fdca26"
                          ],
                          [
                            1,
                            "#f0f921"
                          ]
                        ],
                        "type": "histogram2dcontour"
                      }
                    ],
                    "mesh3d": [
                      {
                        "colorbar": {
                          "outlinewidth": 0,
                          "ticks": ""
                        },
                        "type": "mesh3d"
                      }
                    ],
                    "parcoords": [
                      {
                        "line": {
                          "colorbar": {
                            "outlinewidth": 0,
                            "ticks": ""
                          }
                        },
                        "type": "parcoords"
                      }
                    ],
                    "pie": [
                      {
                        "automargin": true,
                        "type": "pie"
                      }
                    ],
                    "scatter": [
                      {
                        "marker": {
                          "colorbar": {
                            "outlinewidth": 0,
                            "ticks": ""
                          }
                        },
                        "type": "scatter"
                      }
                    ],
                    "scatter3d": [
                      {
                        "line": {
                          "colorbar": {
                            "outlinewidth": 0,
                            "ticks": ""
                          }
                        },
                        "marker": {
                          "colorbar": {
                            "outlinewidth": 0,
                            "ticks": ""
                          }
                        },
                        "type": "scatter3d"
                      }
                    ],
                    "scattercarpet": [
                      {
                        "marker": {
                          "colorbar": {
                            "outlinewidth": 0,
                            "ticks": ""
                          }
                        },
                        "type": "scattercarpet"
                      }
                    ],
                    "scattergeo": [
                      {
                        "marker": {
                          "colorbar": {
                            "outlinewidth": 0,
                            "ticks": ""
                          }
                        },
                        "type": "scattergeo"
                      }
                    ],
                    "scattergl": [
                      {
                        "marker": {
                          "colorbar": {
                            "outlinewidth": 0,
                            "ticks": ""
                          }
                        },
                        "type": "scattergl"
                      }
                    ],
                    "scattermapbox": [
                      {
                        "marker": {
                          "colorbar": {
                            "outlinewidth": 0,
                            "ticks": ""
                          }
                        },
                        "type": "scattermapbox"
                      }
                    ],
                    "scatterpolar": [
                      {
                        "marker": {
                          "colorbar": {
                            "outlinewidth": 0,
                            "ticks": ""
                          }
                        },
                        "type": "scatterpolar"
                      }
                    ],
                    "scatterpolargl": [
                      {
                        "marker": {
                          "colorbar": {
                            "outlinewidth": 0,
                            "ticks": ""
                          }
                        },
                        "type": "scatterpolargl"
                      }
                    ],
                    "scatterternary": [
                      {
                        "marker": {
                          "colorbar": {
                            "outlinewidth": 0,
                            "ticks": ""
                          }
                        },
                        "type": "scatterternary"
                      }
                    ],
                    "surface": [
                      {
                        "colorbar": {
                          "outlinewidth": 0,
                          "ticks": ""
                        },
                        "colorscale": [
                          [
                            0,
                            "#0d0887"
                          ],
                          [
                            0.1111111111111111,
                            "#46039f"
                          ],
                          [
                            0.2222222222222222,
                            "#7201a8"
                          ],
                          [
                            0.3333333333333333,
                            "#9c179e"
                          ],
                          [
                            0.4444444444444444,
                            "#bd3786"
                          ],
                          [
                            0.5555555555555556,
                            "#d8576b"
                          ],
                          [
                            0.6666666666666666,
                            "#ed7953"
                          ],
                          [
                            0.7777777777777778,
                            "#fb9f3a"
                          ],
                          [
                            0.8888888888888888,
                            "#fdca26"
                          ],
                          [
                            1,
                            "#f0f921"
                          ]
                        ],
                        "type": "surface"
                      }
                    ],
                    "table": [
                      {
                        "cells": {
                          "fill": {
                            "color": "#EBF0F8"
                          },
                          "line": {
                            "color": "white"
                          }
                        },
                        "header": {
                          "fill": {
                            "color": "#C8D4E3"
                          },
                          "line": {
                            "color": "white"
                          }
                        },
                        "type": "table"
                      }
                    ]
                  },
                  "layout": {
                    "annotationdefaults": {
                      "arrowcolor": "#2a3f5f",
                      "arrowhead": 0,
                      "arrowwidth": 1
                    },
                    "coloraxis": {
                      "colorbar": {
                        "outlinewidth": 0,
                        "ticks": ""
                      }
                    },
                    "colorscale": {
                      "diverging": [
                        [
                          0,
                          "#8e0152"
                        ],
                        [
                          0.1,
                          "#c51b7d"
                        ],
                        [
                          0.2,
                          "#de77ae"
                        ],
                        [
                          0.3,
                          "#f1b6da"
                        ],
                        [
                          0.4,
                          "#fde0ef"
                        ],
                        [
                          0.5,
                          "#f7f7f7"
                        ],
                        [
                          0.6,
                          "#e6f5d0"
                        ],
                        [
                          0.7,
                          "#b8e186"
                        ],
                        [
                          0.8,
                          "#7fbc41"
                        ],
                        [
                          0.9,
                          "#4d9221"
                        ],
                        [
                          1,
                          "#276419"
                        ]
                      ],
                      "sequential": [
                        [
                          0,
                          "#0d0887"
                        ],
                        [
                          0.1111111111111111,
                          "#46039f"
                        ],
                        [
                          0.2222222222222222,
                          "#7201a8"
                        ],
                        [
                          0.3333333333333333,
                          "#9c179e"
                        ],
                        [
                          0.4444444444444444,
                          "#bd3786"
                        ],
                        [
                          0.5555555555555556,
                          "#d8576b"
                        ],
                        [
                          0.6666666666666666,
                          "#ed7953"
                        ],
                        [
                          0.7777777777777778,
                          "#fb9f3a"
                        ],
                        [
                          0.8888888888888888,
                          "#fdca26"
                        ],
                        [
                          1,
                          "#f0f921"
                        ]
                      ],
                      "sequentialminus": [
                        [
                          0,
                          "#0d0887"
                        ],
                        [
                          0.1111111111111111,
                          "#46039f"
                        ],
                        [
                          0.2222222222222222,
                          "#7201a8"
                        ],
                        [
                          0.3333333333333333,
                          "#9c179e"
                        ],
                        [
                          0.4444444444444444,
                          "#bd3786"
                        ],
                        [
                          0.5555555555555556,
                          "#d8576b"
                        ],
                        [
                          0.6666666666666666,
                          "#ed7953"
                        ],
                        [
                          0.7777777777777778,
                          "#fb9f3a"
                        ],
                        [
                          0.8888888888888888,
                          "#fdca26"
                        ],
                        [
                          1,
                          "#f0f921"
                        ]
                      ]
                    },
                    "colorway": [
                      "#636efa",
                      "#EF553B",
                      "#00cc96",
                      "#ab63fa",
                      "#FFA15A",
                      "#19d3f3",
                      "#FF6692",
                      "#B6E880",
                      "#FF97FF",
                      "#FECB52"
                    ],
                    "font": {
                      "color": "#2a3f5f"
                    },
                    "geo": {
                      "bgcolor": "white",
                      "lakecolor": "white",
                      "landcolor": "#E5ECF6",
                      "showlakes": true,
                      "showland": true,
                      "subunitcolor": "white"
                    },
                    "hoverlabel": {
                      "align": "left"
                    },
                    "hovermode": "closest",
                    "mapbox": {
                      "style": "light"
                    },
                    "paper_bgcolor": "white",
                    "plot_bgcolor": "#E5ECF6",
                    "polar": {
                      "angularaxis": {
                        "gridcolor": "white",
                        "linecolor": "white",
                        "ticks": ""
                      },
                      "bgcolor": "#E5ECF6",
                      "radialaxis": {
                        "gridcolor": "white",
                        "linecolor": "white",
                        "ticks": ""
                      }
                    },
                    "scene": {
                      "xaxis": {
                        "backgroundcolor": "#E5ECF6",
                        "gridcolor": "white",
                        "gridwidth": 2,
                        "linecolor": "white",
                        "showbackground": true,
                        "ticks": "",
                        "zerolinecolor": "white"
                      },
                      "yaxis": {
                        "backgroundcolor": "#E5ECF6",
                        "gridcolor": "white",
                        "gridwidth": 2,
                        "linecolor": "white",
                        "showbackground": true,
                        "ticks": "",
                        "zerolinecolor": "white"
                      },
                      "zaxis": {
                        "backgroundcolor": "#E5ECF6",
                        "gridcolor": "white",
                        "gridwidth": 2,
                        "linecolor": "white",
                        "showbackground": true,
                        "ticks": "",
                        "zerolinecolor": "white"
                      }
                    },
                    "shapedefaults": {
                      "line": {
                        "color": "#2a3f5f"
                      }
                    },
                    "ternary": {
                      "aaxis": {
                        "gridcolor": "white",
                        "linecolor": "white",
                        "ticks": ""
                      },
                      "baxis": {
                        "gridcolor": "white",
                        "linecolor": "white",
                        "ticks": ""
                      },
                      "bgcolor": "#E5ECF6",
                      "caxis": {
                        "gridcolor": "white",
                        "linecolor": "white",
                        "ticks": ""
                      }
                    },
                    "title": {
                      "x": 0.05
                    },
                    "xaxis": {
                      "automargin": true,
                      "gridcolor": "white",
                      "linecolor": "white",
                      "ticks": "",
                      "title": {
                        "standoff": 15
                      },
                      "zerolinecolor": "white",
                      "zerolinewidth": 2
                    },
                    "yaxis": {
                      "automargin": true,
                      "gridcolor": "white",
                      "linecolor": "white",
                      "ticks": "",
                      "title": {
                        "standoff": 15
                      },
                      "zerolinecolor": "white",
                      "zerolinewidth": 2
                    }
                  }
                }
              }
            },
            "text/html": [
              "<div>\n",
              "        \n",
              "        \n",
              "            <div id=\"77c9d72b-7069-4991-9ce2-78876138d557\" class=\"plotly-graph-div\" style=\"height:525px; width:100%;\"></div>\n",
              "            <script type=\"text/javascript\">\n",
              "                require([\"plotly\"], function(Plotly) {\n",
              "                    window.PLOTLYENV=window.PLOTLYENV || {};\n",
              "                    \n",
              "                if (document.getElementById(\"77c9d72b-7069-4991-9ce2-78876138d557\")) {\n",
              "                    Plotly.newPlot(\n",
              "                        '77c9d72b-7069-4991-9ce2-78876138d557',\n",
              "                        [{\"hoverlabel\": {\"namelength\": 0}, \"hovertemplate\": \"lat=%{lat}<br>long=%{lon}\", \"lat\": [49.210673, 49.212765000000005, 49.214832, 49.21691, 49.218398, 49.220662, 49.223425, 49.225458, 49.227465, 49.229847, 49.231503000000004, 49.233152000000004, 49.234784000000005, 49.236203, 49.237697999999995, 49.240320000000004, 49.241893, 49.244828000000005, 49.247959, 49.250596, 49.253274, 49.254682, 49.258015, 49.259948, 49.262699, 49.265331, 49.268043, 49.269918, 49.271608, 49.273323, 49.275134, 49.277014, 49.278704, 49.280571, 49.281362, 49.281378000000004, 49.281445, 49.281110999999996, 49.281155, 49.2812, 49.281282, 49.281321000000005, 49.281356, 49.281426, 49.281733, 49.282221, 49.283085, 49.283796, 49.280899], \"legendgroup\": \"\", \"lon\": [-123.065781, -123.065964, -123.065913, -123.065874, -123.065832, -123.06573799999998, -123.065653, -123.065603, -123.065556, -123.065483, -123.065432, -123.065403, -123.065348, -123.065307, -123.065288, -123.06518799999999, -123.06513799999999, -123.06503899999998, -123.064952, -123.064898, -123.066572, -123.068394, -123.069745, -123.069673, -123.06963600000002, -123.06959599999999, -123.06953, -123.06951799999999, -123.06948100000001, -123.06943000000001, -123.069418, -123.069433, -123.070346, -123.070272, -123.071174, -123.074606, -123.07788799999999, -123.08178899999999, -123.085249, -123.087667, -123.092019, -123.09390400000001, -123.09584699999999, -123.09936299999998, -123.10536599999999, -123.108043, -123.110279, -123.11242, -123.116794], \"marker\": {\"color\": \"#636efa\"}, \"mode\": \"markers\", \"name\": \"\", \"showlegend\": false, \"subplot\": \"mapbox\", \"type\": \"scattermapbox\"}],\n",
              "                        {\"legend\": {\"tracegroupgap\": 0}, \"mapbox\": {\"accesstoken\": \"pk.eyJ1IjoibW9lNTIwIiwiYSI6ImNrNjZ6ZW9obTE4MWwzbGx3em5ja3dyZzgifQ.se2TJofRn8GzoSrNt9O5WA\\n\\n\\n\", \"center\": {\"lat\": 49.25308, \"lon\": -123.0687}, \"domain\": {\"x\": [0.0, 1.0], \"y\": [0.0, 1.0]}, \"zoom\": 10}, \"margin\": {\"t\": 60}, \"template\": {\"data\": {\"bar\": [{\"error_x\": {\"color\": \"#2a3f5f\"}, \"error_y\": {\"color\": \"#2a3f5f\"}, \"marker\": {\"line\": {\"color\": \"#E5ECF6\", \"width\": 0.5}}, \"type\": \"bar\"}], \"barpolar\": [{\"marker\": {\"line\": {\"color\": \"#E5ECF6\", \"width\": 0.5}}, \"type\": \"barpolar\"}], \"carpet\": [{\"aaxis\": {\"endlinecolor\": \"#2a3f5f\", \"gridcolor\": \"white\", \"linecolor\": \"white\", \"minorgridcolor\": \"white\", \"startlinecolor\": \"#2a3f5f\"}, \"baxis\": {\"endlinecolor\": \"#2a3f5f\", \"gridcolor\": \"white\", \"linecolor\": \"white\", \"minorgridcolor\": \"white\", \"startlinecolor\": \"#2a3f5f\"}, \"type\": \"carpet\"}], \"choropleth\": [{\"colorbar\": {\"outlinewidth\": 0, \"ticks\": \"\"}, \"type\": \"choropleth\"}], \"contour\": [{\"colorbar\": {\"outlinewidth\": 0, \"ticks\": \"\"}, \"colorscale\": [[0.0, \"#0d0887\"], [0.1111111111111111, \"#46039f\"], [0.2222222222222222, \"#7201a8\"], [0.3333333333333333, \"#9c179e\"], [0.4444444444444444, \"#bd3786\"], [0.5555555555555556, \"#d8576b\"], [0.6666666666666666, \"#ed7953\"], [0.7777777777777778, \"#fb9f3a\"], [0.8888888888888888, \"#fdca26\"], [1.0, \"#f0f921\"]], \"type\": \"contour\"}], \"contourcarpet\": [{\"colorbar\": {\"outlinewidth\": 0, \"ticks\": \"\"}, \"type\": \"contourcarpet\"}], \"heatmap\": [{\"colorbar\": {\"outlinewidth\": 0, \"ticks\": \"\"}, \"colorscale\": [[0.0, \"#0d0887\"], [0.1111111111111111, \"#46039f\"], [0.2222222222222222, \"#7201a8\"], [0.3333333333333333, \"#9c179e\"], [0.4444444444444444, \"#bd3786\"], [0.5555555555555556, \"#d8576b\"], [0.6666666666666666, \"#ed7953\"], [0.7777777777777778, \"#fb9f3a\"], [0.8888888888888888, \"#fdca26\"], [1.0, \"#f0f921\"]], \"type\": \"heatmap\"}], \"heatmapgl\": [{\"colorbar\": {\"outlinewidth\": 0, \"ticks\": \"\"}, \"colorscale\": [[0.0, \"#0d0887\"], [0.1111111111111111, \"#46039f\"], [0.2222222222222222, \"#7201a8\"], [0.3333333333333333, \"#9c179e\"], [0.4444444444444444, \"#bd3786\"], [0.5555555555555556, \"#d8576b\"], [0.6666666666666666, \"#ed7953\"], [0.7777777777777778, \"#fb9f3a\"], [0.8888888888888888, \"#fdca26\"], [1.0, \"#f0f921\"]], \"type\": \"heatmapgl\"}], \"histogram\": [{\"marker\": {\"colorbar\": {\"outlinewidth\": 0, \"ticks\": \"\"}}, \"type\": \"histogram\"}], \"histogram2d\": [{\"colorbar\": {\"outlinewidth\": 0, \"ticks\": \"\"}, \"colorscale\": [[0.0, \"#0d0887\"], [0.1111111111111111, \"#46039f\"], [0.2222222222222222, \"#7201a8\"], [0.3333333333333333, \"#9c179e\"], [0.4444444444444444, \"#bd3786\"], [0.5555555555555556, \"#d8576b\"], [0.6666666666666666, \"#ed7953\"], [0.7777777777777778, \"#fb9f3a\"], [0.8888888888888888, \"#fdca26\"], [1.0, \"#f0f921\"]], \"type\": \"histogram2d\"}], \"histogram2dcontour\": [{\"colorbar\": {\"outlinewidth\": 0, \"ticks\": \"\"}, \"colorscale\": [[0.0, \"#0d0887\"], [0.1111111111111111, \"#46039f\"], [0.2222222222222222, \"#7201a8\"], [0.3333333333333333, \"#9c179e\"], [0.4444444444444444, \"#bd3786\"], [0.5555555555555556, \"#d8576b\"], [0.6666666666666666, \"#ed7953\"], [0.7777777777777778, \"#fb9f3a\"], [0.8888888888888888, \"#fdca26\"], [1.0, \"#f0f921\"]], \"type\": \"histogram2dcontour\"}], \"mesh3d\": [{\"colorbar\": {\"outlinewidth\": 0, \"ticks\": \"\"}, \"type\": \"mesh3d\"}], \"parcoords\": [{\"line\": {\"colorbar\": {\"outlinewidth\": 0, \"ticks\": \"\"}}, \"type\": \"parcoords\"}], \"pie\": [{\"automargin\": true, \"type\": \"pie\"}], \"scatter\": [{\"marker\": {\"colorbar\": {\"outlinewidth\": 0, \"ticks\": \"\"}}, \"type\": \"scatter\"}], \"scatter3d\": [{\"line\": {\"colorbar\": {\"outlinewidth\": 0, \"ticks\": \"\"}}, \"marker\": {\"colorbar\": {\"outlinewidth\": 0, \"ticks\": \"\"}}, \"type\": \"scatter3d\"}], \"scattercarpet\": [{\"marker\": {\"colorbar\": {\"outlinewidth\": 0, \"ticks\": \"\"}}, \"type\": \"scattercarpet\"}], \"scattergeo\": [{\"marker\": {\"colorbar\": {\"outlinewidth\": 0, \"ticks\": \"\"}}, \"type\": \"scattergeo\"}], \"scattergl\": [{\"marker\": {\"colorbar\": {\"outlinewidth\": 0, \"ticks\": \"\"}}, \"type\": \"scattergl\"}], \"scattermapbox\": [{\"marker\": {\"colorbar\": {\"outlinewidth\": 0, \"ticks\": \"\"}}, \"type\": \"scattermapbox\"}], \"scatterpolar\": [{\"marker\": {\"colorbar\": {\"outlinewidth\": 0, \"ticks\": \"\"}}, \"type\": \"scatterpolar\"}], \"scatterpolargl\": [{\"marker\": {\"colorbar\": {\"outlinewidth\": 0, \"ticks\": \"\"}}, \"type\": \"scatterpolargl\"}], \"scatterternary\": [{\"marker\": {\"colorbar\": {\"outlinewidth\": 0, \"ticks\": \"\"}}, \"type\": \"scatterternary\"}], \"surface\": [{\"colorbar\": {\"outlinewidth\": 0, \"ticks\": \"\"}, \"colorscale\": [[0.0, \"#0d0887\"], [0.1111111111111111, \"#46039f\"], [0.2222222222222222, \"#7201a8\"], [0.3333333333333333, \"#9c179e\"], [0.4444444444444444, \"#bd3786\"], [0.5555555555555556, \"#d8576b\"], [0.6666666666666666, \"#ed7953\"], [0.7777777777777778, \"#fb9f3a\"], [0.8888888888888888, \"#fdca26\"], [1.0, \"#f0f921\"]], \"type\": \"surface\"}], \"table\": [{\"cells\": {\"fill\": {\"color\": \"#EBF0F8\"}, \"line\": {\"color\": \"white\"}}, \"header\": {\"fill\": {\"color\": \"#C8D4E3\"}, \"line\": {\"color\": \"white\"}}, \"type\": \"table\"}]}, \"layout\": {\"annotationdefaults\": {\"arrowcolor\": \"#2a3f5f\", \"arrowhead\": 0, \"arrowwidth\": 1}, \"coloraxis\": {\"colorbar\": {\"outlinewidth\": 0, \"ticks\": \"\"}}, \"colorscale\": {\"diverging\": [[0, \"#8e0152\"], [0.1, \"#c51b7d\"], [0.2, \"#de77ae\"], [0.3, \"#f1b6da\"], [0.4, \"#fde0ef\"], [0.5, \"#f7f7f7\"], [0.6, \"#e6f5d0\"], [0.7, \"#b8e186\"], [0.8, \"#7fbc41\"], [0.9, \"#4d9221\"], [1, \"#276419\"]], \"sequential\": [[0.0, \"#0d0887\"], [0.1111111111111111, \"#46039f\"], [0.2222222222222222, \"#7201a8\"], [0.3333333333333333, \"#9c179e\"], [0.4444444444444444, \"#bd3786\"], [0.5555555555555556, \"#d8576b\"], [0.6666666666666666, \"#ed7953\"], [0.7777777777777778, \"#fb9f3a\"], [0.8888888888888888, \"#fdca26\"], [1.0, \"#f0f921\"]], \"sequentialminus\": [[0.0, \"#0d0887\"], [0.1111111111111111, \"#46039f\"], [0.2222222222222222, \"#7201a8\"], [0.3333333333333333, \"#9c179e\"], [0.4444444444444444, \"#bd3786\"], [0.5555555555555556, \"#d8576b\"], [0.6666666666666666, \"#ed7953\"], [0.7777777777777778, \"#fb9f3a\"], [0.8888888888888888, \"#fdca26\"], [1.0, \"#f0f921\"]]}, \"colorway\": [\"#636efa\", \"#EF553B\", \"#00cc96\", \"#ab63fa\", \"#FFA15A\", \"#19d3f3\", \"#FF6692\", \"#B6E880\", \"#FF97FF\", \"#FECB52\"], \"font\": {\"color\": \"#2a3f5f\"}, \"geo\": {\"bgcolor\": \"white\", \"lakecolor\": \"white\", \"landcolor\": \"#E5ECF6\", \"showlakes\": true, \"showland\": true, \"subunitcolor\": \"white\"}, \"hoverlabel\": {\"align\": \"left\"}, \"hovermode\": \"closest\", \"mapbox\": {\"style\": \"light\"}, \"paper_bgcolor\": \"white\", \"plot_bgcolor\": \"#E5ECF6\", \"polar\": {\"angularaxis\": {\"gridcolor\": \"white\", \"linecolor\": \"white\", \"ticks\": \"\"}, \"bgcolor\": \"#E5ECF6\", \"radialaxis\": {\"gridcolor\": \"white\", \"linecolor\": \"white\", \"ticks\": \"\"}}, \"scene\": {\"xaxis\": {\"backgroundcolor\": \"#E5ECF6\", \"gridcolor\": \"white\", \"gridwidth\": 2, \"linecolor\": \"white\", \"showbackground\": true, \"ticks\": \"\", \"zerolinecolor\": \"white\"}, \"yaxis\": {\"backgroundcolor\": \"#E5ECF6\", \"gridcolor\": \"white\", \"gridwidth\": 2, \"linecolor\": \"white\", \"showbackground\": true, \"ticks\": \"\", \"zerolinecolor\": \"white\"}, \"zaxis\": {\"backgroundcolor\": \"#E5ECF6\", \"gridcolor\": \"white\", \"gridwidth\": 2, \"linecolor\": \"white\", \"showbackground\": true, \"ticks\": \"\", \"zerolinecolor\": \"white\"}}, \"shapedefaults\": {\"line\": {\"color\": \"#2a3f5f\"}}, \"ternary\": {\"aaxis\": {\"gridcolor\": \"white\", \"linecolor\": \"white\", \"ticks\": \"\"}, \"baxis\": {\"gridcolor\": \"white\", \"linecolor\": \"white\", \"ticks\": \"\"}, \"bgcolor\": \"#E5ECF6\", \"caxis\": {\"gridcolor\": \"white\", \"linecolor\": \"white\", \"ticks\": \"\"}}, \"title\": {\"x\": 0.05}, \"xaxis\": {\"automargin\": true, \"gridcolor\": \"white\", \"linecolor\": \"white\", \"ticks\": \"\", \"title\": {\"standoff\": 15}, \"zerolinecolor\": \"white\", \"zerolinewidth\": 2}, \"yaxis\": {\"automargin\": true, \"gridcolor\": \"white\", \"linecolor\": \"white\", \"ticks\": \"\", \"title\": {\"standoff\": 15}, \"zerolinecolor\": \"white\", \"zerolinewidth\": 2}}}},\n",
              "                        {\"responsive\": true}\n",
              "                    ).then(function(){\n",
              "                            \n",
              "var gd = document.getElementById('77c9d72b-7069-4991-9ce2-78876138d557');\n",
              "var x = new MutationObserver(function (mutations, observer) {{\n",
              "        var display = window.getComputedStyle(gd).display;\n",
              "        if (!display || display === 'none') {{\n",
              "            console.log([gd, 'removed!']);\n",
              "            Plotly.purge(gd);\n",
              "            observer.disconnect();\n",
              "        }}\n",
              "}});\n",
              "\n",
              "// Listen for the removal of the full notebook cells\n",
              "var notebookContainer = gd.closest('#notebook-container');\n",
              "if (notebookContainer) {{\n",
              "    x.observe(notebookContainer, {childList: true});\n",
              "}}\n",
              "\n",
              "// Listen for the clearing of the current output cell\n",
              "var outputEl = gd.closest('.output');\n",
              "if (outputEl) {{\n",
              "    x.observe(outputEl, {childList: true});\n",
              "}}\n",
              "\n",
              "                        })\n",
              "                };\n",
              "                });\n",
              "            </script>\n",
              "        </div>"
            ]
          },
          "metadata": {}
        }
      ],
      "execution_count": 15,
      "metadata": {
        "collapsed": false,
        "jupyter": {
          "source_hidden": false,
          "outputs_hidden": false
        },
        "nteract": {
          "transient": {
            "deleting": false
          }
        }
      }
    },
    {
      "cell_type": "code",
      "source": [
        "import plotly.express as px\n",
        "px.set_mapbox_access_token(open(\"plotly-key\").read())\n",
        "\n",
        "\n",
        "\n",
        "fig = px.scatter_mapbox(stopVizDf, lat=\"lat\", lon=\"long\",\n",
        "                        color=\"connectedness\",\n",
        "                        size=\"connectedness\",\n",
        "                        size_max=15, zoom=10)\n",
        "\n",
        "# fig = px.scatter_mapbox(areaVizDf, \n",
        "#                         lat=\"lat\", \n",
        "#                         lon=\"long\", \n",
        "#                         size='pop',\n",
        "#                         color='pop',\n",
        "#                         size_max=20, \n",
        "#                         zoom=10)\n",
        "\n",
        "\n",
        "# fig.add_heatmap()\n",
        "fig.show()\n"
      ],
      "outputs": [
        {
          "output_type": "display_data",
          "data": {
            "application/vnd.plotly.v1+json": {
              "config": {
                "plotlyServerURL": "https://plot.ly"
              },
              "data": [
                {
                  "hoverlabel": {
                    "namelength": 0
                  },
                  "hovertemplate": "connectedness=%{marker.color}<br>lat=%{lat}<br>long=%{lon}",
                  "lat": [
                    49.210673,
                    49.212765000000005,
                    49.214832,
                    49.21691,
                    49.218398,
                    49.220662,
                    49.223425,
                    49.225458,
                    49.227465,
                    49.229847,
                    49.231503000000004,
                    49.233152000000004,
                    49.234784000000005,
                    49.236203,
                    49.237697999999995,
                    49.240320000000004,
                    49.241893,
                    49.244828000000005,
                    49.247959,
                    49.250596,
                    49.253274,
                    49.254682,
                    49.258015,
                    49.259948,
                    49.262699,
                    49.265331,
                    49.268043,
                    49.269918,
                    49.271608,
                    49.273323,
                    49.275134,
                    49.277014,
                    49.278704,
                    49.280571,
                    49.281362,
                    49.281378000000004,
                    49.281445,
                    49.281110999999996,
                    49.281155,
                    49.2812,
                    49.281282,
                    49.281321000000005,
                    49.281356,
                    49.281426,
                    49.281733,
                    49.282221,
                    49.283085,
                    49.283796,
                    49.280899
                  ],
                  "legendgroup": "",
                  "lon": [
                    -123.065781,
                    -123.065964,
                    -123.065913,
                    -123.065874,
                    -123.065832,
                    -123.06573799999998,
                    -123.065653,
                    -123.065603,
                    -123.065556,
                    -123.065483,
                    -123.065432,
                    -123.065403,
                    -123.065348,
                    -123.065307,
                    -123.065288,
                    -123.06518799999999,
                    -123.06513799999999,
                    -123.06503899999998,
                    -123.064952,
                    -123.064898,
                    -123.066572,
                    -123.068394,
                    -123.069745,
                    -123.069673,
                    -123.06963600000002,
                    -123.06959599999999,
                    -123.06953,
                    -123.06951799999999,
                    -123.06948100000001,
                    -123.06943000000001,
                    -123.069418,
                    -123.069433,
                    -123.070346,
                    -123.070272,
                    -123.071174,
                    -123.074606,
                    -123.07788799999999,
                    -123.08178899999999,
                    -123.085249,
                    -123.087667,
                    -123.092019,
                    -123.09390400000001,
                    -123.09584699999999,
                    -123.09936299999998,
                    -123.10536599999999,
                    -123.108043,
                    -123.110279,
                    -123.11242,
                    -123.116794
                  ],
                  "marker": {
                    "color": [
                      1,
                      2,
                      2,
                      2,
                      2,
                      2,
                      2,
                      2,
                      2,
                      2,
                      2,
                      2,
                      2,
                      2,
                      2,
                      2,
                      2,
                      2,
                      2,
                      2,
                      2,
                      2,
                      2,
                      2,
                      2,
                      2,
                      2,
                      2,
                      2,
                      2,
                      2,
                      2,
                      2,
                      2,
                      6,
                      5,
                      5,
                      5,
                      5,
                      5,
                      5,
                      5,
                      5,
                      4,
                      8,
                      8,
                      8,
                      3,
                      1
                    ],
                    "coloraxis": "coloraxis",
                    "size": [
                      1,
                      2,
                      2,
                      2,
                      2,
                      2,
                      2,
                      2,
                      2,
                      2,
                      2,
                      2,
                      2,
                      2,
                      2,
                      2,
                      2,
                      2,
                      2,
                      2,
                      2,
                      2,
                      2,
                      2,
                      2,
                      2,
                      2,
                      2,
                      2,
                      2,
                      2,
                      2,
                      2,
                      2,
                      6,
                      5,
                      5,
                      5,
                      5,
                      5,
                      5,
                      5,
                      5,
                      4,
                      8,
                      8,
                      8,
                      3,
                      1
                    ],
                    "sizemode": "area",
                    "sizeref": 0.035555555555555556
                  },
                  "mode": "markers",
                  "name": "",
                  "showlegend": false,
                  "subplot": "mapbox",
                  "type": "scattermapbox"
                }
              ],
              "layout": {
                "coloraxis": {
                  "colorbar": {
                    "title": {
                      "text": "connectedness"
                    }
                  },
                  "colorscale": [
                    [
                      0,
                      "#0d0887"
                    ],
                    [
                      0.1111111111111111,
                      "#46039f"
                    ],
                    [
                      0.2222222222222222,
                      "#7201a8"
                    ],
                    [
                      0.3333333333333333,
                      "#9c179e"
                    ],
                    [
                      0.4444444444444444,
                      "#bd3786"
                    ],
                    [
                      0.5555555555555556,
                      "#d8576b"
                    ],
                    [
                      0.6666666666666666,
                      "#ed7953"
                    ],
                    [
                      0.7777777777777778,
                      "#fb9f3a"
                    ],
                    [
                      0.8888888888888888,
                      "#fdca26"
                    ],
                    [
                      1,
                      "#f0f921"
                    ]
                  ]
                },
                "legend": {
                  "itemsizing": "constant",
                  "tracegroupgap": 0
                },
                "mapbox": {
                  "accesstoken": "pk.eyJ1IjoibW9lNTIwIiwiYSI6ImNrNjZ6ZW9obTE4MWwzbGx3em5ja3dyZzgifQ.se2TJofRn8GzoSrNt9O5WA\n\n\n",
                  "center": {
                    "lat": 49.256579693877555,
                    "lon": -123.07536412244897
                  },
                  "domain": {
                    "x": [
                      0,
                      1
                    ],
                    "y": [
                      0,
                      1
                    ]
                  },
                  "zoom": 10
                },
                "margin": {
                  "t": 60
                },
                "template": {
                  "data": {
                    "bar": [
                      {
                        "error_x": {
                          "color": "#2a3f5f"
                        },
                        "error_y": {
                          "color": "#2a3f5f"
                        },
                        "marker": {
                          "line": {
                            "color": "#E5ECF6",
                            "width": 0.5
                          }
                        },
                        "type": "bar"
                      }
                    ],
                    "barpolar": [
                      {
                        "marker": {
                          "line": {
                            "color": "#E5ECF6",
                            "width": 0.5
                          }
                        },
                        "type": "barpolar"
                      }
                    ],
                    "carpet": [
                      {
                        "aaxis": {
                          "endlinecolor": "#2a3f5f",
                          "gridcolor": "white",
                          "linecolor": "white",
                          "minorgridcolor": "white",
                          "startlinecolor": "#2a3f5f"
                        },
                        "baxis": {
                          "endlinecolor": "#2a3f5f",
                          "gridcolor": "white",
                          "linecolor": "white",
                          "minorgridcolor": "white",
                          "startlinecolor": "#2a3f5f"
                        },
                        "type": "carpet"
                      }
                    ],
                    "choropleth": [
                      {
                        "colorbar": {
                          "outlinewidth": 0,
                          "ticks": ""
                        },
                        "type": "choropleth"
                      }
                    ],
                    "contour": [
                      {
                        "colorbar": {
                          "outlinewidth": 0,
                          "ticks": ""
                        },
                        "colorscale": [
                          [
                            0,
                            "#0d0887"
                          ],
                          [
                            0.1111111111111111,
                            "#46039f"
                          ],
                          [
                            0.2222222222222222,
                            "#7201a8"
                          ],
                          [
                            0.3333333333333333,
                            "#9c179e"
                          ],
                          [
                            0.4444444444444444,
                            "#bd3786"
                          ],
                          [
                            0.5555555555555556,
                            "#d8576b"
                          ],
                          [
                            0.6666666666666666,
                            "#ed7953"
                          ],
                          [
                            0.7777777777777778,
                            "#fb9f3a"
                          ],
                          [
                            0.8888888888888888,
                            "#fdca26"
                          ],
                          [
                            1,
                            "#f0f921"
                          ]
                        ],
                        "type": "contour"
                      }
                    ],
                    "contourcarpet": [
                      {
                        "colorbar": {
                          "outlinewidth": 0,
                          "ticks": ""
                        },
                        "type": "contourcarpet"
                      }
                    ],
                    "heatmap": [
                      {
                        "colorbar": {
                          "outlinewidth": 0,
                          "ticks": ""
                        },
                        "colorscale": [
                          [
                            0,
                            "#0d0887"
                          ],
                          [
                            0.1111111111111111,
                            "#46039f"
                          ],
                          [
                            0.2222222222222222,
                            "#7201a8"
                          ],
                          [
                            0.3333333333333333,
                            "#9c179e"
                          ],
                          [
                            0.4444444444444444,
                            "#bd3786"
                          ],
                          [
                            0.5555555555555556,
                            "#d8576b"
                          ],
                          [
                            0.6666666666666666,
                            "#ed7953"
                          ],
                          [
                            0.7777777777777778,
                            "#fb9f3a"
                          ],
                          [
                            0.8888888888888888,
                            "#fdca26"
                          ],
                          [
                            1,
                            "#f0f921"
                          ]
                        ],
                        "type": "heatmap"
                      }
                    ],
                    "heatmapgl": [
                      {
                        "colorbar": {
                          "outlinewidth": 0,
                          "ticks": ""
                        },
                        "colorscale": [
                          [
                            0,
                            "#0d0887"
                          ],
                          [
                            0.1111111111111111,
                            "#46039f"
                          ],
                          [
                            0.2222222222222222,
                            "#7201a8"
                          ],
                          [
                            0.3333333333333333,
                            "#9c179e"
                          ],
                          [
                            0.4444444444444444,
                            "#bd3786"
                          ],
                          [
                            0.5555555555555556,
                            "#d8576b"
                          ],
                          [
                            0.6666666666666666,
                            "#ed7953"
                          ],
                          [
                            0.7777777777777778,
                            "#fb9f3a"
                          ],
                          [
                            0.8888888888888888,
                            "#fdca26"
                          ],
                          [
                            1,
                            "#f0f921"
                          ]
                        ],
                        "type": "heatmapgl"
                      }
                    ],
                    "histogram": [
                      {
                        "marker": {
                          "colorbar": {
                            "outlinewidth": 0,
                            "ticks": ""
                          }
                        },
                        "type": "histogram"
                      }
                    ],
                    "histogram2d": [
                      {
                        "colorbar": {
                          "outlinewidth": 0,
                          "ticks": ""
                        },
                        "colorscale": [
                          [
                            0,
                            "#0d0887"
                          ],
                          [
                            0.1111111111111111,
                            "#46039f"
                          ],
                          [
                            0.2222222222222222,
                            "#7201a8"
                          ],
                          [
                            0.3333333333333333,
                            "#9c179e"
                          ],
                          [
                            0.4444444444444444,
                            "#bd3786"
                          ],
                          [
                            0.5555555555555556,
                            "#d8576b"
                          ],
                          [
                            0.6666666666666666,
                            "#ed7953"
                          ],
                          [
                            0.7777777777777778,
                            "#fb9f3a"
                          ],
                          [
                            0.8888888888888888,
                            "#fdca26"
                          ],
                          [
                            1,
                            "#f0f921"
                          ]
                        ],
                        "type": "histogram2d"
                      }
                    ],
                    "histogram2dcontour": [
                      {
                        "colorbar": {
                          "outlinewidth": 0,
                          "ticks": ""
                        },
                        "colorscale": [
                          [
                            0,
                            "#0d0887"
                          ],
                          [
                            0.1111111111111111,
                            "#46039f"
                          ],
                          [
                            0.2222222222222222,
                            "#7201a8"
                          ],
                          [
                            0.3333333333333333,
                            "#9c179e"
                          ],
                          [
                            0.4444444444444444,
                            "#bd3786"
                          ],
                          [
                            0.5555555555555556,
                            "#d8576b"
                          ],
                          [
                            0.6666666666666666,
                            "#ed7953"
                          ],
                          [
                            0.7777777777777778,
                            "#fb9f3a"
                          ],
                          [
                            0.8888888888888888,
                            "#fdca26"
                          ],
                          [
                            1,
                            "#f0f921"
                          ]
                        ],
                        "type": "histogram2dcontour"
                      }
                    ],
                    "mesh3d": [
                      {
                        "colorbar": {
                          "outlinewidth": 0,
                          "ticks": ""
                        },
                        "type": "mesh3d"
                      }
                    ],
                    "parcoords": [
                      {
                        "line": {
                          "colorbar": {
                            "outlinewidth": 0,
                            "ticks": ""
                          }
                        },
                        "type": "parcoords"
                      }
                    ],
                    "pie": [
                      {
                        "automargin": true,
                        "type": "pie"
                      }
                    ],
                    "scatter": [
                      {
                        "marker": {
                          "colorbar": {
                            "outlinewidth": 0,
                            "ticks": ""
                          }
                        },
                        "type": "scatter"
                      }
                    ],
                    "scatter3d": [
                      {
                        "line": {
                          "colorbar": {
                            "outlinewidth": 0,
                            "ticks": ""
                          }
                        },
                        "marker": {
                          "colorbar": {
                            "outlinewidth": 0,
                            "ticks": ""
                          }
                        },
                        "type": "scatter3d"
                      }
                    ],
                    "scattercarpet": [
                      {
                        "marker": {
                          "colorbar": {
                            "outlinewidth": 0,
                            "ticks": ""
                          }
                        },
                        "type": "scattercarpet"
                      }
                    ],
                    "scattergeo": [
                      {
                        "marker": {
                          "colorbar": {
                            "outlinewidth": 0,
                            "ticks": ""
                          }
                        },
                        "type": "scattergeo"
                      }
                    ],
                    "scattergl": [
                      {
                        "marker": {
                          "colorbar": {
                            "outlinewidth": 0,
                            "ticks": ""
                          }
                        },
                        "type": "scattergl"
                      }
                    ],
                    "scattermapbox": [
                      {
                        "marker": {
                          "colorbar": {
                            "outlinewidth": 0,
                            "ticks": ""
                          }
                        },
                        "type": "scattermapbox"
                      }
                    ],
                    "scatterpolar": [
                      {
                        "marker": {
                          "colorbar": {
                            "outlinewidth": 0,
                            "ticks": ""
                          }
                        },
                        "type": "scatterpolar"
                      }
                    ],
                    "scatterpolargl": [
                      {
                        "marker": {
                          "colorbar": {
                            "outlinewidth": 0,
                            "ticks": ""
                          }
                        },
                        "type": "scatterpolargl"
                      }
                    ],
                    "scatterternary": [
                      {
                        "marker": {
                          "colorbar": {
                            "outlinewidth": 0,
                            "ticks": ""
                          }
                        },
                        "type": "scatterternary"
                      }
                    ],
                    "surface": [
                      {
                        "colorbar": {
                          "outlinewidth": 0,
                          "ticks": ""
                        },
                        "colorscale": [
                          [
                            0,
                            "#0d0887"
                          ],
                          [
                            0.1111111111111111,
                            "#46039f"
                          ],
                          [
                            0.2222222222222222,
                            "#7201a8"
                          ],
                          [
                            0.3333333333333333,
                            "#9c179e"
                          ],
                          [
                            0.4444444444444444,
                            "#bd3786"
                          ],
                          [
                            0.5555555555555556,
                            "#d8576b"
                          ],
                          [
                            0.6666666666666666,
                            "#ed7953"
                          ],
                          [
                            0.7777777777777778,
                            "#fb9f3a"
                          ],
                          [
                            0.8888888888888888,
                            "#fdca26"
                          ],
                          [
                            1,
                            "#f0f921"
                          ]
                        ],
                        "type": "surface"
                      }
                    ],
                    "table": [
                      {
                        "cells": {
                          "fill": {
                            "color": "#EBF0F8"
                          },
                          "line": {
                            "color": "white"
                          }
                        },
                        "header": {
                          "fill": {
                            "color": "#C8D4E3"
                          },
                          "line": {
                            "color": "white"
                          }
                        },
                        "type": "table"
                      }
                    ]
                  },
                  "layout": {
                    "annotationdefaults": {
                      "arrowcolor": "#2a3f5f",
                      "arrowhead": 0,
                      "arrowwidth": 1
                    },
                    "coloraxis": {
                      "colorbar": {
                        "outlinewidth": 0,
                        "ticks": ""
                      }
                    },
                    "colorscale": {
                      "diverging": [
                        [
                          0,
                          "#8e0152"
                        ],
                        [
                          0.1,
                          "#c51b7d"
                        ],
                        [
                          0.2,
                          "#de77ae"
                        ],
                        [
                          0.3,
                          "#f1b6da"
                        ],
                        [
                          0.4,
                          "#fde0ef"
                        ],
                        [
                          0.5,
                          "#f7f7f7"
                        ],
                        [
                          0.6,
                          "#e6f5d0"
                        ],
                        [
                          0.7,
                          "#b8e186"
                        ],
                        [
                          0.8,
                          "#7fbc41"
                        ],
                        [
                          0.9,
                          "#4d9221"
                        ],
                        [
                          1,
                          "#276419"
                        ]
                      ],
                      "sequential": [
                        [
                          0,
                          "#0d0887"
                        ],
                        [
                          0.1111111111111111,
                          "#46039f"
                        ],
                        [
                          0.2222222222222222,
                          "#7201a8"
                        ],
                        [
                          0.3333333333333333,
                          "#9c179e"
                        ],
                        [
                          0.4444444444444444,
                          "#bd3786"
                        ],
                        [
                          0.5555555555555556,
                          "#d8576b"
                        ],
                        [
                          0.6666666666666666,
                          "#ed7953"
                        ],
                        [
                          0.7777777777777778,
                          "#fb9f3a"
                        ],
                        [
                          0.8888888888888888,
                          "#fdca26"
                        ],
                        [
                          1,
                          "#f0f921"
                        ]
                      ],
                      "sequentialminus": [
                        [
                          0,
                          "#0d0887"
                        ],
                        [
                          0.1111111111111111,
                          "#46039f"
                        ],
                        [
                          0.2222222222222222,
                          "#7201a8"
                        ],
                        [
                          0.3333333333333333,
                          "#9c179e"
                        ],
                        [
                          0.4444444444444444,
                          "#bd3786"
                        ],
                        [
                          0.5555555555555556,
                          "#d8576b"
                        ],
                        [
                          0.6666666666666666,
                          "#ed7953"
                        ],
                        [
                          0.7777777777777778,
                          "#fb9f3a"
                        ],
                        [
                          0.8888888888888888,
                          "#fdca26"
                        ],
                        [
                          1,
                          "#f0f921"
                        ]
                      ]
                    },
                    "colorway": [
                      "#636efa",
                      "#EF553B",
                      "#00cc96",
                      "#ab63fa",
                      "#FFA15A",
                      "#19d3f3",
                      "#FF6692",
                      "#B6E880",
                      "#FF97FF",
                      "#FECB52"
                    ],
                    "font": {
                      "color": "#2a3f5f"
                    },
                    "geo": {
                      "bgcolor": "white",
                      "lakecolor": "white",
                      "landcolor": "#E5ECF6",
                      "showlakes": true,
                      "showland": true,
                      "subunitcolor": "white"
                    },
                    "hoverlabel": {
                      "align": "left"
                    },
                    "hovermode": "closest",
                    "mapbox": {
                      "style": "light"
                    },
                    "paper_bgcolor": "white",
                    "plot_bgcolor": "#E5ECF6",
                    "polar": {
                      "angularaxis": {
                        "gridcolor": "white",
                        "linecolor": "white",
                        "ticks": ""
                      },
                      "bgcolor": "#E5ECF6",
                      "radialaxis": {
                        "gridcolor": "white",
                        "linecolor": "white",
                        "ticks": ""
                      }
                    },
                    "scene": {
                      "xaxis": {
                        "backgroundcolor": "#E5ECF6",
                        "gridcolor": "white",
                        "gridwidth": 2,
                        "linecolor": "white",
                        "showbackground": true,
                        "ticks": "",
                        "zerolinecolor": "white"
                      },
                      "yaxis": {
                        "backgroundcolor": "#E5ECF6",
                        "gridcolor": "white",
                        "gridwidth": 2,
                        "linecolor": "white",
                        "showbackground": true,
                        "ticks": "",
                        "zerolinecolor": "white"
                      },
                      "zaxis": {
                        "backgroundcolor": "#E5ECF6",
                        "gridcolor": "white",
                        "gridwidth": 2,
                        "linecolor": "white",
                        "showbackground": true,
                        "ticks": "",
                        "zerolinecolor": "white"
                      }
                    },
                    "shapedefaults": {
                      "line": {
                        "color": "#2a3f5f"
                      }
                    },
                    "ternary": {
                      "aaxis": {
                        "gridcolor": "white",
                        "linecolor": "white",
                        "ticks": ""
                      },
                      "baxis": {
                        "gridcolor": "white",
                        "linecolor": "white",
                        "ticks": ""
                      },
                      "bgcolor": "#E5ECF6",
                      "caxis": {
                        "gridcolor": "white",
                        "linecolor": "white",
                        "ticks": ""
                      }
                    },
                    "title": {
                      "x": 0.05
                    },
                    "xaxis": {
                      "automargin": true,
                      "gridcolor": "white",
                      "linecolor": "white",
                      "ticks": "",
                      "title": {
                        "standoff": 15
                      },
                      "zerolinecolor": "white",
                      "zerolinewidth": 2
                    },
                    "yaxis": {
                      "automargin": true,
                      "gridcolor": "white",
                      "linecolor": "white",
                      "ticks": "",
                      "title": {
                        "standoff": 15
                      },
                      "zerolinecolor": "white",
                      "zerolinewidth": 2
                    }
                  }
                }
              }
            },
            "text/html": [
              "<div>\n",
              "        \n",
              "        \n",
              "            <div id=\"2e660377-7962-4d26-84b3-8968396153a5\" class=\"plotly-graph-div\" style=\"height:525px; width:100%;\"></div>\n",
              "            <script type=\"text/javascript\">\n",
              "                require([\"plotly\"], function(Plotly) {\n",
              "                    window.PLOTLYENV=window.PLOTLYENV || {};\n",
              "                    \n",
              "                if (document.getElementById(\"2e660377-7962-4d26-84b3-8968396153a5\")) {\n",
              "                    Plotly.newPlot(\n",
              "                        '2e660377-7962-4d26-84b3-8968396153a5',\n",
              "                        [{\"hoverlabel\": {\"namelength\": 0}, \"hovertemplate\": \"connectedness=%{marker.color}<br>lat=%{lat}<br>long=%{lon}\", \"lat\": [49.210673, 49.212765000000005, 49.214832, 49.21691, 49.218398, 49.220662, 49.223425, 49.225458, 49.227465, 49.229847, 49.231503000000004, 49.233152000000004, 49.234784000000005, 49.236203, 49.237697999999995, 49.240320000000004, 49.241893, 49.244828000000005, 49.247959, 49.250596, 49.253274, 49.254682, 49.258015, 49.259948, 49.262699, 49.265331, 49.268043, 49.269918, 49.271608, 49.273323, 49.275134, 49.277014, 49.278704, 49.280571, 49.281362, 49.281378000000004, 49.281445, 49.281110999999996, 49.281155, 49.2812, 49.281282, 49.281321000000005, 49.281356, 49.281426, 49.281733, 49.282221, 49.283085, 49.283796, 49.280899], \"legendgroup\": \"\", \"lon\": [-123.065781, -123.065964, -123.065913, -123.065874, -123.065832, -123.06573799999998, -123.065653, -123.065603, -123.065556, -123.065483, -123.065432, -123.065403, -123.065348, -123.065307, -123.065288, -123.06518799999999, -123.06513799999999, -123.06503899999998, -123.064952, -123.064898, -123.066572, -123.068394, -123.069745, -123.069673, -123.06963600000002, -123.06959599999999, -123.06953, -123.06951799999999, -123.06948100000001, -123.06943000000001, -123.069418, -123.069433, -123.070346, -123.070272, -123.071174, -123.074606, -123.07788799999999, -123.08178899999999, -123.085249, -123.087667, -123.092019, -123.09390400000001, -123.09584699999999, -123.09936299999998, -123.10536599999999, -123.108043, -123.110279, -123.11242, -123.116794], \"marker\": {\"color\": [1, 2, 2, 2, 2, 2, 2, 2, 2, 2, 2, 2, 2, 2, 2, 2, 2, 2, 2, 2, 2, 2, 2, 2, 2, 2, 2, 2, 2, 2, 2, 2, 2, 2, 6, 5, 5, 5, 5, 5, 5, 5, 5, 4, 8, 8, 8, 3, 1], \"coloraxis\": \"coloraxis\", \"size\": [1, 2, 2, 2, 2, 2, 2, 2, 2, 2, 2, 2, 2, 2, 2, 2, 2, 2, 2, 2, 2, 2, 2, 2, 2, 2, 2, 2, 2, 2, 2, 2, 2, 2, 6, 5, 5, 5, 5, 5, 5, 5, 5, 4, 8, 8, 8, 3, 1], \"sizemode\": \"area\", \"sizeref\": 0.035555555555555556}, \"mode\": \"markers\", \"name\": \"\", \"showlegend\": false, \"subplot\": \"mapbox\", \"type\": \"scattermapbox\"}],\n",
              "                        {\"coloraxis\": {\"colorbar\": {\"title\": {\"text\": \"connectedness\"}}, \"colorscale\": [[0.0, \"#0d0887\"], [0.1111111111111111, \"#46039f\"], [0.2222222222222222, \"#7201a8\"], [0.3333333333333333, \"#9c179e\"], [0.4444444444444444, \"#bd3786\"], [0.5555555555555556, \"#d8576b\"], [0.6666666666666666, \"#ed7953\"], [0.7777777777777778, \"#fb9f3a\"], [0.8888888888888888, \"#fdca26\"], [1.0, \"#f0f921\"]]}, \"legend\": {\"itemsizing\": \"constant\", \"tracegroupgap\": 0}, \"mapbox\": {\"accesstoken\": \"pk.eyJ1IjoibW9lNTIwIiwiYSI6ImNrNjZ6ZW9obTE4MWwzbGx3em5ja3dyZzgifQ.se2TJofRn8GzoSrNt9O5WA\\n\\n\\n\", \"center\": {\"lat\": 49.256579693877555, \"lon\": -123.07536412244897}, \"domain\": {\"x\": [0.0, 1.0], \"y\": [0.0, 1.0]}, \"zoom\": 10}, \"margin\": {\"t\": 60}, \"template\": {\"data\": {\"bar\": [{\"error_x\": {\"color\": \"#2a3f5f\"}, \"error_y\": {\"color\": \"#2a3f5f\"}, \"marker\": {\"line\": {\"color\": \"#E5ECF6\", \"width\": 0.5}}, \"type\": \"bar\"}], \"barpolar\": [{\"marker\": {\"line\": {\"color\": \"#E5ECF6\", \"width\": 0.5}}, \"type\": \"barpolar\"}], \"carpet\": [{\"aaxis\": {\"endlinecolor\": \"#2a3f5f\", \"gridcolor\": \"white\", \"linecolor\": \"white\", \"minorgridcolor\": \"white\", \"startlinecolor\": \"#2a3f5f\"}, \"baxis\": {\"endlinecolor\": \"#2a3f5f\", \"gridcolor\": \"white\", \"linecolor\": \"white\", \"minorgridcolor\": \"white\", \"startlinecolor\": \"#2a3f5f\"}, \"type\": \"carpet\"}], \"choropleth\": [{\"colorbar\": {\"outlinewidth\": 0, \"ticks\": \"\"}, \"type\": \"choropleth\"}], \"contour\": [{\"colorbar\": {\"outlinewidth\": 0, \"ticks\": \"\"}, \"colorscale\": [[0.0, \"#0d0887\"], [0.1111111111111111, \"#46039f\"], [0.2222222222222222, \"#7201a8\"], [0.3333333333333333, \"#9c179e\"], [0.4444444444444444, \"#bd3786\"], [0.5555555555555556, \"#d8576b\"], [0.6666666666666666, \"#ed7953\"], [0.7777777777777778, \"#fb9f3a\"], [0.8888888888888888, \"#fdca26\"], [1.0, \"#f0f921\"]], \"type\": \"contour\"}], \"contourcarpet\": [{\"colorbar\": {\"outlinewidth\": 0, \"ticks\": \"\"}, \"type\": \"contourcarpet\"}], \"heatmap\": [{\"colorbar\": {\"outlinewidth\": 0, \"ticks\": \"\"}, \"colorscale\": [[0.0, \"#0d0887\"], [0.1111111111111111, \"#46039f\"], [0.2222222222222222, \"#7201a8\"], [0.3333333333333333, \"#9c179e\"], [0.4444444444444444, \"#bd3786\"], [0.5555555555555556, \"#d8576b\"], [0.6666666666666666, \"#ed7953\"], [0.7777777777777778, \"#fb9f3a\"], [0.8888888888888888, \"#fdca26\"], [1.0, \"#f0f921\"]], \"type\": \"heatmap\"}], \"heatmapgl\": [{\"colorbar\": {\"outlinewidth\": 0, \"ticks\": \"\"}, \"colorscale\": [[0.0, \"#0d0887\"], [0.1111111111111111, \"#46039f\"], [0.2222222222222222, \"#7201a8\"], [0.3333333333333333, \"#9c179e\"], [0.4444444444444444, \"#bd3786\"], [0.5555555555555556, \"#d8576b\"], [0.6666666666666666, \"#ed7953\"], [0.7777777777777778, \"#fb9f3a\"], [0.8888888888888888, \"#fdca26\"], [1.0, \"#f0f921\"]], \"type\": \"heatmapgl\"}], \"histogram\": [{\"marker\": {\"colorbar\": {\"outlinewidth\": 0, \"ticks\": \"\"}}, \"type\": \"histogram\"}], \"histogram2d\": [{\"colorbar\": {\"outlinewidth\": 0, \"ticks\": \"\"}, \"colorscale\": [[0.0, \"#0d0887\"], [0.1111111111111111, \"#46039f\"], [0.2222222222222222, \"#7201a8\"], [0.3333333333333333, \"#9c179e\"], [0.4444444444444444, \"#bd3786\"], [0.5555555555555556, \"#d8576b\"], [0.6666666666666666, \"#ed7953\"], [0.7777777777777778, \"#fb9f3a\"], [0.8888888888888888, \"#fdca26\"], [1.0, \"#f0f921\"]], \"type\": \"histogram2d\"}], \"histogram2dcontour\": [{\"colorbar\": {\"outlinewidth\": 0, \"ticks\": \"\"}, \"colorscale\": [[0.0, \"#0d0887\"], [0.1111111111111111, \"#46039f\"], [0.2222222222222222, \"#7201a8\"], [0.3333333333333333, \"#9c179e\"], [0.4444444444444444, \"#bd3786\"], [0.5555555555555556, \"#d8576b\"], [0.6666666666666666, \"#ed7953\"], [0.7777777777777778, \"#fb9f3a\"], [0.8888888888888888, \"#fdca26\"], [1.0, \"#f0f921\"]], \"type\": \"histogram2dcontour\"}], \"mesh3d\": [{\"colorbar\": {\"outlinewidth\": 0, \"ticks\": \"\"}, \"type\": \"mesh3d\"}], \"parcoords\": [{\"line\": {\"colorbar\": {\"outlinewidth\": 0, \"ticks\": \"\"}}, \"type\": \"parcoords\"}], \"pie\": [{\"automargin\": true, \"type\": \"pie\"}], \"scatter\": [{\"marker\": {\"colorbar\": {\"outlinewidth\": 0, \"ticks\": \"\"}}, \"type\": \"scatter\"}], \"scatter3d\": [{\"line\": {\"colorbar\": {\"outlinewidth\": 0, \"ticks\": \"\"}}, \"marker\": {\"colorbar\": {\"outlinewidth\": 0, \"ticks\": \"\"}}, \"type\": \"scatter3d\"}], \"scattercarpet\": [{\"marker\": {\"colorbar\": {\"outlinewidth\": 0, \"ticks\": \"\"}}, \"type\": \"scattercarpet\"}], \"scattergeo\": [{\"marker\": {\"colorbar\": {\"outlinewidth\": 0, \"ticks\": \"\"}}, \"type\": \"scattergeo\"}], \"scattergl\": [{\"marker\": {\"colorbar\": {\"outlinewidth\": 0, \"ticks\": \"\"}}, \"type\": \"scattergl\"}], \"scattermapbox\": [{\"marker\": {\"colorbar\": {\"outlinewidth\": 0, \"ticks\": \"\"}}, \"type\": \"scattermapbox\"}], \"scatterpolar\": [{\"marker\": {\"colorbar\": {\"outlinewidth\": 0, \"ticks\": \"\"}}, \"type\": \"scatterpolar\"}], \"scatterpolargl\": [{\"marker\": {\"colorbar\": {\"outlinewidth\": 0, \"ticks\": \"\"}}, \"type\": \"scatterpolargl\"}], \"scatterternary\": [{\"marker\": {\"colorbar\": {\"outlinewidth\": 0, \"ticks\": \"\"}}, \"type\": \"scatterternary\"}], \"surface\": [{\"colorbar\": {\"outlinewidth\": 0, \"ticks\": \"\"}, \"colorscale\": [[0.0, \"#0d0887\"], [0.1111111111111111, \"#46039f\"], [0.2222222222222222, \"#7201a8\"], [0.3333333333333333, \"#9c179e\"], [0.4444444444444444, \"#bd3786\"], [0.5555555555555556, \"#d8576b\"], [0.6666666666666666, \"#ed7953\"], [0.7777777777777778, \"#fb9f3a\"], [0.8888888888888888, \"#fdca26\"], [1.0, \"#f0f921\"]], \"type\": \"surface\"}], \"table\": [{\"cells\": {\"fill\": {\"color\": \"#EBF0F8\"}, \"line\": {\"color\": \"white\"}}, \"header\": {\"fill\": {\"color\": \"#C8D4E3\"}, \"line\": {\"color\": \"white\"}}, \"type\": \"table\"}]}, \"layout\": {\"annotationdefaults\": {\"arrowcolor\": \"#2a3f5f\", \"arrowhead\": 0, \"arrowwidth\": 1}, \"coloraxis\": {\"colorbar\": {\"outlinewidth\": 0, \"ticks\": \"\"}}, \"colorscale\": {\"diverging\": [[0, \"#8e0152\"], [0.1, \"#c51b7d\"], [0.2, \"#de77ae\"], [0.3, \"#f1b6da\"], [0.4, \"#fde0ef\"], [0.5, \"#f7f7f7\"], [0.6, \"#e6f5d0\"], [0.7, \"#b8e186\"], [0.8, \"#7fbc41\"], [0.9, \"#4d9221\"], [1, \"#276419\"]], \"sequential\": [[0.0, \"#0d0887\"], [0.1111111111111111, \"#46039f\"], [0.2222222222222222, \"#7201a8\"], [0.3333333333333333, \"#9c179e\"], [0.4444444444444444, \"#bd3786\"], [0.5555555555555556, \"#d8576b\"], [0.6666666666666666, \"#ed7953\"], [0.7777777777777778, \"#fb9f3a\"], [0.8888888888888888, \"#fdca26\"], [1.0, \"#f0f921\"]], \"sequentialminus\": [[0.0, \"#0d0887\"], [0.1111111111111111, \"#46039f\"], [0.2222222222222222, \"#7201a8\"], [0.3333333333333333, \"#9c179e\"], [0.4444444444444444, \"#bd3786\"], [0.5555555555555556, \"#d8576b\"], [0.6666666666666666, \"#ed7953\"], [0.7777777777777778, \"#fb9f3a\"], [0.8888888888888888, \"#fdca26\"], [1.0, \"#f0f921\"]]}, \"colorway\": [\"#636efa\", \"#EF553B\", \"#00cc96\", \"#ab63fa\", \"#FFA15A\", \"#19d3f3\", \"#FF6692\", \"#B6E880\", \"#FF97FF\", \"#FECB52\"], \"font\": {\"color\": \"#2a3f5f\"}, \"geo\": {\"bgcolor\": \"white\", \"lakecolor\": \"white\", \"landcolor\": \"#E5ECF6\", \"showlakes\": true, \"showland\": true, \"subunitcolor\": \"white\"}, \"hoverlabel\": {\"align\": \"left\"}, \"hovermode\": \"closest\", \"mapbox\": {\"style\": \"light\"}, \"paper_bgcolor\": \"white\", \"plot_bgcolor\": \"#E5ECF6\", \"polar\": {\"angularaxis\": {\"gridcolor\": \"white\", \"linecolor\": \"white\", \"ticks\": \"\"}, \"bgcolor\": \"#E5ECF6\", \"radialaxis\": {\"gridcolor\": \"white\", \"linecolor\": \"white\", \"ticks\": \"\"}}, \"scene\": {\"xaxis\": {\"backgroundcolor\": \"#E5ECF6\", \"gridcolor\": \"white\", \"gridwidth\": 2, \"linecolor\": \"white\", \"showbackground\": true, \"ticks\": \"\", \"zerolinecolor\": \"white\"}, \"yaxis\": {\"backgroundcolor\": \"#E5ECF6\", \"gridcolor\": \"white\", \"gridwidth\": 2, \"linecolor\": \"white\", \"showbackground\": true, \"ticks\": \"\", \"zerolinecolor\": \"white\"}, \"zaxis\": {\"backgroundcolor\": \"#E5ECF6\", \"gridcolor\": \"white\", \"gridwidth\": 2, \"linecolor\": \"white\", \"showbackground\": true, \"ticks\": \"\", \"zerolinecolor\": \"white\"}}, \"shapedefaults\": {\"line\": {\"color\": \"#2a3f5f\"}}, \"ternary\": {\"aaxis\": {\"gridcolor\": \"white\", \"linecolor\": \"white\", \"ticks\": \"\"}, \"baxis\": {\"gridcolor\": \"white\", \"linecolor\": \"white\", \"ticks\": \"\"}, \"bgcolor\": \"#E5ECF6\", \"caxis\": {\"gridcolor\": \"white\", \"linecolor\": \"white\", \"ticks\": \"\"}}, \"title\": {\"x\": 0.05}, \"xaxis\": {\"automargin\": true, \"gridcolor\": \"white\", \"linecolor\": \"white\", \"ticks\": \"\", \"title\": {\"standoff\": 15}, \"zerolinecolor\": \"white\", \"zerolinewidth\": 2}, \"yaxis\": {\"automargin\": true, \"gridcolor\": \"white\", \"linecolor\": \"white\", \"ticks\": \"\", \"title\": {\"standoff\": 15}, \"zerolinecolor\": \"white\", \"zerolinewidth\": 2}}}},\n",
              "                        {\"responsive\": true}\n",
              "                    ).then(function(){\n",
              "                            \n",
              "var gd = document.getElementById('2e660377-7962-4d26-84b3-8968396153a5');\n",
              "var x = new MutationObserver(function (mutations, observer) {{\n",
              "        var display = window.getComputedStyle(gd).display;\n",
              "        if (!display || display === 'none') {{\n",
              "            console.log([gd, 'removed!']);\n",
              "            Plotly.purge(gd);\n",
              "            observer.disconnect();\n",
              "        }}\n",
              "}});\n",
              "\n",
              "// Listen for the removal of the full notebook cells\n",
              "var notebookContainer = gd.closest('#notebook-container');\n",
              "if (notebookContainer) {{\n",
              "    x.observe(notebookContainer, {childList: true});\n",
              "}}\n",
              "\n",
              "// Listen for the clearing of the current output cell\n",
              "var outputEl = gd.closest('.output');\n",
              "if (outputEl) {{\n",
              "    x.observe(outputEl, {childList: true});\n",
              "}}\n",
              "\n",
              "                        })\n",
              "                };\n",
              "                });\n",
              "            </script>\n",
              "        </div>"
            ]
          },
          "metadata": {}
        }
      ],
      "execution_count": 14,
      "metadata": {}
    },
    {
      "cell_type": "markdown",
      "source": [
        "The plot below is produced using standard matplotlib tools"
      ],
      "metadata": {}
    },
    {
      "cell_type": "code",
      "source": [
        "import numpy as np\n",
        "import pandas as pd\n",
        "import matplotlib\n",
        "import matplotlib.pyplot as plt\n",
        "import seaborn as sns\n",
        "\n",
        "sns.set(style=\"darkgrid\")\n",
        "\n",
        "mapImg = plt.imread('map.png')\n",
        "bounds = {'long-min':-123.1339,'long-max': -123.0251,'lat-min': 49.2039, 'lat-max':49.2902}\n",
        "box = [bounds['long-min'],bounds['long-max'],bounds['lat-min'],bounds['lat-max']]\n",
        "height = box[3] - box[2]\n",
        "width = box[1] - box[0]\n",
        "aspect = width/height\n",
        "print(width, height)\n",
        "\n",
        "fig, ax = plt.subplots(figsize = (12,12), dpi=300)\n",
        "\n",
        "\n",
        "ax.scatter(areaVizDf['long'], areaVizDf['lat'], zorder=1, alpha= 0.1, c='b', s=areaVizDf['pop']/2)\n",
        "ax.scatter(stopVizDf['long'], stopVizDf['lat'], zorder=1, c='r', s=20)\n",
        "ax.add_patch(plt.Circle(\n",
        "    (areaVizDf['long'][0], areaVizDf['lat'][0]),\n",
        "    radius=0.01,\n",
        "    fill=False,\n",
        "    color='red',\n",
        "    linewidth=3))\n",
        "\n",
        "ax.set_title('Plotting Spatial Data')\n",
        "\n",
        "ax.set_xlim(bounds['long-min'],bounds['long-max'])\n",
        "ax.set_ylim(bounds['lat-min'],bounds['lat-max'])\n",
        "\n",
        "ax.imshow(mapImg, zorder=0, extent = box, interpolation='nearest', aspect='auto')\n",
        "fig.show()"
      ],
      "outputs": [
        {
          "output_type": "error",
          "ename": "ModuleNotFoundError",
          "evalue": "No module named 'seaborn'",
          "traceback": [
            "\u001b[1;31m---------------------------------------------------------------------------\u001b[0m",
            "\u001b[1;31mModuleNotFoundError\u001b[0m                       Traceback (most recent call last)",
            "\u001b[1;32m<ipython-input-11-115aa75f1507>\u001b[0m in \u001b[0;36m<module>\u001b[1;34m\u001b[0m\n\u001b[0;32m      3\u001b[0m \u001b[1;32mimport\u001b[0m \u001b[0mmatplotlib\u001b[0m\u001b[1;33m\u001b[0m\u001b[1;33m\u001b[0m\u001b[0m\n\u001b[0;32m      4\u001b[0m \u001b[1;32mimport\u001b[0m \u001b[0mmatplotlib\u001b[0m\u001b[1;33m.\u001b[0m\u001b[0mpyplot\u001b[0m \u001b[1;32mas\u001b[0m \u001b[0mplt\u001b[0m\u001b[1;33m\u001b[0m\u001b[1;33m\u001b[0m\u001b[0m\n\u001b[1;32m----> 5\u001b[1;33m \u001b[1;32mimport\u001b[0m \u001b[0mseaborn\u001b[0m \u001b[1;32mas\u001b[0m \u001b[0msns\u001b[0m\u001b[1;33m\u001b[0m\u001b[1;33m\u001b[0m\u001b[0m\n\u001b[0m\u001b[0;32m      6\u001b[0m \u001b[1;33m\u001b[0m\u001b[0m\n\u001b[0;32m      7\u001b[0m \u001b[0msns\u001b[0m\u001b[1;33m.\u001b[0m\u001b[0mset\u001b[0m\u001b[1;33m(\u001b[0m\u001b[0mstyle\u001b[0m\u001b[1;33m=\u001b[0m\u001b[1;34m\"darkgrid\"\u001b[0m\u001b[1;33m)\u001b[0m\u001b[1;33m\u001b[0m\u001b[1;33m\u001b[0m\u001b[0m\n",
            "\u001b[1;31mModuleNotFoundError\u001b[0m: No module named 'seaborn'"
          ]
        }
      ],
      "execution_count": 11,
      "metadata": {}
    },
    {
      "cell_type": "code",
      "source": [],
      "outputs": [],
      "execution_count": null,
      "metadata": {}
    }
  ],
  "metadata": {
    "kernelspec": {
      "display_name": "Python 3 Build",
      "language": "python",
      "name": "python3"
    },
    "language_info": {
      "name": "python",
      "version": "3.7.4",
      "mimetype": "text/x-python",
      "codemirror_mode": {
        "name": "ipython",
        "version": 3
      },
      "pygments_lexer": "ipython3",
      "nbconvert_exporter": "python",
      "file_extension": ".py"
    },
    "nteract": {
      "version": "0.21.0"
    }
  },
  "nbformat": 4,
  "nbformat_minor": 4
}