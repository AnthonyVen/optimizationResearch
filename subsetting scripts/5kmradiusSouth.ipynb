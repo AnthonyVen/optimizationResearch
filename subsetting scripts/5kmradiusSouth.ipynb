{
  "cells": [
    {
      "cell_type": "code",
      "source": [
        "import geopy.distance"
      ],
      "outputs": [],
      "execution_count": 9,
      "metadata": {
        "collapsed": false,
        "outputHidden": false,
        "inputHidden": false
      }
    },
    {
      "cell_type": "code",
      "source": [
        "def kmDist(lat1,long1,lat2,long2):\n",
        "    set1 = (lat1,long1)\n",
        "    set2 = (lat2,long2)\n",
        "    return geopy.distance.distance(set1,set2).km"
      ],
      "outputs": [],
      "execution_count": 10,
      "metadata": {
        "collapsed": false,
        "outputHidden": false,
        "inputHidden": false
      }
    },
    {
      "cell_type": "code",
      "source": [
        "kmDist(52.22,21.0122,52.4,16.92)"
      ],
      "outputs": [
        {
          "output_type": "execute_result",
          "execution_count": 11,
          "data": {
            "text/plain": [
              "279.7787313769476"
            ]
          },
          "metadata": {}
        }
      ],
      "execution_count": 11,
      "metadata": {
        "collapsed": false,
        "outputHidden": false,
        "inputHidden": false
      }
    },
    {
      "cell_type": "code",
      "source": [
        "import pandas as pd\n",
        "stopsdf = pd.read_csv(\"../get_stops_data/b20-stops-data/b20-south-stops-data.csv\")"
      ],
      "outputs": [],
      "execution_count": 12,
      "metadata": {
        "collapsed": false,
        "outputHidden": false,
        "inputHidden": false
      }
    },
    {
      "cell_type": "code",
      "source": [
        "stopsdf.head()"
      ],
      "outputs": [
        {
          "output_type": "execute_result",
          "execution_count": 13,
          "data": {
            "text/plain": [
              "   61918   SB RICHARDS ST FS W GEORGIA ST  W GEORGIA ST  N  VANCOUVER  \\\n",
              "0  59040     WB ROBSON ST NS GRANVILLE ST  GRANVILLE ST  N  VANCOUVER   \n",
              "1  61293  NB GRANVILLE ST NS W GEORGIA ST  W GEORGIA ST  N  VANCOUVER   \n",
              "2  60993   NB GRANVILLE ST NS DUNSMUIR ST   DUNSMUIR ST  N  VANCOUVER   \n",
              "3  58313   NB GRANVILLE ST NS W PENDER ST   W PENDER ST  N  VANCOUVER   \n",
              "4  50930   EB W HASTINGS ST FS SEYMOUR ST    SEYMOUR ST  N  VANCOUVER   \n",
              "\n",
              "   49.280899  -123.116794    RICHARDS ST  \\\n",
              "0  49.281280  -123.119551      ROBSON ST   \n",
              "1  49.282317  -123.118291   GRANVILLE ST   \n",
              "2  49.283461  -123.116549   GRANVILLE ST   \n",
              "3  49.284493  -123.114994   GRANVILLE ST   \n",
              "4  49.284334  -123.112551  W HASTINGS ST   \n",
              "\n",
              "                                      020  True  \n",
              "0                                017, 020  True  \n",
              "1  004, 007, 010, 014, 016, 017, 020, 050  True  \n",
              "2  004, 007, 010, 014, 016, 017, 020, 050  True  \n",
              "3  004, 007, 010, 014, 016, 017, 020, 050  True  \n",
              "4                 014, 016, 020, N20, N35  True  "
            ],
            "text/html": [
              "<div>\n",
              "<style scoped>\n",
              "    .dataframe tbody tr th:only-of-type {\n",
              "        vertical-align: middle;\n",
              "    }\n",
              "\n",
              "    .dataframe tbody tr th {\n",
              "        vertical-align: top;\n",
              "    }\n",
              "\n",
              "    .dataframe thead th {\n",
              "        text-align: right;\n",
              "    }\n",
              "</style>\n",
              "<table border=\"1\" class=\"dataframe\">\n",
              "  <thead>\n",
              "    <tr style=\"text-align: right;\">\n",
              "      <th></th>\n",
              "      <th>61918</th>\n",
              "      <th>SB RICHARDS ST FS W GEORGIA ST</th>\n",
              "      <th>W GEORGIA ST</th>\n",
              "      <th>N</th>\n",
              "      <th>VANCOUVER</th>\n",
              "      <th>49.280899</th>\n",
              "      <th>-123.116794</th>\n",
              "      <th>RICHARDS ST</th>\n",
              "      <th>020</th>\n",
              "      <th>True</th>\n",
              "    </tr>\n",
              "  </thead>\n",
              "  <tbody>\n",
              "    <tr>\n",
              "      <th>0</th>\n",
              "      <td>59040</td>\n",
              "      <td>WB ROBSON ST NS GRANVILLE ST</td>\n",
              "      <td>GRANVILLE ST</td>\n",
              "      <td>N</td>\n",
              "      <td>VANCOUVER</td>\n",
              "      <td>49.281280</td>\n",
              "      <td>-123.119551</td>\n",
              "      <td>ROBSON ST</td>\n",
              "      <td>017, 020</td>\n",
              "      <td>True</td>\n",
              "    </tr>\n",
              "    <tr>\n",
              "      <th>1</th>\n",
              "      <td>61293</td>\n",
              "      <td>NB GRANVILLE ST NS W GEORGIA ST</td>\n",
              "      <td>W GEORGIA ST</td>\n",
              "      <td>N</td>\n",
              "      <td>VANCOUVER</td>\n",
              "      <td>49.282317</td>\n",
              "      <td>-123.118291</td>\n",
              "      <td>GRANVILLE ST</td>\n",
              "      <td>004, 007, 010, 014, 016, 017, 020, 050</td>\n",
              "      <td>True</td>\n",
              "    </tr>\n",
              "    <tr>\n",
              "      <th>2</th>\n",
              "      <td>60993</td>\n",
              "      <td>NB GRANVILLE ST NS DUNSMUIR ST</td>\n",
              "      <td>DUNSMUIR ST</td>\n",
              "      <td>N</td>\n",
              "      <td>VANCOUVER</td>\n",
              "      <td>49.283461</td>\n",
              "      <td>-123.116549</td>\n",
              "      <td>GRANVILLE ST</td>\n",
              "      <td>004, 007, 010, 014, 016, 017, 020, 050</td>\n",
              "      <td>True</td>\n",
              "    </tr>\n",
              "    <tr>\n",
              "      <th>3</th>\n",
              "      <td>58313</td>\n",
              "      <td>NB GRANVILLE ST NS W PENDER ST</td>\n",
              "      <td>W PENDER ST</td>\n",
              "      <td>N</td>\n",
              "      <td>VANCOUVER</td>\n",
              "      <td>49.284493</td>\n",
              "      <td>-123.114994</td>\n",
              "      <td>GRANVILLE ST</td>\n",
              "      <td>004, 007, 010, 014, 016, 017, 020, 050</td>\n",
              "      <td>True</td>\n",
              "    </tr>\n",
              "    <tr>\n",
              "      <th>4</th>\n",
              "      <td>50930</td>\n",
              "      <td>EB W HASTINGS ST FS SEYMOUR ST</td>\n",
              "      <td>SEYMOUR ST</td>\n",
              "      <td>N</td>\n",
              "      <td>VANCOUVER</td>\n",
              "      <td>49.284334</td>\n",
              "      <td>-123.112551</td>\n",
              "      <td>W HASTINGS ST</td>\n",
              "      <td>014, 016, 020, N20, N35</td>\n",
              "      <td>True</td>\n",
              "    </tr>\n",
              "  </tbody>\n",
              "</table>\n",
              "</div>"
            ]
          },
          "metadata": {}
        }
      ],
      "execution_count": 13,
      "metadata": {
        "collapsed": false,
        "outputHidden": false,
        "inputHidden": false
      }
    },
    {
      "cell_type": "code",
      "source": [
        "dbdf = pd.read_csv(\"../stats-canada-data/vancouverSubset.csv\",encoding = \"ISO–8859–1\")"
      ],
      "outputs": [],
      "execution_count": 14,
      "metadata": {
        "collapsed": false,
        "outputHidden": false,
        "inputHidden": false
      }
    },
    {
      "cell_type": "code",
      "source": [
        "dbdf.columns"
      ],
      "outputs": [
        {
          "output_type": "execute_result",
          "execution_count": 15,
          "data": {
            "text/plain": [
              "Index(['Unnamed: 0', 'DBuid/IDidu', ' DBpop2016/IDpop2016',\n",
              "       ' DBtdwell2016/IDtlog2016', ' DBurdwell2016/IDrh2016',\n",
              "       ' DBarea2016/IDsup2016', ' DBir2016/IDri2016', ' DAuid/ADidu',\n",
              "       ' DArplamx/ADlamx', ' DArplamy/ADlamy', ' DArplat/Adlat',\n",
              "       ' DArplong/ADlong', ' PRuid/PRidu', ' PRname/PRnom', ' PRename/PRanom',\n",
              "       ' PRfname/PRfnom', ' PReabbr/PRaabbrev', ' PRfabbr/PRfabbrev',\n",
              "       ' FEDuid/CEFidu', ' FEDname/CEFnom', ' ERuid/REidu', ' ERname/REnom',\n",
              "       ' CDuid/DRidu', ' CDname/DRnom', ' CDtype/DRgenre', ' ADAuid/ADAidu',\n",
              "       ' ADAcode', ' CSDuid/SDRidu', ' CSDname/SDRnom', ' CSDtype/SDRgenre',\n",
              "       ' SACtype/CSSgenre', ' SACcode/CSScode', ' CCSuid/SRUidu',\n",
              "       ' CCSname/SRUnom', ' DPLuid/LDidu', ' DPLname/LDnom',\n",
              "       ' DPLtype/LDgenre', ' CMAPuid/RMRPidu', ' CMAuid/RMRidu',\n",
              "       ' CMAname/RMRnom', ' CMAtype/RMRgenre', ' CTuid/SRidu',\n",
              "       ' CTcode/SRcode', ' CTname/SRnom', ' POPCTRRAPuid/CTRPOPRRPidu',\n",
              "       ' POPCTRRAuid/CTRPOPRRidu', ' POPCTRRAname/CTRPOPRRnom',\n",
              "       ' POPCTRRAtype/CTRPOPRRgenre', ' POPCTRRAclass/CTRPOPRRclasse'],\n",
              "      dtype='object')"
            ]
          },
          "metadata": {}
        }
      ],
      "execution_count": 15,
      "metadata": {
        "collapsed": false,
        "outputHidden": false,
        "inputHidden": false
      }
    },
    {
      "cell_type": "code",
      "source": [
        "dbdf.head()"
      ],
      "outputs": [
        {
          "output_type": "execute_result",
          "execution_count": 16,
          "data": {
            "text/plain": [
              "   Unnamed: 0  DBuid/IDidu   DBpop2016/IDpop2016   DBtdwell2016/IDtlog2016  \\\n",
              "0      445092  59151369002                 244.0                      71.0   \n",
              "1      445094  59151364002                 161.0                      56.0   \n",
              "2      445095  59151373002                 347.0                     140.0   \n",
              "3      445098  59151365003                 136.0                      52.0   \n",
              "4      445153  59151449001                 134.0                      83.0   \n",
              "\n",
              "    DBurdwell2016/IDrh2016   DBarea2016/IDsup2016  DBir2016/IDri2016  \\\n",
              "0                     69.0                 0.0385                  F   \n",
              "1                     55.0                 0.0179                  F   \n",
              "2                    124.0                 0.1095                  F   \n",
              "3                     46.0                 0.0167                  F   \n",
              "4                     77.0                 0.0235                  F   \n",
              "\n",
              "    DAuid/ADidu   DArplamx/ADlamx   DArplamy/ADlamy  ...   CMAname/RMRnom  \\\n",
              "0      59151369      4.022986e+06      2.001438e+06  ...        Vancouver   \n",
              "1      59151364      4.022285e+06      2.001400e+06  ...        Vancouver   \n",
              "2      59151373      4.023369e+06      2.001165e+06  ...        Vancouver   \n",
              "3      59151365      4.022499e+06      2.001614e+06  ...        Vancouver   \n",
              "4      59151449      4.021838e+06      2.001493e+06  ...        Vancouver   \n",
              "\n",
              "    CMAtype/RMRgenre   CTuid/SRidu  CTcode/SRcode  CTname/SRnom  \\\n",
              "0                  B    9330036.02           2958         36.02   \n",
              "1                  B    9330036.01           2957         36.01   \n",
              "2                  B    9330036.02           2958         36.02   \n",
              "3                  B    9330036.01           2957         36.01   \n",
              "4                  B    9330035.01           4898         35.01   \n",
              "\n",
              "   POPCTRRAPuid/CTRPOPRRPidu  POPCTRRAuid/CTRPOPRRidu  \\\n",
              "0                     590973                      973   \n",
              "1                     590973                      973   \n",
              "2                     590973                      973   \n",
              "3                     590973                      973   \n",
              "4                     590973                      973   \n",
              "\n",
              "   POPCTRRAname/CTRPOPRRnom   POPCTRRAtype/CTRPOPRRgenre  \\\n",
              "0                 Vancouver                            1   \n",
              "1                 Vancouver                            1   \n",
              "2                 Vancouver                            1   \n",
              "3                 Vancouver                            1   \n",
              "4                 Vancouver                            1   \n",
              "\n",
              "   POPCTRRAclass/CTRPOPRRclasse  \n",
              "0                             4  \n",
              "1                             4  \n",
              "2                             4  \n",
              "3                             4  \n",
              "4                             4  \n",
              "\n",
              "[5 rows x 49 columns]"
            ],
            "text/html": [
              "<div>\n",
              "<style scoped>\n",
              "    .dataframe tbody tr th:only-of-type {\n",
              "        vertical-align: middle;\n",
              "    }\n",
              "\n",
              "    .dataframe tbody tr th {\n",
              "        vertical-align: top;\n",
              "    }\n",
              "\n",
              "    .dataframe thead th {\n",
              "        text-align: right;\n",
              "    }\n",
              "</style>\n",
              "<table border=\"1\" class=\"dataframe\">\n",
              "  <thead>\n",
              "    <tr style=\"text-align: right;\">\n",
              "      <th></th>\n",
              "      <th>Unnamed: 0</th>\n",
              "      <th>DBuid/IDidu</th>\n",
              "      <th>DBpop2016/IDpop2016</th>\n",
              "      <th>DBtdwell2016/IDtlog2016</th>\n",
              "      <th>DBurdwell2016/IDrh2016</th>\n",
              "      <th>DBarea2016/IDsup2016</th>\n",
              "      <th>DBir2016/IDri2016</th>\n",
              "      <th>DAuid/ADidu</th>\n",
              "      <th>DArplamx/ADlamx</th>\n",
              "      <th>DArplamy/ADlamy</th>\n",
              "      <th>...</th>\n",
              "      <th>CMAname/RMRnom</th>\n",
              "      <th>CMAtype/RMRgenre</th>\n",
              "      <th>CTuid/SRidu</th>\n",
              "      <th>CTcode/SRcode</th>\n",
              "      <th>CTname/SRnom</th>\n",
              "      <th>POPCTRRAPuid/CTRPOPRRPidu</th>\n",
              "      <th>POPCTRRAuid/CTRPOPRRidu</th>\n",
              "      <th>POPCTRRAname/CTRPOPRRnom</th>\n",
              "      <th>POPCTRRAtype/CTRPOPRRgenre</th>\n",
              "      <th>POPCTRRAclass/CTRPOPRRclasse</th>\n",
              "    </tr>\n",
              "  </thead>\n",
              "  <tbody>\n",
              "    <tr>\n",
              "      <th>0</th>\n",
              "      <td>445092</td>\n",
              "      <td>59151369002</td>\n",
              "      <td>244.0</td>\n",
              "      <td>71.0</td>\n",
              "      <td>69.0</td>\n",
              "      <td>0.0385</td>\n",
              "      <td>F</td>\n",
              "      <td>59151369</td>\n",
              "      <td>4.022986e+06</td>\n",
              "      <td>2.001438e+06</td>\n",
              "      <td>...</td>\n",
              "      <td>Vancouver</td>\n",
              "      <td>B</td>\n",
              "      <td>9330036.02</td>\n",
              "      <td>2958</td>\n",
              "      <td>36.02</td>\n",
              "      <td>590973</td>\n",
              "      <td>973</td>\n",
              "      <td>Vancouver</td>\n",
              "      <td>1</td>\n",
              "      <td>4</td>\n",
              "    </tr>\n",
              "    <tr>\n",
              "      <th>1</th>\n",
              "      <td>445094</td>\n",
              "      <td>59151364002</td>\n",
              "      <td>161.0</td>\n",
              "      <td>56.0</td>\n",
              "      <td>55.0</td>\n",
              "      <td>0.0179</td>\n",
              "      <td>F</td>\n",
              "      <td>59151364</td>\n",
              "      <td>4.022285e+06</td>\n",
              "      <td>2.001400e+06</td>\n",
              "      <td>...</td>\n",
              "      <td>Vancouver</td>\n",
              "      <td>B</td>\n",
              "      <td>9330036.01</td>\n",
              "      <td>2957</td>\n",
              "      <td>36.01</td>\n",
              "      <td>590973</td>\n",
              "      <td>973</td>\n",
              "      <td>Vancouver</td>\n",
              "      <td>1</td>\n",
              "      <td>4</td>\n",
              "    </tr>\n",
              "    <tr>\n",
              "      <th>2</th>\n",
              "      <td>445095</td>\n",
              "      <td>59151373002</td>\n",
              "      <td>347.0</td>\n",
              "      <td>140.0</td>\n",
              "      <td>124.0</td>\n",
              "      <td>0.1095</td>\n",
              "      <td>F</td>\n",
              "      <td>59151373</td>\n",
              "      <td>4.023369e+06</td>\n",
              "      <td>2.001165e+06</td>\n",
              "      <td>...</td>\n",
              "      <td>Vancouver</td>\n",
              "      <td>B</td>\n",
              "      <td>9330036.02</td>\n",
              "      <td>2958</td>\n",
              "      <td>36.02</td>\n",
              "      <td>590973</td>\n",
              "      <td>973</td>\n",
              "      <td>Vancouver</td>\n",
              "      <td>1</td>\n",
              "      <td>4</td>\n",
              "    </tr>\n",
              "    <tr>\n",
              "      <th>3</th>\n",
              "      <td>445098</td>\n",
              "      <td>59151365003</td>\n",
              "      <td>136.0</td>\n",
              "      <td>52.0</td>\n",
              "      <td>46.0</td>\n",
              "      <td>0.0167</td>\n",
              "      <td>F</td>\n",
              "      <td>59151365</td>\n",
              "      <td>4.022499e+06</td>\n",
              "      <td>2.001614e+06</td>\n",
              "      <td>...</td>\n",
              "      <td>Vancouver</td>\n",
              "      <td>B</td>\n",
              "      <td>9330036.01</td>\n",
              "      <td>2957</td>\n",
              "      <td>36.01</td>\n",
              "      <td>590973</td>\n",
              "      <td>973</td>\n",
              "      <td>Vancouver</td>\n",
              "      <td>1</td>\n",
              "      <td>4</td>\n",
              "    </tr>\n",
              "    <tr>\n",
              "      <th>4</th>\n",
              "      <td>445153</td>\n",
              "      <td>59151449001</td>\n",
              "      <td>134.0</td>\n",
              "      <td>83.0</td>\n",
              "      <td>77.0</td>\n",
              "      <td>0.0235</td>\n",
              "      <td>F</td>\n",
              "      <td>59151449</td>\n",
              "      <td>4.021838e+06</td>\n",
              "      <td>2.001493e+06</td>\n",
              "      <td>...</td>\n",
              "      <td>Vancouver</td>\n",
              "      <td>B</td>\n",
              "      <td>9330035.01</td>\n",
              "      <td>4898</td>\n",
              "      <td>35.01</td>\n",
              "      <td>590973</td>\n",
              "      <td>973</td>\n",
              "      <td>Vancouver</td>\n",
              "      <td>1</td>\n",
              "      <td>4</td>\n",
              "    </tr>\n",
              "  </tbody>\n",
              "</table>\n",
              "<p>5 rows × 49 columns</p>\n",
              "</div>"
            ]
          },
          "metadata": {}
        }
      ],
      "execution_count": 16,
      "metadata": {
        "collapsed": false,
        "outputHidden": false,
        "inputHidden": false
      }
    },
    {
      "cell_type": "code",
      "source": [
        "len(stopsdf)"
      ],
      "outputs": [
        {
          "output_type": "execute_result",
          "execution_count": 17,
          "data": {
            "text/plain": [
              "53"
            ]
          },
          "metadata": {}
        }
      ],
      "execution_count": 17,
      "metadata": {
        "collapsed": false,
        "outputHidden": false,
        "inputHidden": false
      }
    },
    {
      "cell_type": "code",
      "source": [
        "def checkIfWithin5km(long1,lat1,long2,lat2):\n",
        "    return kmDist(long1,lat1,long2,lat2) < 5"
      ],
      "outputs": [],
      "execution_count": 18,
      "metadata": {
        "collapsed": false,
        "outputHidden": false,
        "inputHidden": false
      }
    },
    {
      "cell_type": "code",
      "source": [
        "def classifyThisDbCloseOrNot(dbIndex):\n",
        "    dbLong = dbdf.loc[dbIndex][\" DArplong/ADlong\"]\n",
        "    dbLat = dbdf.loc[dbIndex][\" DArplat/Adlat\"]\n",
        "    \n",
        "    foundCloseStop = False\n",
        "    \n",
        "    for i in range(0,len(stopsdf)):\n",
        "        stopLong = stopsdf.iloc[i][6]\n",
        "        stopLat = stopsdf.iloc[i][5]\n",
        "        #print(\"Compare:\",dbLat,dbLong,stopLat,stopLong)\n",
        "        if checkIfWithin5km(dbLat,dbLong,stopLat,stopLong):\n",
        "            foundCloseStop = True\n",
        "        \n",
        "    return foundCloseStop\n",
        "    "
      ],
      "outputs": [],
      "execution_count": 19,
      "metadata": {
        "collapsed": false,
        "outputHidden": false,
        "inputHidden": false
      }
    },
    {
      "cell_type": "code",
      "source": [
        "classifyThisDbCloseOrNot(0)"
      ],
      "outputs": [
        {
          "output_type": "execute_result",
          "execution_count": 20,
          "data": {
            "text/plain": [
              "True"
            ]
          },
          "metadata": {}
        }
      ],
      "execution_count": 20,
      "metadata": {
        "collapsed": false,
        "outputHidden": false,
        "inputHidden": false
      }
    },
    {
      "cell_type": "code",
      "source": [
        "result = dbdf.copy()"
      ],
      "outputs": [],
      "execution_count": 21,
      "metadata": {
        "collapsed": false,
        "outputHidden": false,
        "inputHidden": false
      }
    },
    {
      "cell_type": "code",
      "source": [
        "result[\"hasCloseStop\"]=0"
      ],
      "outputs": [],
      "execution_count": 22,
      "metadata": {
        "collapsed": false,
        "outputHidden": false,
        "inputHidden": false
      }
    },
    {
      "cell_type": "code",
      "source": [
        "for i in range(0,len(result)):\n",
        "    if i %  100 == 0:\n",
        "        print(i)\n",
        "    closeOrNot = classifyThisDbCloseOrNot(i)\n",
        "    if closeOrNot == True:\n",
        "        result.at[i,\"hasCloseStop\"]=1"
      ],
      "outputs": [
        {
          "output_type": "stream",
          "name": "stdout",
          "text": [
            "0\n",
            "100\n",
            "200\n",
            "300\n",
            "400\n",
            "500\n",
            "600\n",
            "700\n",
            "800\n",
            "900\n",
            "1000\n",
            "1100\n",
            "1200\n",
            "1300\n",
            "1400\n",
            "1500\n",
            "1600\n",
            "1700\n",
            "1800\n",
            "1900\n",
            "2000\n",
            "2100\n",
            "2200\n",
            "2300\n",
            "2400\n",
            "2500\n",
            "2600\n",
            "2700\n",
            "2800\n",
            "2900\n",
            "3000\n",
            "3100\n",
            "3200\n",
            "3300\n",
            "3400\n",
            "3500\n",
            "3600\n",
            "3700\n",
            "3800\n",
            "3900\n",
            "4000\n",
            "4100\n",
            "4200\n",
            "4300\n",
            "4400\n",
            "4500\n"
          ]
        }
      ],
      "execution_count": 23,
      "metadata": {
        "collapsed": false,
        "outputHidden": false,
        "inputHidden": false
      }
    },
    {
      "cell_type": "code",
      "source": [
        "resultSubset = result[result[\"hasCloseStop\"]==1]"
      ],
      "outputs": [],
      "execution_count": 24,
      "metadata": {
        "collapsed": false,
        "outputHidden": false,
        "inputHidden": false
      }
    },
    {
      "cell_type": "code",
      "source": [
        "resultSubset.to_csv(\"dbwithin5kmSouth.csv\",encoding=\"ISO–8859–1\")"
      ],
      "outputs": [],
      "execution_count": 25,
      "metadata": {
        "collapsed": false,
        "outputHidden": false,
        "inputHidden": false
      }
    },
    {
      "cell_type": "code",
      "source": [],
      "outputs": [],
      "execution_count": 26,
      "metadata": {
        "collapsed": false,
        "outputHidden": false,
        "inputHidden": false
      }
    },
    {
      "cell_type": "code",
      "source": [],
      "outputs": [],
      "execution_count": null,
      "metadata": {
        "collapsed": false,
        "outputHidden": false,
        "inputHidden": false
      }
    }
  ],
  "metadata": {
    "kernel_info": {
      "name": "python3"
    },
    "language_info": {
      "name": "python",
      "version": "3.7.4",
      "mimetype": "text/x-python",
      "codemirror_mode": {
        "name": "ipython",
        "version": 3
      },
      "pygments_lexer": "ipython3",
      "nbconvert_exporter": "python",
      "file_extension": ".py"
    },
    "kernelspec": {
      "name": "python3",
      "language": "python",
      "display_name": "Python 3 Build"
    },
    "nteract": {
      "version": "0.15.0"
    }
  },
  "nbformat": 4,
  "nbformat_minor": 0
}