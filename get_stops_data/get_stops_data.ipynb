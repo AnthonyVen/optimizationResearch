{
  "cells": [
    {
      "cell_type": "markdown",
      "source": [
        "In order to run this file. You need Translinks API key which can be obtained from their online service.\n",
        "Once the key is received, create a file called \"key\" in the same directory as this script and place your token there."
      ],
      "metadata": {}
    },
    {
      "cell_type": "code",
      "source": [
        "# init list of stops objects\n",
        "stopsObjNorth = []\n",
        "stopsObjSouth = []"
      ],
      "outputs": [],
      "execution_count": 53,
      "metadata": {}
    },
    {
      "cell_type": "code",
      "source": [
        "\n",
        "from tilapya import RTTI\n",
        "import csv\n",
        "\n",
        "\n",
        "def write_stops_csv(csvDir, stopsList):\n",
        "    \"\"\" Write a CSV file containig bus stops data \n",
        "        Inputs:\n",
        "            csvDir - directory to csv output\n",
        "            stopsList - list of stop opbjects from tilapya API\n",
        "        Output:\n",
        "            csv file.\n",
        "    \"\"\"\n",
        "    \n",
        "    with open(csvDir, 'w', newline='') as csvfile:\n",
        "        writer = csv.writer(csvfile, delimiter=',')\n",
        "\n",
        "        for stopObj in stopsList:\n",
        "            data = [\n",
        "                    stopObj.StopNo,\n",
        "                    stopObj.Name, \n",
        "                    stopObj.AtStreet, \n",
        "                    stopObj.BayNo, \n",
        "                    stopObj.City,\n",
        "                    stopObj.Latitude,\n",
        "                    stopObj.Longitude,\n",
        "                    stopObj.OnStreet,\n",
        "                    stopObj.Routes,\n",
        "                    stopObj.WheelchairAccess\n",
        "                   ]\n",
        "            writer.writerow(data)\n",
        "\n",
        "            \n",
        "            \n",
        "keyFileDir = 'key'\n",
        "csvFileNorthDir = 'b20-north-stops-data.csv'\n",
        "csvFileSouthDir = 'b20-south-stops-data.csv'\n",
        "\n",
        "stopNamesNorthDir = 'b20-stops-names-north'\n",
        "stopNamesSouthDir = 'b20-stops-names-south'\n",
        "\n",
        "stopsNorth = open(stopNamesNorthDir, 'r').readlines()\n",
        "stopsNorth = [stop.rstrip() for stop in stopsNorth]\n",
        "              \n",
        "stopsSouth = open(stopNamesSouthDir, 'r').readlines()\n",
        "stopsSouth = [stop.rstrip() for stop in stopsSouth]\n",
        "\n",
        "\n",
        "# read api key\n",
        "key = open(keyFileDir, 'r').read().rstrip()\n",
        "# init API\n",
        "api = RTTI(key)\n",
        "# get North bound stops and write out data file\n",
        "for stopName in stopsNorth:\n",
        "    stopsObjNorth.append(api.stop(stopName))\n",
        "write_stops_csv(csvFileNorthDir, stopsObjNorth)\n",
        "\n",
        "# get South bound stops data and write out data file\n",
        "for stopName in stopsSouth:\n",
        "    stopsObjSouth.append(api.stop(stopName))\n",
        "write_stops_csv(csvFileSouthDir, stopsObjSouth)\n",
        "\n"
      ],
      "outputs": [],
      "execution_count": 60,
      "metadata": {}
    }
  ],
  "metadata": {
    "kernelspec": {
      "name": "python3",
      "language": "python",
      "display_name": "Python 3 Build"
    },
    "language_info": {
      "name": "python",
      "version": "3.7.4",
      "mimetype": "text/x-python",
      "codemirror_mode": {
        "name": "ipython",
        "version": 3
      },
      "pygments_lexer": "ipython3",
      "nbconvert_exporter": "python",
      "file_extension": ".py"
    },
    "kernel_info": {
      "name": "python3"
    },
    "nteract": {
      "version": "0.15.0"
    }
  },
  "nbformat": 4,
  "nbformat_minor": 2
}