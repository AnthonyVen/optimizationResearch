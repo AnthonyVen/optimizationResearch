{
  "cells": [
    {
      "cell_type": "code",
      "source": [
        "import location as lc\n",
        "import pandas as pd"
      ],
      "outputs": [],
      "execution_count": 3,
      "metadata": {}
    },
    {
      "cell_type": "markdown",
      "source": [
        "For each stop we find neighboring areas within $x$ km"
      ],
      "metadata": {}
    },
    {
      "cell_type": "markdown",
      "source": [
        "Create a data frame for stops which contains StopID, Lat, Long and Connectedness"
      ],
      "metadata": {}
    },
    {
      "cell_type": "markdown",
      "source": [
        "Create a data frame for all Areas which are in proximity to bus stops"
      ],
      "metadata": {}
    },
    {
      "cell_type": "code",
      "source": [
        "with open('../stats-canada-data/lda_000a16a_e.json') as json_file:\n",
        "    areaJson = json.load(json_file)"
      ],
      "outputs": [],
      "execution_count": 19,
      "metadata": {}
    },
    {
      "cell_type": "code",
      "source": [],
      "outputs": [],
      "execution_count": null,
      "metadata": {}
    }
  ],
  "metadata": {
    "kernelspec": {
      "display_name": "optresearch",
      "language": "python",
      "name": "optresearch"
    },
    "language_info": {
      "codemirror_mode": {
        "name": "ipython",
        "version": 3
      },
      "file_extension": ".py",
      "mimetype": "text/x-python",
      "name": "python",
      "nbconvert_exporter": "python",
      "pygments_lexer": "ipython3",
      "version": "3.6.9"
    },
    "nteract": {
      "version": "0.21.0"
    }
  },
  "nbformat": 4,
  "nbformat_minor": 4
}